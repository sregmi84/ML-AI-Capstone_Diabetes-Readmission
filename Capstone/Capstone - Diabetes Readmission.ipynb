{
 "cells": [
  {
   "cell_type": "code",
   "execution_count": 1,
   "id": "cb1cfc64",
   "metadata": {},
   "outputs": [],
   "source": [
    "import pandas as pd\n",
    "import numpy as np\n",
    "import matplotlib.pyplot as plt\n",
    "import seaborn as sns\n",
    "\n",
    "from time import process_time\n",
    "\n",
    "from sklearn.compose import make_column_transformer\n",
    "from sklearn.pipeline import Pipeline\n",
    "from sklearn.model_selection import train_test_split, GridSearchCV, RandomizedSearchCV\n",
    "from sklearn.preprocessing import StandardScaler, OneHotEncoder\n",
    "from sklearn.inspection import permutation_importance\n",
    "\n",
    "from sklearn.dummy import DummyClassifier\n",
    "from sklearn.neighbors import KNeighborsClassifier\n",
    "from sklearn.metrics import classification_report\n",
    "from sklearn.tree import DecisionTreeClassifier, export_text, plot_tree\n",
    "from sklearn.linear_model import LogisticRegression\n",
    "from sklearn.svm import SVC\n",
    "from sklearn.metrics import accuracy_score, recall_score, precision_score, precision_recall_curve, roc_curve\n",
    "from sklearn.metrics import RocCurveDisplay, PrecisionRecallDisplay\n",
    "from sklearn.metrics import confusion_matrix, ConfusionMatrixDisplay\n",
    "\n",
    "from sklearn import set_config\n",
    "set_config(display=\"diagram\")\n",
    "\n",
    "import warnings\n",
    "warnings.filterwarnings('ignore')"
   ]
  },
  {
   "cell_type": "code",
   "execution_count": 25,
   "id": "9c1c2849",
   "metadata": {},
   "outputs": [],
   "source": [
    "#Change current work directory\n",
    "#%pwd\n",
    "#%cd \"Week 20/Capstone\""
   ]
  },
  {
   "cell_type": "markdown",
   "id": "60ccdf40",
   "metadata": {},
   "source": [
    "## Read Data"
   ]
  },
  {
   "cell_type": "code",
   "execution_count": 22,
   "id": "109b5a5f",
   "metadata": {},
   "outputs": [],
   "source": [
    "#Read in the data file\n",
    "df = pd.read_csv('data/diabetic_data.csv', sep = ',')"
   ]
  },
  {
   "cell_type": "markdown",
   "id": "06bfdf98",
   "metadata": {},
   "source": [
    "## Data Exploration and Cleaning"
   ]
  },
  {
   "cell_type": "code",
   "execution_count": 23,
   "id": "3fb92e45",
   "metadata": {},
   "outputs": [
    {
     "name": "stdout",
     "output_type": "stream",
     "text": [
      "<class 'pandas.core.frame.DataFrame'>\n",
      "RangeIndex: 101766 entries, 0 to 101765\n",
      "Data columns (total 50 columns):\n",
      " #   Column                    Non-Null Count   Dtype \n",
      "---  ------                    --------------   ----- \n",
      " 0   encounter_id              101766 non-null  int64 \n",
      " 1   patient_nbr               101766 non-null  int64 \n",
      " 2   race                      101766 non-null  object\n",
      " 3   gender                    101766 non-null  object\n",
      " 4   age                       101766 non-null  object\n",
      " 5   weight                    101766 non-null  object\n",
      " 6   admission_type_id         101766 non-null  int64 \n",
      " 7   discharge_disposition_id  101766 non-null  int64 \n",
      " 8   admission_source_id       101766 non-null  int64 \n",
      " 9   time_in_hospital          101766 non-null  int64 \n",
      " 10  payer_code                101766 non-null  object\n",
      " 11  medical_specialty         101766 non-null  object\n",
      " 12  num_lab_procedures        101766 non-null  int64 \n",
      " 13  num_procedures            101766 non-null  int64 \n",
      " 14  num_medications           101766 non-null  int64 \n",
      " 15  number_outpatient         101766 non-null  int64 \n",
      " 16  number_emergency          101766 non-null  int64 \n",
      " 17  number_inpatient          101766 non-null  int64 \n",
      " 18  diag_1                    101766 non-null  object\n",
      " 19  diag_2                    101766 non-null  object\n",
      " 20  diag_3                    101766 non-null  object\n",
      " 21  number_diagnoses          101766 non-null  int64 \n",
      " 22  max_glu_serum             101766 non-null  object\n",
      " 23  A1Cresult                 101766 non-null  object\n",
      " 24  metformin                 101766 non-null  object\n",
      " 25  repaglinide               101766 non-null  object\n",
      " 26  nateglinide               101766 non-null  object\n",
      " 27  chlorpropamide            101766 non-null  object\n",
      " 28  glimepiride               101766 non-null  object\n",
      " 29  acetohexamide             101766 non-null  object\n",
      " 30  glipizide                 101766 non-null  object\n",
      " 31  glyburide                 101766 non-null  object\n",
      " 32  tolbutamide               101766 non-null  object\n",
      " 33  pioglitazone              101766 non-null  object\n",
      " 34  rosiglitazone             101766 non-null  object\n",
      " 35  acarbose                  101766 non-null  object\n",
      " 36  miglitol                  101766 non-null  object\n",
      " 37  troglitazone              101766 non-null  object\n",
      " 38  tolazamide                101766 non-null  object\n",
      " 39  examide                   101766 non-null  object\n",
      " 40  citoglipton               101766 non-null  object\n",
      " 41  insulin                   101766 non-null  object\n",
      " 42  glyburide-metformin       101766 non-null  object\n",
      " 43  glipizide-metformin       101766 non-null  object\n",
      " 44  glimepiride-pioglitazone  101766 non-null  object\n",
      " 45  metformin-rosiglitazone   101766 non-null  object\n",
      " 46  metformin-pioglitazone    101766 non-null  object\n",
      " 47  change                    101766 non-null  object\n",
      " 48  diabetesMed               101766 non-null  object\n",
      " 49  readmitted                101766 non-null  object\n",
      "dtypes: int64(13), object(37)\n",
      "memory usage: 38.8+ MB\n"
     ]
    }
   ],
   "source": [
    "df.info()"
   ]
  },
  {
   "cell_type": "code",
   "execution_count": 24,
   "id": "75a02eed",
   "metadata": {},
   "outputs": [
    {
     "data": {
      "text/html": [
       "<div>\n",
       "<style scoped>\n",
       "    .dataframe tbody tr th:only-of-type {\n",
       "        vertical-align: middle;\n",
       "    }\n",
       "\n",
       "    .dataframe tbody tr th {\n",
       "        vertical-align: top;\n",
       "    }\n",
       "\n",
       "    .dataframe thead th {\n",
       "        text-align: right;\n",
       "    }\n",
       "</style>\n",
       "<table border=\"1\" class=\"dataframe\">\n",
       "  <thead>\n",
       "    <tr style=\"text-align: right;\">\n",
       "      <th></th>\n",
       "      <th>encounter_id</th>\n",
       "      <th>patient_nbr</th>\n",
       "      <th>race</th>\n",
       "      <th>gender</th>\n",
       "      <th>age</th>\n",
       "      <th>weight</th>\n",
       "      <th>admission_type_id</th>\n",
       "      <th>discharge_disposition_id</th>\n",
       "      <th>admission_source_id</th>\n",
       "      <th>time_in_hospital</th>\n",
       "      <th>...</th>\n",
       "      <th>citoglipton</th>\n",
       "      <th>insulin</th>\n",
       "      <th>glyburide-metformin</th>\n",
       "      <th>glipizide-metformin</th>\n",
       "      <th>glimepiride-pioglitazone</th>\n",
       "      <th>metformin-rosiglitazone</th>\n",
       "      <th>metformin-pioglitazone</th>\n",
       "      <th>change</th>\n",
       "      <th>diabetesMed</th>\n",
       "      <th>readmitted</th>\n",
       "    </tr>\n",
       "  </thead>\n",
       "  <tbody>\n",
       "    <tr>\n",
       "      <th>0</th>\n",
       "      <td>2278392</td>\n",
       "      <td>8222157</td>\n",
       "      <td>Caucasian</td>\n",
       "      <td>Female</td>\n",
       "      <td>[0-10)</td>\n",
       "      <td>?</td>\n",
       "      <td>6</td>\n",
       "      <td>25</td>\n",
       "      <td>1</td>\n",
       "      <td>1</td>\n",
       "      <td>...</td>\n",
       "      <td>No</td>\n",
       "      <td>No</td>\n",
       "      <td>No</td>\n",
       "      <td>No</td>\n",
       "      <td>No</td>\n",
       "      <td>No</td>\n",
       "      <td>No</td>\n",
       "      <td>No</td>\n",
       "      <td>No</td>\n",
       "      <td>NO</td>\n",
       "    </tr>\n",
       "    <tr>\n",
       "      <th>1</th>\n",
       "      <td>149190</td>\n",
       "      <td>55629189</td>\n",
       "      <td>Caucasian</td>\n",
       "      <td>Female</td>\n",
       "      <td>[10-20)</td>\n",
       "      <td>?</td>\n",
       "      <td>1</td>\n",
       "      <td>1</td>\n",
       "      <td>7</td>\n",
       "      <td>3</td>\n",
       "      <td>...</td>\n",
       "      <td>No</td>\n",
       "      <td>Up</td>\n",
       "      <td>No</td>\n",
       "      <td>No</td>\n",
       "      <td>No</td>\n",
       "      <td>No</td>\n",
       "      <td>No</td>\n",
       "      <td>Ch</td>\n",
       "      <td>Yes</td>\n",
       "      <td>&gt;30</td>\n",
       "    </tr>\n",
       "    <tr>\n",
       "      <th>2</th>\n",
       "      <td>64410</td>\n",
       "      <td>86047875</td>\n",
       "      <td>AfricanAmerican</td>\n",
       "      <td>Female</td>\n",
       "      <td>[20-30)</td>\n",
       "      <td>?</td>\n",
       "      <td>1</td>\n",
       "      <td>1</td>\n",
       "      <td>7</td>\n",
       "      <td>2</td>\n",
       "      <td>...</td>\n",
       "      <td>No</td>\n",
       "      <td>No</td>\n",
       "      <td>No</td>\n",
       "      <td>No</td>\n",
       "      <td>No</td>\n",
       "      <td>No</td>\n",
       "      <td>No</td>\n",
       "      <td>No</td>\n",
       "      <td>Yes</td>\n",
       "      <td>NO</td>\n",
       "    </tr>\n",
       "    <tr>\n",
       "      <th>3</th>\n",
       "      <td>500364</td>\n",
       "      <td>82442376</td>\n",
       "      <td>Caucasian</td>\n",
       "      <td>Male</td>\n",
       "      <td>[30-40)</td>\n",
       "      <td>?</td>\n",
       "      <td>1</td>\n",
       "      <td>1</td>\n",
       "      <td>7</td>\n",
       "      <td>2</td>\n",
       "      <td>...</td>\n",
       "      <td>No</td>\n",
       "      <td>Up</td>\n",
       "      <td>No</td>\n",
       "      <td>No</td>\n",
       "      <td>No</td>\n",
       "      <td>No</td>\n",
       "      <td>No</td>\n",
       "      <td>Ch</td>\n",
       "      <td>Yes</td>\n",
       "      <td>NO</td>\n",
       "    </tr>\n",
       "    <tr>\n",
       "      <th>4</th>\n",
       "      <td>16680</td>\n",
       "      <td>42519267</td>\n",
       "      <td>Caucasian</td>\n",
       "      <td>Male</td>\n",
       "      <td>[40-50)</td>\n",
       "      <td>?</td>\n",
       "      <td>1</td>\n",
       "      <td>1</td>\n",
       "      <td>7</td>\n",
       "      <td>1</td>\n",
       "      <td>...</td>\n",
       "      <td>No</td>\n",
       "      <td>Steady</td>\n",
       "      <td>No</td>\n",
       "      <td>No</td>\n",
       "      <td>No</td>\n",
       "      <td>No</td>\n",
       "      <td>No</td>\n",
       "      <td>Ch</td>\n",
       "      <td>Yes</td>\n",
       "      <td>NO</td>\n",
       "    </tr>\n",
       "  </tbody>\n",
       "</table>\n",
       "<p>5 rows × 50 columns</p>\n",
       "</div>"
      ],
      "text/plain": [
       "   encounter_id  patient_nbr             race  gender      age weight  \\\n",
       "0       2278392      8222157        Caucasian  Female   [0-10)      ?   \n",
       "1        149190     55629189        Caucasian  Female  [10-20)      ?   \n",
       "2         64410     86047875  AfricanAmerican  Female  [20-30)      ?   \n",
       "3        500364     82442376        Caucasian    Male  [30-40)      ?   \n",
       "4         16680     42519267        Caucasian    Male  [40-50)      ?   \n",
       "\n",
       "   admission_type_id  discharge_disposition_id  admission_source_id  \\\n",
       "0                  6                        25                    1   \n",
       "1                  1                         1                    7   \n",
       "2                  1                         1                    7   \n",
       "3                  1                         1                    7   \n",
       "4                  1                         1                    7   \n",
       "\n",
       "   time_in_hospital  ... citoglipton insulin  glyburide-metformin  \\\n",
       "0                 1  ...          No      No                   No   \n",
       "1                 3  ...          No      Up                   No   \n",
       "2                 2  ...          No      No                   No   \n",
       "3                 2  ...          No      Up                   No   \n",
       "4                 1  ...          No  Steady                   No   \n",
       "\n",
       "   glipizide-metformin  glimepiride-pioglitazone  metformin-rosiglitazone  \\\n",
       "0                   No                        No                       No   \n",
       "1                   No                        No                       No   \n",
       "2                   No                        No                       No   \n",
       "3                   No                        No                       No   \n",
       "4                   No                        No                       No   \n",
       "\n",
       "   metformin-pioglitazone  change diabetesMed readmitted  \n",
       "0                      No      No          No         NO  \n",
       "1                      No      Ch         Yes        >30  \n",
       "2                      No      No         Yes         NO  \n",
       "3                      No      Ch         Yes         NO  \n",
       "4                      No      Ch         Yes         NO  \n",
       "\n",
       "[5 rows x 50 columns]"
      ]
     },
     "execution_count": 24,
     "metadata": {},
     "output_type": "execute_result"
    }
   ],
   "source": [
    "df.head()"
   ]
  },
  {
   "cell_type": "code",
   "execution_count": 32,
   "id": "d6f2014c",
   "metadata": {},
   "outputs": [
    {
     "data": {
      "text/plain": [
       "(101766, 50)"
      ]
     },
     "execution_count": 32,
     "metadata": {},
     "output_type": "execute_result"
    }
   ],
   "source": [
    "df.shape"
   ]
  },
  {
   "cell_type": "code",
   "execution_count": 28,
   "id": "b43b2fc5",
   "metadata": {},
   "outputs": [],
   "source": [
    "#Replace \"?\" with nan\n",
    "df1 = df.replace(\"?\", np.nan)"
   ]
  },
  {
   "cell_type": "code",
   "execution_count": 30,
   "id": "06994348",
   "metadata": {},
   "outputs": [
    {
     "data": {
      "text/plain": [
       "encounter_id                    0\n",
       "patient_nbr                     0\n",
       "race                         2273\n",
       "gender                          0\n",
       "age                             0\n",
       "weight                      98569\n",
       "admission_type_id               0\n",
       "discharge_disposition_id        0\n",
       "admission_source_id             0\n",
       "time_in_hospital                0\n",
       "payer_code                  40256\n",
       "medical_specialty           49949\n",
       "num_lab_procedures              0\n",
       "num_procedures                  0\n",
       "num_medications                 0\n",
       "number_outpatient               0\n",
       "number_emergency                0\n",
       "number_inpatient                0\n",
       "diag_1                         21\n",
       "diag_2                        358\n",
       "diag_3                       1423\n",
       "number_diagnoses                0\n",
       "max_glu_serum                   0\n",
       "A1Cresult                       0\n",
       "metformin                       0\n",
       "repaglinide                     0\n",
       "nateglinide                     0\n",
       "chlorpropamide                  0\n",
       "glimepiride                     0\n",
       "acetohexamide                   0\n",
       "glipizide                       0\n",
       "glyburide                       0\n",
       "tolbutamide                     0\n",
       "pioglitazone                    0\n",
       "rosiglitazone                   0\n",
       "acarbose                        0\n",
       "miglitol                        0\n",
       "troglitazone                    0\n",
       "tolazamide                      0\n",
       "examide                         0\n",
       "citoglipton                     0\n",
       "insulin                         0\n",
       "glyburide-metformin             0\n",
       "glipizide-metformin             0\n",
       "glimepiride-pioglitazone        0\n",
       "metformin-rosiglitazone         0\n",
       "metformin-pioglitazone          0\n",
       "change                          0\n",
       "diabetesMed                     0\n",
       "readmitted                      0\n",
       "dtype: int64"
      ]
     },
     "execution_count": 30,
     "metadata": {},
     "output_type": "execute_result"
    }
   ],
   "source": [
    "df1.isna().sum()"
   ]
  },
  {
   "cell_type": "markdown",
   "id": "e0afbf39",
   "metadata": {},
   "source": [
    "#### Distribution by Gender"
   ]
  },
  {
   "cell_type": "code",
   "execution_count": 135,
   "id": "56316623",
   "metadata": {},
   "outputs": [
    {
     "data": {
      "image/png": "[encoded data removed]",
      "text/plain": [
       "<Figure size 1152x720 with 1 Axes>"
      ]
     },
     "metadata": {},
     "output_type": "display_data"
    }
   ],
   "source": [
    "plt.subplots(figsize=(16,10))\n",
    "sns.countplot(data=df, x='gender')\n",
    "plt.show()"
   ]
  },
  {
   "cell_type": "markdown",
   "id": "44449a33",
   "metadata": {},
   "source": [
    "#### Distribution by Age"
   ]
  },
  {
   "cell_type": "code",
   "execution_count": 134,
   "id": "1e42253b",
   "metadata": {},
   "outputs": [
    {
     "data": {
      "image/png": "[encoded data removed]",
      "text/plain": [
       "<Figure size 1152x720 with 1 Axes>"
      ]
     },
     "metadata": {},
     "output_type": "display_data"
    }
   ],
   "source": [
    "plt.subplots(figsize=(16,10))\n",
    "sns.countplot(data=df, x='age')\n",
    "plt.show()"
   ]
  },
  {
   "cell_type": "markdown",
   "id": "3dd16eee",
   "metadata": {},
   "source": [
    "### Data Cleaning"
   ]
  },
  {
   "cell_type": "code",
   "execution_count": 80,
   "id": "6dacebf8",
   "metadata": {},
   "outputs": [],
   "source": [
    "#Drop encounter id as it is unique patient encounter per row\n",
    "df1 = df1.drop(['encounter_id'], axis = 1)"
   ]
  },
  {
   "cell_type": "code",
   "execution_count": 106,
   "id": "34d8b142",
   "metadata": {},
   "outputs": [],
   "source": [
    "#Drop patient number too although a patient can have multiple encounters; as other features can identify unique patients somewhat\n",
    "df1 = df1.drop(['patient_nbr'], axis = 1)"
   ]
  },
  {
   "cell_type": "code",
   "execution_count": 33,
   "id": "c17b5c79",
   "metadata": {},
   "outputs": [],
   "source": [
    "#Drop columns with about 50% missing data\n",
    "df1 = df1.drop(['weight', 'payer_code', 'medical_specialty'], axis = 1)"
   ]
  },
  {
   "cell_type": "code",
   "execution_count": 34,
   "id": "13a6f9fc",
   "metadata": {},
   "outputs": [],
   "source": [
    "#Drop because values are always the same\n",
    "df1 = df1.drop(['citoglipton', 'examide'], axis = 1)"
   ]
  },
  {
   "cell_type": "code",
   "execution_count": 35,
   "id": "ffb441bf",
   "metadata": {},
   "outputs": [],
   "source": [
    "#Replace missing age with mean - not needed as all values populated\n",
    "#df1['age'].fillna((df1['age'].mean()), inplace=True)\n",
    "\n",
    "#Replace all other missing values with most frequent values\n",
    "df1 = df1.fillna(df1.mode().iloc[0])"
   ]
  },
  {
   "cell_type": "code",
   "execution_count": 79,
   "id": "921337ba",
   "metadata": {},
   "outputs": [
    {
     "data": {
      "text/html": [
       "<div>\n",
       "<style scoped>\n",
       "    .dataframe tbody tr th:only-of-type {\n",
       "        vertical-align: middle;\n",
       "    }\n",
       "\n",
       "    .dataframe tbody tr th {\n",
       "        vertical-align: top;\n",
       "    }\n",
       "\n",
       "    .dataframe thead th {\n",
       "        text-align: right;\n",
       "    }\n",
       "</style>\n",
       "<table border=\"1\" class=\"dataframe\">\n",
       "  <thead>\n",
       "    <tr style=\"text-align: right;\">\n",
       "      <th></th>\n",
       "      <th>encounter_id</th>\n",
       "      <th>patient_nbr</th>\n",
       "      <th>race</th>\n",
       "      <th>gender</th>\n",
       "      <th>age</th>\n",
       "      <th>admission_type_id</th>\n",
       "      <th>discharge_disposition_id</th>\n",
       "      <th>admission_source_id</th>\n",
       "      <th>time_in_hospital</th>\n",
       "      <th>num_lab_procedures</th>\n",
       "      <th>...</th>\n",
       "      <th>num_medications</th>\n",
       "      <th>number_outpatient</th>\n",
       "      <th>number_emergency</th>\n",
       "      <th>number_inpatient</th>\n",
       "      <th>number_diagnoses</th>\n",
       "      <th>max_glu_serum</th>\n",
       "      <th>A1Cresult</th>\n",
       "      <th>change</th>\n",
       "      <th>diabetesMed</th>\n",
       "      <th>readmitted</th>\n",
       "    </tr>\n",
       "  </thead>\n",
       "  <tbody>\n",
       "    <tr>\n",
       "      <th>0</th>\n",
       "      <td>2278392</td>\n",
       "      <td>8222157</td>\n",
       "      <td>0</td>\n",
       "      <td>1</td>\n",
       "      <td>0</td>\n",
       "      <td>6</td>\n",
       "      <td>25</td>\n",
       "      <td>1</td>\n",
       "      <td>1</td>\n",
       "      <td>41</td>\n",
       "      <td>...</td>\n",
       "      <td>1</td>\n",
       "      <td>0</td>\n",
       "      <td>0</td>\n",
       "      <td>0</td>\n",
       "      <td>1</td>\n",
       "      <td>-1</td>\n",
       "      <td>-1</td>\n",
       "      <td>0</td>\n",
       "      <td>0</td>\n",
       "      <td>0</td>\n",
       "    </tr>\n",
       "    <tr>\n",
       "      <th>1</th>\n",
       "      <td>149190</td>\n",
       "      <td>55629189</td>\n",
       "      <td>0</td>\n",
       "      <td>1</td>\n",
       "      <td>1</td>\n",
       "      <td>1</td>\n",
       "      <td>1</td>\n",
       "      <td>7</td>\n",
       "      <td>3</td>\n",
       "      <td>59</td>\n",
       "      <td>...</td>\n",
       "      <td>18</td>\n",
       "      <td>0</td>\n",
       "      <td>0</td>\n",
       "      <td>0</td>\n",
       "      <td>9</td>\n",
       "      <td>-1</td>\n",
       "      <td>-1</td>\n",
       "      <td>1</td>\n",
       "      <td>1</td>\n",
       "      <td>2</td>\n",
       "    </tr>\n",
       "    <tr>\n",
       "      <th>2</th>\n",
       "      <td>64410</td>\n",
       "      <td>86047875</td>\n",
       "      <td>1</td>\n",
       "      <td>1</td>\n",
       "      <td>2</td>\n",
       "      <td>1</td>\n",
       "      <td>1</td>\n",
       "      <td>7</td>\n",
       "      <td>2</td>\n",
       "      <td>11</td>\n",
       "      <td>...</td>\n",
       "      <td>13</td>\n",
       "      <td>2</td>\n",
       "      <td>0</td>\n",
       "      <td>1</td>\n",
       "      <td>6</td>\n",
       "      <td>-1</td>\n",
       "      <td>-1</td>\n",
       "      <td>0</td>\n",
       "      <td>1</td>\n",
       "      <td>0</td>\n",
       "    </tr>\n",
       "    <tr>\n",
       "      <th>3</th>\n",
       "      <td>500364</td>\n",
       "      <td>82442376</td>\n",
       "      <td>0</td>\n",
       "      <td>0</td>\n",
       "      <td>3</td>\n",
       "      <td>1</td>\n",
       "      <td>1</td>\n",
       "      <td>7</td>\n",
       "      <td>2</td>\n",
       "      <td>44</td>\n",
       "      <td>...</td>\n",
       "      <td>16</td>\n",
       "      <td>0</td>\n",
       "      <td>0</td>\n",
       "      <td>0</td>\n",
       "      <td>7</td>\n",
       "      <td>-1</td>\n",
       "      <td>-1</td>\n",
       "      <td>1</td>\n",
       "      <td>1</td>\n",
       "      <td>0</td>\n",
       "    </tr>\n",
       "    <tr>\n",
       "      <th>4</th>\n",
       "      <td>16680</td>\n",
       "      <td>42519267</td>\n",
       "      <td>0</td>\n",
       "      <td>0</td>\n",
       "      <td>4</td>\n",
       "      <td>1</td>\n",
       "      <td>1</td>\n",
       "      <td>7</td>\n",
       "      <td>1</td>\n",
       "      <td>51</td>\n",
       "      <td>...</td>\n",
       "      <td>8</td>\n",
       "      <td>0</td>\n",
       "      <td>0</td>\n",
       "      <td>0</td>\n",
       "      <td>5</td>\n",
       "      <td>-1</td>\n",
       "      <td>-1</td>\n",
       "      <td>1</td>\n",
       "      <td>1</td>\n",
       "      <td>0</td>\n",
       "    </tr>\n",
       "  </tbody>\n",
       "</table>\n",
       "<p>5 rows × 21 columns</p>\n",
       "</div>"
      ],
      "text/plain": [
       "   encounter_id  patient_nbr  race  gender  age  admission_type_id  \\\n",
       "0       2278392      8222157     0       1    0                  6   \n",
       "1        149190     55629189     0       1    1                  1   \n",
       "2         64410     86047875     1       1    2                  1   \n",
       "3        500364     82442376     0       0    3                  1   \n",
       "4         16680     42519267     0       0    4                  1   \n",
       "\n",
       "   discharge_disposition_id  admission_source_id  time_in_hospital  \\\n",
       "0                        25                    1                 1   \n",
       "1                         1                    7                 3   \n",
       "2                         1                    7                 2   \n",
       "3                         1                    7                 2   \n",
       "4                         1                    7                 1   \n",
       "\n",
       "   num_lab_procedures  ...  num_medications  number_outpatient  \\\n",
       "0                  41  ...                1                  0   \n",
       "1                  59  ...               18                  0   \n",
       "2                  11  ...               13                  2   \n",
       "3                  44  ...               16                  0   \n",
       "4                  51  ...                8                  0   \n",
       "\n",
       "   number_emergency  number_inpatient  number_diagnoses  max_glu_serum  \\\n",
       "0                 0                 0                 1             -1   \n",
       "1                 0                 0                 9             -1   \n",
       "2                 0                 1                 6             -1   \n",
       "3                 0                 0                 7             -1   \n",
       "4                 0                 0                 5             -1   \n",
       "\n",
       "   A1Cresult  change  diabetesMed  readmitted  \n",
       "0         -1       0            0           0  \n",
       "1         -1       1            1           2  \n",
       "2         -1       0            1           0  \n",
       "3         -1       1            1           0  \n",
       "4         -1       1            1           0  \n",
       "\n",
       "[5 rows x 21 columns]"
      ]
     },
     "execution_count": 79,
     "metadata": {},
     "output_type": "execute_result"
    }
   ],
   "source": [
    "df1.head()"
   ]
  },
  {
   "cell_type": "code",
   "execution_count": 75,
   "id": "e8fee91a",
   "metadata": {},
   "outputs": [
    {
     "data": {
      "text/plain": [
       "-1    0.947468\n",
       " 1    0.027013\n",
       " 0    0.025519\n",
       "Name: max_glu_serum, dtype: float64"
      ]
     },
     "execution_count": 75,
     "metadata": {},
     "output_type": "execute_result"
    }
   ],
   "source": [
    "df1.max_glu_serum.value_counts(normalize= True)"
   ]
  },
  {
   "cell_type": "code",
   "execution_count": 39,
   "id": "b4d6ae48",
   "metadata": {},
   "outputs": [],
   "source": [
    "df1['gender'] = df1['gender'].replace(['Male','Female','Unknown/Invalid'], [0,1,2])"
   ]
  },
  {
   "cell_type": "code",
   "execution_count": 53,
   "id": "2085dfc0",
   "metadata": {},
   "outputs": [],
   "source": [
    "df1['race'] = df1['race'].replace(['Caucasian','AfricanAmerican','Hispanic','Asian','Other'], [0,1,2,3,4])"
   ]
  },
  {
   "cell_type": "code",
   "execution_count": 57,
   "id": "85550e05",
   "metadata": {},
   "outputs": [],
   "source": [
    "df1['age'] = df1['age'].map({'[0-10)': 0,'[10-20)' : 1,'[20-30)' : 2, '[30-40)' : 3, '[40-50)' : 4, '[50-60)' : 5,\n",
    "                             '[60-70)' : 6, '[70-80)' : 7, '[80-90)' : 8, '[90-100)' : 9})"
   ]
  },
  {
   "cell_type": "code",
   "execution_count": 59,
   "id": "3153e2f8",
   "metadata": {},
   "outputs": [],
   "source": [
    "df1['change'] = df1['change'].replace(['Ch','No'], [1,0])\n",
    "df1['diabetesMed'] = df1['diabetesMed'].replace(['Yes','No'], [1,0])"
   ]
  },
  {
   "cell_type": "code",
   "execution_count": 71,
   "id": "93dda2de",
   "metadata": {},
   "outputs": [],
   "source": [
    "df1['A1Cresult'] = df1['A1Cresult'].replace(['None','Norm','>7','>8'], [-1,0,1,1])"
   ]
  },
  {
   "cell_type": "code",
   "execution_count": 74,
   "id": "b5f09cb0",
   "metadata": {},
   "outputs": [],
   "source": [
    "df1['max_glu_serum'] = df1['max_glu_serum'].replace(['None','Norm','>200','>300'], [-1,0,1,1])"
   ]
  },
  {
   "cell_type": "code",
   "execution_count": 63,
   "id": "30e6c3a6",
   "metadata": {},
   "outputs": [],
   "source": [
    "df1['readmitted'] = df1['readmitted'].replace(['NO','<30','>30'], [0,1,2])"
   ]
  },
  {
   "cell_type": "code",
   "execution_count": 66,
   "id": "75dc66fc",
   "metadata": {},
   "outputs": [],
   "source": [
    "#Drop individual medicine flags as there is a diabetesMed field that tracks if patient is taking med\n",
    "medicine = ['metformin', 'repaglinide', 'nateglinide', 'chlorpropamide', 'glimepiride',\n",
    "        'glipizide', 'glyburide', 'pioglitazone', 'rosiglitazone', 'acarbose', 'miglitol', \n",
    "        'insulin', 'glyburide-metformin', 'tolazamide', 'metformin-pioglitazone',\n",
    "        'metformin-rosiglitazone', 'glimepiride-pioglitazone', 'glipizide-metformin',\n",
    "        'troglitazone', 'tolbutamide', 'acetohexamide']"
   ]
  },
  {
   "cell_type": "code",
   "execution_count": 67,
   "id": "0a9d9e36",
   "metadata": {},
   "outputs": [],
   "source": [
    "df1 = df1.drop(medicine, axis = 1)"
   ]
  },
  {
   "cell_type": "code",
   "execution_count": 77,
   "id": "812cb05f",
   "metadata": {},
   "outputs": [],
   "source": [
    "#Drop specific diagnoses column and keep number of diagnoeses column\n",
    "df1 = df1.drop(['diag_1','diag_2','diag_3'], axis = 1)"
   ]
  },
  {
   "cell_type": "markdown",
   "id": "30519f2f",
   "metadata": {},
   "source": [
    "### Correlation of numeric variables"
   ]
  },
  {
   "cell_type": "code",
   "execution_count": 107,
   "id": "2a5529ff",
   "metadata": {},
   "outputs": [
    {
     "data": {
      "text/html": [
       "<div>\n",
       "<style scoped>\n",
       "    .dataframe tbody tr th:only-of-type {\n",
       "        vertical-align: middle;\n",
       "    }\n",
       "\n",
       "    .dataframe tbody tr th {\n",
       "        vertical-align: top;\n",
       "    }\n",
       "\n",
       "    .dataframe thead th {\n",
       "        text-align: right;\n",
       "    }\n",
       "</style>\n",
       "<table border=\"1\" class=\"dataframe\">\n",
       "  <thead>\n",
       "    <tr style=\"text-align: right;\">\n",
       "      <th></th>\n",
       "      <th>race</th>\n",
       "      <th>gender</th>\n",
       "      <th>age</th>\n",
       "      <th>admission_type_id</th>\n",
       "      <th>discharge_disposition_id</th>\n",
       "      <th>admission_source_id</th>\n",
       "      <th>time_in_hospital</th>\n",
       "      <th>num_lab_procedures</th>\n",
       "      <th>num_procedures</th>\n",
       "      <th>num_medications</th>\n",
       "      <th>number_outpatient</th>\n",
       "      <th>number_emergency</th>\n",
       "      <th>number_inpatient</th>\n",
       "      <th>number_diagnoses</th>\n",
       "      <th>max_glu_serum</th>\n",
       "      <th>A1Cresult</th>\n",
       "      <th>change</th>\n",
       "      <th>diabetesMed</th>\n",
       "      <th>y</th>\n",
       "    </tr>\n",
       "  </thead>\n",
       "  <tbody>\n",
       "    <tr>\n",
       "      <th>race</th>\n",
       "      <td>1.000000</td>\n",
       "      <td>0.030957</td>\n",
       "      <td>-0.135408</td>\n",
       "      <td>-0.036385</td>\n",
       "      <td>-0.009651</td>\n",
       "      <td>-0.007198</td>\n",
       "      <td>-0.003503</td>\n",
       "      <td>0.011833</td>\n",
       "      <td>-0.014777</td>\n",
       "      <td>-0.054676</td>\n",
       "      <td>-0.042413</td>\n",
       "      <td>0.021569</td>\n",
       "      <td>-0.002449</td>\n",
       "      <td>-0.075796</td>\n",
       "      <td>-0.026021</td>\n",
       "      <td>0.032618</td>\n",
       "      <td>0.009990</td>\n",
       "      <td>0.005056</td>\n",
       "      <td>-0.024628</td>\n",
       "    </tr>\n",
       "    <tr>\n",
       "      <th>gender</th>\n",
       "      <td>0.030957</td>\n",
       "      <td>1.000000</td>\n",
       "      <td>0.050600</td>\n",
       "      <td>-0.014636</td>\n",
       "      <td>0.020991</td>\n",
       "      <td>0.003810</td>\n",
       "      <td>0.029866</td>\n",
       "      <td>0.003021</td>\n",
       "      <td>-0.059843</td>\n",
       "      <td>0.022030</td>\n",
       "      <td>0.011430</td>\n",
       "      <td>0.021043</td>\n",
       "      <td>0.014554</td>\n",
       "      <td>0.003277</td>\n",
       "      <td>0.002473</td>\n",
       "      <td>-0.022761</td>\n",
       "      <td>-0.014832</td>\n",
       "      <td>-0.015945</td>\n",
       "      <td>0.017923</td>\n",
       "    </tr>\n",
       "    <tr>\n",
       "      <th>age</th>\n",
       "      <td>-0.135408</td>\n",
       "      <td>0.050600</td>\n",
       "      <td>1.000000</td>\n",
       "      <td>-0.007209</td>\n",
       "      <td>0.114323</td>\n",
       "      <td>0.044696</td>\n",
       "      <td>0.107515</td>\n",
       "      <td>0.020770</td>\n",
       "      <td>-0.030104</td>\n",
       "      <td>0.041847</td>\n",
       "      <td>0.023724</td>\n",
       "      <td>-0.087291</td>\n",
       "      <td>-0.042861</td>\n",
       "      <td>0.242597</td>\n",
       "      <td>0.029727</td>\n",
       "      <td>-0.128407</td>\n",
       "      <td>-0.036019</td>\n",
       "      <td>-0.022601</td>\n",
       "      <td>0.030403</td>\n",
       "    </tr>\n",
       "    <tr>\n",
       "      <th>admission_type_id</th>\n",
       "      <td>-0.036385</td>\n",
       "      <td>-0.014636</td>\n",
       "      <td>-0.007209</td>\n",
       "      <td>1.000000</td>\n",
       "      <td>0.083483</td>\n",
       "      <td>0.106654</td>\n",
       "      <td>-0.012500</td>\n",
       "      <td>-0.143713</td>\n",
       "      <td>0.129888</td>\n",
       "      <td>0.079535</td>\n",
       "      <td>0.026511</td>\n",
       "      <td>-0.019116</td>\n",
       "      <td>-0.038161</td>\n",
       "      <td>-0.117126</td>\n",
       "      <td>0.382406</td>\n",
       "      <td>-0.046977</td>\n",
       "      <td>0.007274</td>\n",
       "      <td>-0.000310</td>\n",
       "      <td>-0.004923</td>\n",
       "    </tr>\n",
       "    <tr>\n",
       "      <th>discharge_disposition_id</th>\n",
       "      <td>-0.009651</td>\n",
       "      <td>0.020991</td>\n",
       "      <td>0.114323</td>\n",
       "      <td>0.083483</td>\n",
       "      <td>1.000000</td>\n",
       "      <td>0.018193</td>\n",
       "      <td>0.162748</td>\n",
       "      <td>0.023415</td>\n",
       "      <td>0.015921</td>\n",
       "      <td>0.108753</td>\n",
       "      <td>-0.008715</td>\n",
       "      <td>-0.024471</td>\n",
       "      <td>0.020787</td>\n",
       "      <td>0.046891</td>\n",
       "      <td>0.044663</td>\n",
       "      <td>-0.021016</td>\n",
       "      <td>-0.012307</td>\n",
       "      <td>-0.028887</td>\n",
       "      <td>-0.014852</td>\n",
       "    </tr>\n",
       "    <tr>\n",
       "      <th>admission_source_id</th>\n",
       "      <td>-0.007198</td>\n",
       "      <td>0.003810</td>\n",
       "      <td>0.044696</td>\n",
       "      <td>0.106654</td>\n",
       "      <td>0.018193</td>\n",
       "      <td>1.000000</td>\n",
       "      <td>-0.006965</td>\n",
       "      <td>0.048885</td>\n",
       "      <td>-0.135400</td>\n",
       "      <td>-0.054533</td>\n",
       "      <td>0.027244</td>\n",
       "      <td>0.059892</td>\n",
       "      <td>0.036314</td>\n",
       "      <td>0.072114</td>\n",
       "      <td>0.444999</td>\n",
       "      <td>0.003318</td>\n",
       "      <td>0.002435</td>\n",
       "      <td>0.001500</td>\n",
       "      <td>0.039986</td>\n",
       "    </tr>\n",
       "    <tr>\n",
       "      <th>time_in_hospital</th>\n",
       "      <td>-0.003503</td>\n",
       "      <td>0.029866</td>\n",
       "      <td>0.107515</td>\n",
       "      <td>-0.012500</td>\n",
       "      <td>0.162748</td>\n",
       "      <td>-0.006965</td>\n",
       "      <td>1.000000</td>\n",
       "      <td>0.318450</td>\n",
       "      <td>0.191472</td>\n",
       "      <td>0.466135</td>\n",
       "      <td>-0.008916</td>\n",
       "      <td>-0.009681</td>\n",
       "      <td>0.073623</td>\n",
       "      <td>0.220186</td>\n",
       "      <td>0.022651</td>\n",
       "      <td>0.060527</td>\n",
       "      <td>0.109173</td>\n",
       "      <td>0.062520</td>\n",
       "      <td>0.051289</td>\n",
       "    </tr>\n",
       "    <tr>\n",
       "      <th>num_lab_procedures</th>\n",
       "      <td>0.011833</td>\n",
       "      <td>0.003021</td>\n",
       "      <td>0.020770</td>\n",
       "      <td>-0.143713</td>\n",
       "      <td>0.023415</td>\n",
       "      <td>0.048885</td>\n",
       "      <td>0.318450</td>\n",
       "      <td>1.000000</td>\n",
       "      <td>0.058066</td>\n",
       "      <td>0.268161</td>\n",
       "      <td>-0.007602</td>\n",
       "      <td>-0.002279</td>\n",
       "      <td>0.039231</td>\n",
       "      <td>0.152773</td>\n",
       "      <td>-0.144569</td>\n",
       "      <td>0.246460</td>\n",
       "      <td>0.063958</td>\n",
       "      <td>0.033107</td>\n",
       "      <td>0.039253</td>\n",
       "    </tr>\n",
       "    <tr>\n",
       "      <th>num_procedures</th>\n",
       "      <td>-0.014777</td>\n",
       "      <td>-0.059843</td>\n",
       "      <td>-0.030104</td>\n",
       "      <td>0.129888</td>\n",
       "      <td>0.015921</td>\n",
       "      <td>-0.135400</td>\n",
       "      <td>0.191472</td>\n",
       "      <td>0.058066</td>\n",
       "      <td>1.000000</td>\n",
       "      <td>0.385767</td>\n",
       "      <td>-0.024819</td>\n",
       "      <td>-0.038179</td>\n",
       "      <td>-0.066236</td>\n",
       "      <td>0.073734</td>\n",
       "      <td>-0.073352</td>\n",
       "      <td>-0.011813</td>\n",
       "      <td>0.004448</td>\n",
       "      <td>-0.006821</td>\n",
       "      <td>-0.044748</td>\n",
       "    </tr>\n",
       "    <tr>\n",
       "      <th>num_medications</th>\n",
       "      <td>-0.054676</td>\n",
       "      <td>0.022030</td>\n",
       "      <td>0.041847</td>\n",
       "      <td>0.079535</td>\n",
       "      <td>0.108753</td>\n",
       "      <td>-0.054533</td>\n",
       "      <td>0.466135</td>\n",
       "      <td>0.268161</td>\n",
       "      <td>0.385767</td>\n",
       "      <td>1.000000</td>\n",
       "      <td>0.045197</td>\n",
       "      <td>0.013180</td>\n",
       "      <td>0.064194</td>\n",
       "      <td>0.261526</td>\n",
       "      <td>-0.005860</td>\n",
       "      <td>0.018510</td>\n",
       "      <td>0.246846</td>\n",
       "      <td>0.186910</td>\n",
       "      <td>0.046772</td>\n",
       "    </tr>\n",
       "    <tr>\n",
       "      <th>number_outpatient</th>\n",
       "      <td>-0.042413</td>\n",
       "      <td>0.011430</td>\n",
       "      <td>0.023724</td>\n",
       "      <td>0.026511</td>\n",
       "      <td>-0.008715</td>\n",
       "      <td>0.027244</td>\n",
       "      <td>-0.008916</td>\n",
       "      <td>-0.007602</td>\n",
       "      <td>-0.024819</td>\n",
       "      <td>0.045197</td>\n",
       "      <td>1.000000</td>\n",
       "      <td>0.091459</td>\n",
       "      <td>0.107338</td>\n",
       "      <td>0.094152</td>\n",
       "      <td>0.050498</td>\n",
       "      <td>-0.022860</td>\n",
       "      <td>0.024794</td>\n",
       "      <td>0.016456</td>\n",
       "      <td>0.082142</td>\n",
       "    </tr>\n",
       "    <tr>\n",
       "      <th>number_emergency</th>\n",
       "      <td>0.021569</td>\n",
       "      <td>0.021043</td>\n",
       "      <td>-0.087291</td>\n",
       "      <td>-0.019116</td>\n",
       "      <td>-0.024471</td>\n",
       "      <td>0.059892</td>\n",
       "      <td>-0.009681</td>\n",
       "      <td>-0.002279</td>\n",
       "      <td>-0.038179</td>\n",
       "      <td>0.013180</td>\n",
       "      <td>0.091459</td>\n",
       "      <td>1.000000</td>\n",
       "      <td>0.266559</td>\n",
       "      <td>0.055539</td>\n",
       "      <td>0.032315</td>\n",
       "      <td>-0.009618</td>\n",
       "      <td>0.038818</td>\n",
       "      <td>0.025923</td>\n",
       "      <td>0.103011</td>\n",
       "    </tr>\n",
       "    <tr>\n",
       "      <th>number_inpatient</th>\n",
       "      <td>-0.002449</td>\n",
       "      <td>0.014554</td>\n",
       "      <td>-0.042861</td>\n",
       "      <td>-0.038161</td>\n",
       "      <td>0.020787</td>\n",
       "      <td>0.036314</td>\n",
       "      <td>0.073623</td>\n",
       "      <td>0.039231</td>\n",
       "      <td>-0.066236</td>\n",
       "      <td>0.064194</td>\n",
       "      <td>0.107338</td>\n",
       "      <td>0.266559</td>\n",
       "      <td>1.000000</td>\n",
       "      <td>0.104710</td>\n",
       "      <td>0.026942</td>\n",
       "      <td>-0.058696</td>\n",
       "      <td>0.024042</td>\n",
       "      <td>0.026001</td>\n",
       "      <td>0.217194</td>\n",
       "    </tr>\n",
       "    <tr>\n",
       "      <th>number_diagnoses</th>\n",
       "      <td>-0.075796</td>\n",
       "      <td>0.003277</td>\n",
       "      <td>0.242597</td>\n",
       "      <td>-0.117126</td>\n",
       "      <td>0.046891</td>\n",
       "      <td>0.072114</td>\n",
       "      <td>0.220186</td>\n",
       "      <td>0.152773</td>\n",
       "      <td>0.073734</td>\n",
       "      <td>0.261526</td>\n",
       "      <td>0.094152</td>\n",
       "      <td>0.055539</td>\n",
       "      <td>0.104710</td>\n",
       "      <td>1.000000</td>\n",
       "      <td>-0.046245</td>\n",
       "      <td>-0.021214</td>\n",
       "      <td>0.053106</td>\n",
       "      <td>0.021186</td>\n",
       "      <td>0.112564</td>\n",
       "    </tr>\n",
       "    <tr>\n",
       "      <th>max_glu_serum</th>\n",
       "      <td>-0.026021</td>\n",
       "      <td>0.002473</td>\n",
       "      <td>0.029727</td>\n",
       "      <td>0.382406</td>\n",
       "      <td>0.044663</td>\n",
       "      <td>0.444999</td>\n",
       "      <td>0.022651</td>\n",
       "      <td>-0.144569</td>\n",
       "      <td>-0.073352</td>\n",
       "      <td>-0.005860</td>\n",
       "      <td>0.050498</td>\n",
       "      <td>0.032315</td>\n",
       "      <td>0.026942</td>\n",
       "      <td>-0.046245</td>\n",
       "      <td>1.000000</td>\n",
       "      <td>-0.057764</td>\n",
       "      <td>0.008095</td>\n",
       "      <td>-0.003430</td>\n",
       "      <td>0.015649</td>\n",
       "    </tr>\n",
       "    <tr>\n",
       "      <th>A1Cresult</th>\n",
       "      <td>0.032618</td>\n",
       "      <td>-0.022761</td>\n",
       "      <td>-0.128407</td>\n",
       "      <td>-0.046977</td>\n",
       "      <td>-0.021016</td>\n",
       "      <td>0.003318</td>\n",
       "      <td>0.060527</td>\n",
       "      <td>0.246460</td>\n",
       "      <td>-0.011813</td>\n",
       "      <td>0.018510</td>\n",
       "      <td>-0.022860</td>\n",
       "      <td>-0.009618</td>\n",
       "      <td>-0.058696</td>\n",
       "      <td>-0.021214</td>\n",
       "      <td>-0.057764</td>\n",
       "      <td>1.000000</td>\n",
       "      <td>0.099686</td>\n",
       "      <td>0.082227</td>\n",
       "      <td>-0.015321</td>\n",
       "    </tr>\n",
       "    <tr>\n",
       "      <th>change</th>\n",
       "      <td>0.009990</td>\n",
       "      <td>-0.014832</td>\n",
       "      <td>-0.036019</td>\n",
       "      <td>0.007274</td>\n",
       "      <td>-0.012307</td>\n",
       "      <td>0.002435</td>\n",
       "      <td>0.109173</td>\n",
       "      <td>0.063958</td>\n",
       "      <td>0.004448</td>\n",
       "      <td>0.246846</td>\n",
       "      <td>0.024794</td>\n",
       "      <td>0.038818</td>\n",
       "      <td>0.024042</td>\n",
       "      <td>0.053106</td>\n",
       "      <td>0.008095</td>\n",
       "      <td>0.099686</td>\n",
       "      <td>1.000000</td>\n",
       "      <td>0.506370</td>\n",
       "      <td>0.046008</td>\n",
       "    </tr>\n",
       "    <tr>\n",
       "      <th>diabetesMed</th>\n",
       "      <td>0.005056</td>\n",
       "      <td>-0.015945</td>\n",
       "      <td>-0.022601</td>\n",
       "      <td>-0.000310</td>\n",
       "      <td>-0.028887</td>\n",
       "      <td>0.001500</td>\n",
       "      <td>0.062520</td>\n",
       "      <td>0.033107</td>\n",
       "      <td>-0.006821</td>\n",
       "      <td>0.186910</td>\n",
       "      <td>0.016456</td>\n",
       "      <td>0.025923</td>\n",
       "      <td>0.026001</td>\n",
       "      <td>0.021186</td>\n",
       "      <td>-0.003430</td>\n",
       "      <td>0.082227</td>\n",
       "      <td>0.506370</td>\n",
       "      <td>1.000000</td>\n",
       "      <td>0.061508</td>\n",
       "    </tr>\n",
       "    <tr>\n",
       "      <th>y</th>\n",
       "      <td>-0.024628</td>\n",
       "      <td>0.017923</td>\n",
       "      <td>0.030403</td>\n",
       "      <td>-0.004923</td>\n",
       "      <td>-0.014852</td>\n",
       "      <td>0.039986</td>\n",
       "      <td>0.051289</td>\n",
       "      <td>0.039253</td>\n",
       "      <td>-0.044748</td>\n",
       "      <td>0.046772</td>\n",
       "      <td>0.082142</td>\n",
       "      <td>0.103011</td>\n",
       "      <td>0.217194</td>\n",
       "      <td>0.112564</td>\n",
       "      <td>0.015649</td>\n",
       "      <td>-0.015321</td>\n",
       "      <td>0.046008</td>\n",
       "      <td>0.061508</td>\n",
       "      <td>1.000000</td>\n",
       "    </tr>\n",
       "  </tbody>\n",
       "</table>\n",
       "</div>"
      ],
      "text/plain": [
       "                              race    gender       age  admission_type_id  \\\n",
       "race                      1.000000  0.030957 -0.135408          -0.036385   \n",
       "gender                    0.030957  1.000000  0.050600          -0.014636   \n",
       "age                      -0.135408  0.050600  1.000000          -0.007209   \n",
       "admission_type_id        -0.036385 -0.014636 -0.007209           1.000000   \n",
       "discharge_disposition_id -0.009651  0.020991  0.114323           0.083483   \n",
       "admission_source_id      -0.007198  0.003810  0.044696           0.106654   \n",
       "time_in_hospital         -0.003503  0.029866  0.107515          -0.012500   \n",
       "num_lab_procedures        0.011833  0.003021  0.020770          -0.143713   \n",
       "num_procedures           -0.014777 -0.059843 -0.030104           0.129888   \n",
       "num_medications          -0.054676  0.022030  0.041847           0.079535   \n",
       "number_outpatient        -0.042413  0.011430  0.023724           0.026511   \n",
       "number_emergency          0.021569  0.021043 -0.087291          -0.019116   \n",
       "number_inpatient         -0.002449  0.014554 -0.042861          -0.038161   \n",
       "number_diagnoses         -0.075796  0.003277  0.242597          -0.117126   \n",
       "max_glu_serum            -0.026021  0.002473  0.029727           0.382406   \n",
       "A1Cresult                 0.032618 -0.022761 -0.128407          -0.046977   \n",
       "change                    0.009990 -0.014832 -0.036019           0.007274   \n",
       "diabetesMed               0.005056 -0.015945 -0.022601          -0.000310   \n",
       "y                        -0.024628  0.017923  0.030403          -0.004923   \n",
       "\n",
       "                          discharge_disposition_id  admission_source_id  \\\n",
       "race                                     -0.009651            -0.007198   \n",
       "gender                                    0.020991             0.003810   \n",
       "age                                       0.114323             0.044696   \n",
       "admission_type_id                         0.083483             0.106654   \n",
       "discharge_disposition_id                  1.000000             0.018193   \n",
       "admission_source_id                       0.018193             1.000000   \n",
       "time_in_hospital                          0.162748            -0.006965   \n",
       "num_lab_procedures                        0.023415             0.048885   \n",
       "num_procedures                            0.015921            -0.135400   \n",
       "num_medications                           0.108753            -0.054533   \n",
       "number_outpatient                        -0.008715             0.027244   \n",
       "number_emergency                         -0.024471             0.059892   \n",
       "number_inpatient                          0.020787             0.036314   \n",
       "number_diagnoses                          0.046891             0.072114   \n",
       "max_glu_serum                             0.044663             0.444999   \n",
       "A1Cresult                                -0.021016             0.003318   \n",
       "change                                   -0.012307             0.002435   \n",
       "diabetesMed                              -0.028887             0.001500   \n",
       "y                                        -0.014852             0.039986   \n",
       "\n",
       "                          time_in_hospital  num_lab_procedures  \\\n",
       "race                             -0.003503            0.011833   \n",
       "gender                            0.029866            0.003021   \n",
       "age                               0.107515            0.020770   \n",
       "admission_type_id                -0.012500           -0.143713   \n",
       "discharge_disposition_id          0.162748            0.023415   \n",
       "admission_source_id              -0.006965            0.048885   \n",
       "time_in_hospital                  1.000000            0.318450   \n",
       "num_lab_procedures                0.318450            1.000000   \n",
       "num_procedures                    0.191472            0.058066   \n",
       "num_medications                   0.466135            0.268161   \n",
       "number_outpatient                -0.008916           -0.007602   \n",
       "number_emergency                 -0.009681           -0.002279   \n",
       "number_inpatient                  0.073623            0.039231   \n",
       "number_diagnoses                  0.220186            0.152773   \n",
       "max_glu_serum                     0.022651           -0.144569   \n",
       "A1Cresult                         0.060527            0.246460   \n",
       "change                            0.109173            0.063958   \n",
       "diabetesMed                       0.062520            0.033107   \n",
       "y                                 0.051289            0.039253   \n",
       "\n",
       "                          num_procedures  num_medications  number_outpatient  \\\n",
       "race                           -0.014777        -0.054676          -0.042413   \n",
       "gender                         -0.059843         0.022030           0.011430   \n",
       "age                            -0.030104         0.041847           0.023724   \n",
       "admission_type_id               0.129888         0.079535           0.026511   \n",
       "discharge_disposition_id        0.015921         0.108753          -0.008715   \n",
       "admission_source_id            -0.135400        -0.054533           0.027244   \n",
       "time_in_hospital                0.191472         0.466135          -0.008916   \n",
       "num_lab_procedures              0.058066         0.268161          -0.007602   \n",
       "num_procedures                  1.000000         0.385767          -0.024819   \n",
       "num_medications                 0.385767         1.000000           0.045197   \n",
       "number_outpatient              -0.024819         0.045197           1.000000   \n",
       "number_emergency               -0.038179         0.013180           0.091459   \n",
       "number_inpatient               -0.066236         0.064194           0.107338   \n",
       "number_diagnoses                0.073734         0.261526           0.094152   \n",
       "max_glu_serum                  -0.073352        -0.005860           0.050498   \n",
       "A1Cresult                      -0.011813         0.018510          -0.022860   \n",
       "change                          0.004448         0.246846           0.024794   \n",
       "diabetesMed                    -0.006821         0.186910           0.016456   \n",
       "y                              -0.044748         0.046772           0.082142   \n",
       "\n",
       "                          number_emergency  number_inpatient  \\\n",
       "race                              0.021569         -0.002449   \n",
       "gender                            0.021043          0.014554   \n",
       "age                              -0.087291         -0.042861   \n",
       "admission_type_id                -0.019116         -0.038161   \n",
       "discharge_disposition_id         -0.024471          0.020787   \n",
       "admission_source_id               0.059892          0.036314   \n",
       "time_in_hospital                 -0.009681          0.073623   \n",
       "num_lab_procedures               -0.002279          0.039231   \n",
       "num_procedures                   -0.038179         -0.066236   \n",
       "num_medications                   0.013180          0.064194   \n",
       "number_outpatient                 0.091459          0.107338   \n",
       "number_emergency                  1.000000          0.266559   \n",
       "number_inpatient                  0.266559          1.000000   \n",
       "number_diagnoses                  0.055539          0.104710   \n",
       "max_glu_serum                     0.032315          0.026942   \n",
       "A1Cresult                        -0.009618         -0.058696   \n",
       "change                            0.038818          0.024042   \n",
       "diabetesMed                       0.025923          0.026001   \n",
       "y                                 0.103011          0.217194   \n",
       "\n",
       "                          number_diagnoses  max_glu_serum  A1Cresult  \\\n",
       "race                             -0.075796      -0.026021   0.032618   \n",
       "gender                            0.003277       0.002473  -0.022761   \n",
       "age                               0.242597       0.029727  -0.128407   \n",
       "admission_type_id                -0.117126       0.382406  -0.046977   \n",
       "discharge_disposition_id          0.046891       0.044663  -0.021016   \n",
       "admission_source_id               0.072114       0.444999   0.003318   \n",
       "time_in_hospital                  0.220186       0.022651   0.060527   \n",
       "num_lab_procedures                0.152773      -0.144569   0.246460   \n",
       "num_procedures                    0.073734      -0.073352  -0.011813   \n",
       "num_medications                   0.261526      -0.005860   0.018510   \n",
       "number_outpatient                 0.094152       0.050498  -0.022860   \n",
       "number_emergency                  0.055539       0.032315  -0.009618   \n",
       "number_inpatient                  0.104710       0.026942  -0.058696   \n",
       "number_diagnoses                  1.000000      -0.046245  -0.021214   \n",
       "max_glu_serum                    -0.046245       1.000000  -0.057764   \n",
       "A1Cresult                        -0.021214      -0.057764   1.000000   \n",
       "change                            0.053106       0.008095   0.099686   \n",
       "diabetesMed                       0.021186      -0.003430   0.082227   \n",
       "y                                 0.112564       0.015649  -0.015321   \n",
       "\n",
       "                            change  diabetesMed         y  \n",
       "race                      0.009990     0.005056 -0.024628  \n",
       "gender                   -0.014832    -0.015945  0.017923  \n",
       "age                      -0.036019    -0.022601  0.030403  \n",
       "admission_type_id         0.007274    -0.000310 -0.004923  \n",
       "discharge_disposition_id -0.012307    -0.028887 -0.014852  \n",
       "admission_source_id       0.002435     0.001500  0.039986  \n",
       "time_in_hospital          0.109173     0.062520  0.051289  \n",
       "num_lab_procedures        0.063958     0.033107  0.039253  \n",
       "num_procedures            0.004448    -0.006821 -0.044748  \n",
       "num_medications           0.246846     0.186910  0.046772  \n",
       "number_outpatient         0.024794     0.016456  0.082142  \n",
       "number_emergency          0.038818     0.025923  0.103011  \n",
       "number_inpatient          0.024042     0.026001  0.217194  \n",
       "number_diagnoses          0.053106     0.021186  0.112564  \n",
       "max_glu_serum             0.008095    -0.003430  0.015649  \n",
       "A1Cresult                 0.099686     0.082227 -0.015321  \n",
       "change                    1.000000     0.506370  0.046008  \n",
       "diabetesMed               0.506370     1.000000  0.061508  \n",
       "y                         0.046008     0.061508  1.000000  "
      ]
     },
     "execution_count": 107,
     "metadata": {},
     "output_type": "execute_result"
    }
   ],
   "source": [
    "df1.corr()"
   ]
  },
  {
   "cell_type": "code",
   "execution_count": 108,
   "id": "a23fb87b",
   "metadata": {},
   "outputs": [
    {
     "data": {
      "image/png": "[encoded data removed]",
      "text/plain": [
       "<Figure size 1080x576 with 2 Axes>"
      ]
     },
     "metadata": {},
     "output_type": "display_data"
    }
   ],
   "source": [
    "sns.set(rc = {'figure.figsize':(15,8)})\n",
    "ax = sns.heatmap(df1.corr())"
   ]
  },
  {
   "cell_type": "markdown",
   "id": "0eb4cdde",
   "metadata": {},
   "source": [
    "### Check if output class is imbalanced"
   ]
  },
  {
   "cell_type": "code",
   "execution_count": 84,
   "id": "c4e3c587",
   "metadata": {},
   "outputs": [
    {
     "data": {
      "text/plain": [
       "0    0.539119\n",
       "2    0.349282\n",
       "1    0.111599\n",
       "Name: readmitted, dtype: float64"
      ]
     },
     "execution_count": 84,
     "metadata": {},
     "output_type": "execute_result"
    }
   ],
   "source": [
    "df1.readmitted.value_counts(normalize= True)"
   ]
  },
  {
   "cell_type": "code",
   "execution_count": 85,
   "id": "9d1be6ca",
   "metadata": {},
   "outputs": [
    {
     "data": {
      "image/png": "[encoded data removed]",
      "text/plain": [
       "<Figure size 1080x576 with 1 Axes>"
      ]
     },
     "metadata": {},
     "output_type": "display_data"
    }
   ],
   "source": [
    "ax = sns.countplot(x=\"readmitted\", data=df1).set(title = 'Count of Readmission')"
   ]
  },
  {
   "cell_type": "markdown",
   "id": "ce618381",
   "metadata": {},
   "source": [
    "We see that about 53% do not get readmitted; about 35% get admitted in >30 days and about 11% get admitted in <30 days."
   ]
  },
  {
   "cell_type": "markdown",
   "id": "191e9fc6",
   "metadata": {},
   "source": [
    "### Redefine output to 2 classes only (readmitted or not regardless of number of days)"
   ]
  },
  {
   "cell_type": "code",
   "execution_count": 86,
   "id": "309cdee2",
   "metadata": {},
   "outputs": [],
   "source": [
    "df1['y'] = df1['readmitted'].replace([0,1,2], [0,1,1])"
   ]
  },
  {
   "cell_type": "code",
   "execution_count": 87,
   "id": "61771089",
   "metadata": {},
   "outputs": [
    {
     "data": {
      "text/plain": [
       "0    0.539119\n",
       "1    0.460881\n",
       "Name: y, dtype: float64"
      ]
     },
     "execution_count": 87,
     "metadata": {},
     "output_type": "execute_result"
    }
   ],
   "source": [
    "df1.y.value_counts(normalize= True)"
   ]
  },
  {
   "cell_type": "code",
   "execution_count": 91,
   "id": "84791104",
   "metadata": {},
   "outputs": [
    {
     "data": {
      "image/png": "[encoded data removed]",
      "text/plain": [
       "<Figure size 1080x576 with 1 Axes>"
      ]
     },
     "metadata": {},
     "output_type": "display_data"
    }
   ],
   "source": [
    "ax = sns.countplot(x=\"y\", data=df1).set(title = 'Count of Readmission', xlabel = \"Readmission\")"
   ]
  },
  {
   "cell_type": "markdown",
   "id": "b4b29fce",
   "metadata": {},
   "source": [
    "We see the output class is balanced."
   ]
  },
  {
   "cell_type": "markdown",
   "id": "6fe1edbe",
   "metadata": {},
   "source": [
    "We will use this redefined definition of readmission in our model."
   ]
  },
  {
   "cell_type": "code",
   "execution_count": null,
   "id": "d5a1cef1",
   "metadata": {},
   "outputs": [],
   "source": [
    "#Drop output that has different class for admitted <30 and >30 days \n",
    "df1 = df1.drop(['readmitted'], axis = 1)"
   ]
  },
  {
   "cell_type": "code",
   "execution_count": 109,
   "id": "15edc2ef",
   "metadata": {},
   "outputs": [
    {
     "name": "stdout",
     "output_type": "stream",
     "text": [
      "<class 'pandas.core.frame.DataFrame'>\n",
      "RangeIndex: 101766 entries, 0 to 101765\n",
      "Data columns (total 19 columns):\n",
      " #   Column                    Non-Null Count   Dtype\n",
      "---  ------                    --------------   -----\n",
      " 0   race                      101766 non-null  int64\n",
      " 1   gender                    101766 non-null  int64\n",
      " 2   age                       101766 non-null  int64\n",
      " 3   admission_type_id         101766 non-null  int64\n",
      " 4   discharge_disposition_id  101766 non-null  int64\n",
      " 5   admission_source_id       101766 non-null  int64\n",
      " 6   time_in_hospital          101766 non-null  int64\n",
      " 7   num_lab_procedures        101766 non-null  int64\n",
      " 8   num_procedures            101766 non-null  int64\n",
      " 9   num_medications           101766 non-null  int64\n",
      " 10  number_outpatient         101766 non-null  int64\n",
      " 11  number_emergency          101766 non-null  int64\n",
      " 12  number_inpatient          101766 non-null  int64\n",
      " 13  number_diagnoses          101766 non-null  int64\n",
      " 14  max_glu_serum             101766 non-null  int64\n",
      " 15  A1Cresult                 101766 non-null  int64\n",
      " 16  change                    101766 non-null  int64\n",
      " 17  diabetesMed               101766 non-null  int64\n",
      " 18  y                         101766 non-null  int64\n",
      "dtypes: int64(19)\n",
      "memory usage: 14.8 MB\n"
     ]
    }
   ],
   "source": [
    "df1.info()"
   ]
  },
  {
   "cell_type": "markdown",
   "id": "9b39b6ce",
   "metadata": {},
   "source": [
    "### Encoder and Transform Data"
   ]
  },
  {
   "cell_type": "markdown",
   "id": "a8b2a2f3",
   "metadata": {},
   "source": [
    "We will use Standard Scaler transformation with all our models. ALl encoding is already handled in the data cleaning."
   ]
  },
  {
   "cell_type": "code",
   "execution_count": 101,
   "id": "158361fc",
   "metadata": {},
   "outputs": [],
   "source": [
    "#Create transformer - use standard scaling. Encoding is already handled upstream in data cleaning\n",
    "\n",
    "#transformer = make_column_transformer((OneHotEncoder(drop = 'if_binary'), ['insulin']),\n",
    "#                                     remainder = StandardScaler())"
   ]
  },
  {
   "cell_type": "markdown",
   "id": "f9f4206a",
   "metadata": {},
   "source": [
    "### Train / Test Split"
   ]
  },
  {
   "cell_type": "code",
   "execution_count": 110,
   "id": "99d548d1",
   "metadata": {},
   "outputs": [],
   "source": [
    "X = df1.drop(['y'], axis = 1)"
   ]
  },
  {
   "cell_type": "code",
   "execution_count": 111,
   "id": "7e925569",
   "metadata": {},
   "outputs": [],
   "source": [
    "y = df1.y"
   ]
  },
  {
   "cell_type": "code",
   "execution_count": 112,
   "id": "fd8360af",
   "metadata": {},
   "outputs": [],
   "source": [
    "#split to train and test - no need to use stratify=y as data is balanced\n",
    "X_train, X_test, y_train, y_test = train_test_split(X, y , test_size = .3, random_state = 42)"
   ]
  },
  {
   "cell_type": "markdown",
   "id": "a0aac964",
   "metadata": {},
   "source": [
    "## Baseline Model"
   ]
  },
  {
   "cell_type": "markdown",
   "id": "13f27a43",
   "metadata": {},
   "source": [
    "We run dummy classifier on the entire data (X and y). \n",
    "The input feature values are ignored so encoding/trasnfromation is not necessary."
   ]
  },
  {
   "cell_type": "code",
   "execution_count": 114,
   "id": "23d03fec",
   "metadata": {},
   "outputs": [
    {
     "data": {
      "text/html": [
       "<style>#sk-container-id-1 {color: black;background-color: white;}#sk-container-id-1 pre{padding: 0;}#sk-container-id-1 div.sk-toggleable {background-color: white;}#sk-container-id-1 label.sk-toggleable__label {cursor: pointer;display: block;width: 100%;margin-bottom: 0;padding: 0.3em;box-sizing: border-box;text-align: center;}#sk-container-id-1 label.sk-toggleable__label-arrow:before {content: \"▸\";float: left;margin-right: 0.25em;color: #696969;}#sk-container-id-1 label.sk-toggleable__label-arrow:hover:before {color: black;}#sk-container-id-1 div.sk-estimator:hover label.sk-toggleable__label-arrow:before {color: black;}#sk-container-id-1 div.sk-toggleable__content {max-height: 0;max-width: 0;overflow: hidden;text-align: left;background-color: #f0f8ff;}#sk-container-id-1 div.sk-toggleable__content pre {margin: 0.2em;color: black;border-radius: 0.25em;background-color: #f0f8ff;}#sk-container-id-1 input.sk-toggleable__control:checked~div.sk-toggleable__content {max-height: 200px;max-width: 100%;overflow: auto;}#sk-container-id-1 input.sk-toggleable__control:checked~label.sk-toggleable__label-arrow:before {content: \"▾\";}#sk-container-id-1 div.sk-estimator input.sk-toggleable__control:checked~label.sk-toggleable__label {background-color: #d4ebff;}#sk-container-id-1 div.sk-label input.sk-toggleable__control:checked~label.sk-toggleable__label {background-color: #d4ebff;}#sk-container-id-1 input.sk-hidden--visually {border: 0;clip: rect(1px 1px 1px 1px);clip: rect(1px, 1px, 1px, 1px);height: 1px;margin: -1px;overflow: hidden;padding: 0;position: absolute;width: 1px;}#sk-container-id-1 div.sk-estimator {font-family: monospace;background-color: #f0f8ff;border: 1px dotted black;border-radius: 0.25em;box-sizing: border-box;margin-bottom: 0.5em;}#sk-container-id-1 div.sk-estimator:hover {background-color: #d4ebff;}#sk-container-id-1 div.sk-parallel-item::after {content: \"\";width: 100%;border-bottom: 1px solid gray;flex-grow: 1;}#sk-container-id-1 div.sk-label:hover label.sk-toggleable__label {background-color: #d4ebff;}#sk-container-id-1 div.sk-serial::before {content: \"\";position: absolute;border-left: 1px solid gray;box-sizing: border-box;top: 0;bottom: 0;left: 50%;z-index: 0;}#sk-container-id-1 div.sk-serial {display: flex;flex-direction: column;align-items: center;background-color: white;padding-right: 0.2em;padding-left: 0.2em;position: relative;}#sk-container-id-1 div.sk-item {position: relative;z-index: 1;}#sk-container-id-1 div.sk-parallel {display: flex;align-items: stretch;justify-content: center;background-color: white;position: relative;}#sk-container-id-1 div.sk-item::before, #sk-container-id-1 div.sk-parallel-item::before {content: \"\";position: absolute;border-left: 1px solid gray;box-sizing: border-box;top: 0;bottom: 0;left: 50%;z-index: -1;}#sk-container-id-1 div.sk-parallel-item {display: flex;flex-direction: column;z-index: 1;position: relative;background-color: white;}#sk-container-id-1 div.sk-parallel-item:first-child::after {align-self: flex-end;width: 50%;}#sk-container-id-1 div.sk-parallel-item:last-child::after {align-self: flex-start;width: 50%;}#sk-container-id-1 div.sk-parallel-item:only-child::after {width: 0;}#sk-container-id-1 div.sk-dashed-wrapped {border: 1px dashed gray;margin: 0 0.4em 0.5em 0.4em;box-sizing: border-box;padding-bottom: 0.4em;background-color: white;}#sk-container-id-1 div.sk-label label {font-family: monospace;font-weight: bold;display: inline-block;line-height: 1.2em;}#sk-container-id-1 div.sk-label-container {text-align: center;}#sk-container-id-1 div.sk-container {/* jupyter's `normalize.less` sets `[hidden] { display: none; }` but bootstrap.min.css set `[hidden] { display: none !important; }` so we also need the `!important` here to be able to override the default hidden behavior on the sphinx rendered scikit-learn.org. See: https://github.com/scikit-learn/scikit-learn/issues/21755 */display: inline-block !important;position: relative;}#sk-container-id-1 div.sk-text-repr-fallback {display: none;}</style><div id=\"sk-container-id-1\" class=\"sk-top-container\"><div class=\"sk-text-repr-fallback\"><pre>DummyClassifier(strategy=&#x27;most_frequent&#x27;)</pre><b>In a Jupyter environment, please rerun this cell to show the HTML representation or trust the notebook. <br />On GitHub, the HTML representation is unable to render, please try loading this page with nbviewer.org.</b></div><div class=\"sk-container\" hidden><div class=\"sk-item\"><div class=\"sk-estimator sk-toggleable\"><input class=\"sk-toggleable__control sk-hidden--visually\" id=\"sk-estimator-id-1\" type=\"checkbox\" checked><label for=\"sk-estimator-id-1\" class=\"sk-toggleable__label sk-toggleable__label-arrow\">DummyClassifier</label><div class=\"sk-toggleable__content\"><pre>DummyClassifier(strategy=&#x27;most_frequent&#x27;)</pre></div></div></div></div></div>"
      ],
      "text/plain": [
       "DummyClassifier(strategy='most_frequent')"
      ]
     },
     "execution_count": 114,
     "metadata": {},
     "output_type": "execute_result"
    }
   ],
   "source": [
    "dummy_clf = DummyClassifier(strategy=\"most_frequent\")\n",
    "dummy_clf.fit(X, y)"
   ]
  },
  {
   "cell_type": "code",
   "execution_count": 115,
   "id": "ea4156db",
   "metadata": {},
   "outputs": [
    {
     "data": {
      "text/plain": [
       "array([0, 0, 0, ..., 0, 0, 0], dtype=int64)"
      ]
     },
     "execution_count": 115,
     "metadata": {},
     "output_type": "execute_result"
    }
   ],
   "source": [
    "dummy_clf.predict(X)"
   ]
  },
  {
   "cell_type": "code",
   "execution_count": 116,
   "id": "f51befd7",
   "metadata": {},
   "outputs": [
    {
     "data": {
      "text/plain": [
       "0.5391191557101586"
      ]
     },
     "execution_count": 116,
     "metadata": {},
     "output_type": "execute_result"
    }
   ],
   "source": [
    "dummy_clf.score(X,y)"
   ]
  },
  {
   "cell_type": "markdown",
   "id": "a94d72b9",
   "metadata": {},
   "source": [
    "Our model needs to beat this benchmark."
   ]
  },
  {
   "cell_type": "markdown",
   "id": "0e237edd",
   "metadata": {},
   "source": [
    "## Simple Model"
   ]
  },
  {
   "cell_type": "markdown",
   "id": "1b9aaa13",
   "metadata": {},
   "source": [
    "### Logistic Regression"
   ]
  },
  {
   "cell_type": "code",
   "execution_count": 117,
   "id": "85deee70",
   "metadata": {},
   "outputs": [
    {
     "data": {
      "text/html": [
       "<style>#sk-container-id-2 {color: black;background-color: white;}#sk-container-id-2 pre{padding: 0;}#sk-container-id-2 div.sk-toggleable {background-color: white;}#sk-container-id-2 label.sk-toggleable__label {cursor: pointer;display: block;width: 100%;margin-bottom: 0;padding: 0.3em;box-sizing: border-box;text-align: center;}#sk-container-id-2 label.sk-toggleable__label-arrow:before {content: \"▸\";float: left;margin-right: 0.25em;color: #696969;}#sk-container-id-2 label.sk-toggleable__label-arrow:hover:before {color: black;}#sk-container-id-2 div.sk-estimator:hover label.sk-toggleable__label-arrow:before {color: black;}#sk-container-id-2 div.sk-toggleable__content {max-height: 0;max-width: 0;overflow: hidden;text-align: left;background-color: #f0f8ff;}#sk-container-id-2 div.sk-toggleable__content pre {margin: 0.2em;color: black;border-radius: 0.25em;background-color: #f0f8ff;}#sk-container-id-2 input.sk-toggleable__control:checked~div.sk-toggleable__content {max-height: 200px;max-width: 100%;overflow: auto;}#sk-container-id-2 input.sk-toggleable__control:checked~label.sk-toggleable__label-arrow:before {content: \"▾\";}#sk-container-id-2 div.sk-estimator input.sk-toggleable__control:checked~label.sk-toggleable__label {background-color: #d4ebff;}#sk-container-id-2 div.sk-label input.sk-toggleable__control:checked~label.sk-toggleable__label {background-color: #d4ebff;}#sk-container-id-2 input.sk-hidden--visually {border: 0;clip: rect(1px 1px 1px 1px);clip: rect(1px, 1px, 1px, 1px);height: 1px;margin: -1px;overflow: hidden;padding: 0;position: absolute;width: 1px;}#sk-container-id-2 div.sk-estimator {font-family: monospace;background-color: #f0f8ff;border: 1px dotted black;border-radius: 0.25em;box-sizing: border-box;margin-bottom: 0.5em;}#sk-container-id-2 div.sk-estimator:hover {background-color: #d4ebff;}#sk-container-id-2 div.sk-parallel-item::after {content: \"\";width: 100%;border-bottom: 1px solid gray;flex-grow: 1;}#sk-container-id-2 div.sk-label:hover label.sk-toggleable__label {background-color: #d4ebff;}#sk-container-id-2 div.sk-serial::before {content: \"\";position: absolute;border-left: 1px solid gray;box-sizing: border-box;top: 0;bottom: 0;left: 50%;z-index: 0;}#sk-container-id-2 div.sk-serial {display: flex;flex-direction: column;align-items: center;background-color: white;padding-right: 0.2em;padding-left: 0.2em;position: relative;}#sk-container-id-2 div.sk-item {position: relative;z-index: 1;}#sk-container-id-2 div.sk-parallel {display: flex;align-items: stretch;justify-content: center;background-color: white;position: relative;}#sk-container-id-2 div.sk-item::before, #sk-container-id-2 div.sk-parallel-item::before {content: \"\";position: absolute;border-left: 1px solid gray;box-sizing: border-box;top: 0;bottom: 0;left: 50%;z-index: -1;}#sk-container-id-2 div.sk-parallel-item {display: flex;flex-direction: column;z-index: 1;position: relative;background-color: white;}#sk-container-id-2 div.sk-parallel-item:first-child::after {align-self: flex-end;width: 50%;}#sk-container-id-2 div.sk-parallel-item:last-child::after {align-self: flex-start;width: 50%;}#sk-container-id-2 div.sk-parallel-item:only-child::after {width: 0;}#sk-container-id-2 div.sk-dashed-wrapped {border: 1px dashed gray;margin: 0 0.4em 0.5em 0.4em;box-sizing: border-box;padding-bottom: 0.4em;background-color: white;}#sk-container-id-2 div.sk-label label {font-family: monospace;font-weight: bold;display: inline-block;line-height: 1.2em;}#sk-container-id-2 div.sk-label-container {text-align: center;}#sk-container-id-2 div.sk-container {/* jupyter's `normalize.less` sets `[hidden] { display: none; }` but bootstrap.min.css set `[hidden] { display: none !important; }` so we also need the `!important` here to be able to override the default hidden behavior on the sphinx rendered scikit-learn.org. See: https://github.com/scikit-learn/scikit-learn/issues/21755 */display: inline-block !important;position: relative;}#sk-container-id-2 div.sk-text-repr-fallback {display: none;}</style><div id=\"sk-container-id-2\" class=\"sk-top-container\"><div class=\"sk-text-repr-fallback\"><pre>Pipeline(steps=[(&#x27;transform&#x27;, StandardScaler()), (&#x27;lr&#x27;, LogisticRegression())])</pre><b>In a Jupyter environment, please rerun this cell to show the HTML representation or trust the notebook. <br />On GitHub, the HTML representation is unable to render, please try loading this page with nbviewer.org.</b></div><div class=\"sk-container\" hidden><div class=\"sk-item sk-dashed-wrapped\"><div class=\"sk-label-container\"><div class=\"sk-label sk-toggleable\"><input class=\"sk-toggleable__control sk-hidden--visually\" id=\"sk-estimator-id-2\" type=\"checkbox\" ><label for=\"sk-estimator-id-2\" class=\"sk-toggleable__label sk-toggleable__label-arrow\">Pipeline</label><div class=\"sk-toggleable__content\"><pre>Pipeline(steps=[(&#x27;transform&#x27;, StandardScaler()), (&#x27;lr&#x27;, LogisticRegression())])</pre></div></div></div><div class=\"sk-serial\"><div class=\"sk-item\"><div class=\"sk-estimator sk-toggleable\"><input class=\"sk-toggleable__control sk-hidden--visually\" id=\"sk-estimator-id-3\" type=\"checkbox\" ><label for=\"sk-estimator-id-3\" class=\"sk-toggleable__label sk-toggleable__label-arrow\">StandardScaler</label><div class=\"sk-toggleable__content\"><pre>StandardScaler()</pre></div></div></div><div class=\"sk-item\"><div class=\"sk-estimator sk-toggleable\"><input class=\"sk-toggleable__control sk-hidden--visually\" id=\"sk-estimator-id-4\" type=\"checkbox\" ><label for=\"sk-estimator-id-4\" class=\"sk-toggleable__label sk-toggleable__label-arrow\">LogisticRegression</label><div class=\"sk-toggleable__content\"><pre>LogisticRegression()</pre></div></div></div></div></div></div></div>"
      ],
      "text/plain": [
       "Pipeline(steps=[('transform', StandardScaler()), ('lr', LogisticRegression())])"
      ]
     },
     "execution_count": 117,
     "metadata": {},
     "output_type": "execute_result"
    }
   ],
   "source": [
    "lr_start = process_time()\n",
    "lr_pipe = Pipeline([('transform', StandardScaler()), ('lr', LogisticRegression())])\n",
    "lr_pipe.fit(X_train, y_train)\n",
    "lr_stop = process_time()\n",
    "lr_pipe"
   ]
  },
  {
   "cell_type": "markdown",
   "id": "52092f6b",
   "metadata": {},
   "source": [
    "#### Scoring the first simple model"
   ]
  },
  {
   "cell_type": "code",
   "execution_count": 118,
   "id": "bcfd3a1a",
   "metadata": {},
   "outputs": [
    {
     "name": "stdout",
     "output_type": "stream",
     "text": [
      "              precision    recall  f1-score   support\n",
      "\n",
      "           0       0.81      0.61      0.70     21678\n",
      "           1       0.40      0.64      0.49      8852\n",
      "\n",
      "    accuracy                           0.62     30530\n",
      "   macro avg       0.60      0.62      0.59     30530\n",
      "weighted avg       0.69      0.62      0.64     30530\n",
      "\n",
      "Training Accuracy :  0.62\n",
      "Test Accuracy     :  0.61909597\n",
      "Train Time        : 0.359375\n"
     ]
    }
   ],
   "source": [
    "lr_train_acc = lr_pipe.score(X_train, y_train)\n",
    "lr_test_acc = lr_pipe.score(X_test, y_test)\n",
    "lr_predictions = lr_pipe.predict(X_test)\n",
    "lr_time = lr_stop-lr_start\n",
    "\n",
    "### Results\n",
    "print(classification_report(lr_predictions, y_test))\n",
    "\n",
    "print(f'Training Accuracy : {lr_train_acc: .2f}')\n",
    "print(f'Test Accuracy     : {lr_test_acc: .8f}')\n",
    "print(f'Train Time        : {lr_time}')"
   ]
  },
  {
   "cell_type": "markdown",
   "id": "eb479f7a",
   "metadata": {},
   "source": [
    "This model outperforms our benchmark modelbut we will explore some addtional basic models with default parameters first and compare their results."
   ]
  },
  {
   "cell_type": "markdown",
   "id": "9f472cf8",
   "metadata": {},
   "source": [
    "### KNN"
   ]
  },
  {
   "cell_type": "code",
   "execution_count": 120,
   "id": "bf1a2681",
   "metadata": {},
   "outputs": [
    {
     "data": {
      "text/html": [
       "<style>#sk-container-id-3 {color: black;background-color: white;}#sk-container-id-3 pre{padding: 0;}#sk-container-id-3 div.sk-toggleable {background-color: white;}#sk-container-id-3 label.sk-toggleable__label {cursor: pointer;display: block;width: 100%;margin-bottom: 0;padding: 0.3em;box-sizing: border-box;text-align: center;}#sk-container-id-3 label.sk-toggleable__label-arrow:before {content: \"▸\";float: left;margin-right: 0.25em;color: #696969;}#sk-container-id-3 label.sk-toggleable__label-arrow:hover:before {color: black;}#sk-container-id-3 div.sk-estimator:hover label.sk-toggleable__label-arrow:before {color: black;}#sk-container-id-3 div.sk-toggleable__content {max-height: 0;max-width: 0;overflow: hidden;text-align: left;background-color: #f0f8ff;}#sk-container-id-3 div.sk-toggleable__content pre {margin: 0.2em;color: black;border-radius: 0.25em;background-color: #f0f8ff;}#sk-container-id-3 input.sk-toggleable__control:checked~div.sk-toggleable__content {max-height: 200px;max-width: 100%;overflow: auto;}#sk-container-id-3 input.sk-toggleable__control:checked~label.sk-toggleable__label-arrow:before {content: \"▾\";}#sk-container-id-3 div.sk-estimator input.sk-toggleable__control:checked~label.sk-toggleable__label {background-color: #d4ebff;}#sk-container-id-3 div.sk-label input.sk-toggleable__control:checked~label.sk-toggleable__label {background-color: #d4ebff;}#sk-container-id-3 input.sk-hidden--visually {border: 0;clip: rect(1px 1px 1px 1px);clip: rect(1px, 1px, 1px, 1px);height: 1px;margin: -1px;overflow: hidden;padding: 0;position: absolute;width: 1px;}#sk-container-id-3 div.sk-estimator {font-family: monospace;background-color: #f0f8ff;border: 1px dotted black;border-radius: 0.25em;box-sizing: border-box;margin-bottom: 0.5em;}#sk-container-id-3 div.sk-estimator:hover {background-color: #d4ebff;}#sk-container-id-3 div.sk-parallel-item::after {content: \"\";width: 100%;border-bottom: 1px solid gray;flex-grow: 1;}#sk-container-id-3 div.sk-label:hover label.sk-toggleable__label {background-color: #d4ebff;}#sk-container-id-3 div.sk-serial::before {content: \"\";position: absolute;border-left: 1px solid gray;box-sizing: border-box;top: 0;bottom: 0;left: 50%;z-index: 0;}#sk-container-id-3 div.sk-serial {display: flex;flex-direction: column;align-items: center;background-color: white;padding-right: 0.2em;padding-left: 0.2em;position: relative;}#sk-container-id-3 div.sk-item {position: relative;z-index: 1;}#sk-container-id-3 div.sk-parallel {display: flex;align-items: stretch;justify-content: center;background-color: white;position: relative;}#sk-container-id-3 div.sk-item::before, #sk-container-id-3 div.sk-parallel-item::before {content: \"\";position: absolute;border-left: 1px solid gray;box-sizing: border-box;top: 0;bottom: 0;left: 50%;z-index: -1;}#sk-container-id-3 div.sk-parallel-item {display: flex;flex-direction: column;z-index: 1;position: relative;background-color: white;}#sk-container-id-3 div.sk-parallel-item:first-child::after {align-self: flex-end;width: 50%;}#sk-container-id-3 div.sk-parallel-item:last-child::after {align-self: flex-start;width: 50%;}#sk-container-id-3 div.sk-parallel-item:only-child::after {width: 0;}#sk-container-id-3 div.sk-dashed-wrapped {border: 1px dashed gray;margin: 0 0.4em 0.5em 0.4em;box-sizing: border-box;padding-bottom: 0.4em;background-color: white;}#sk-container-id-3 div.sk-label label {font-family: monospace;font-weight: bold;display: inline-block;line-height: 1.2em;}#sk-container-id-3 div.sk-label-container {text-align: center;}#sk-container-id-3 div.sk-container {/* jupyter's `normalize.less` sets `[hidden] { display: none; }` but bootstrap.min.css set `[hidden] { display: none !important; }` so we also need the `!important` here to be able to override the default hidden behavior on the sphinx rendered scikit-learn.org. See: https://github.com/scikit-learn/scikit-learn/issues/21755 */display: inline-block !important;position: relative;}#sk-container-id-3 div.sk-text-repr-fallback {display: none;}</style><div id=\"sk-container-id-3\" class=\"sk-top-container\"><div class=\"sk-text-repr-fallback\"><pre>Pipeline(steps=[(&#x27;transform&#x27;, StandardScaler()),\n",
       "                (&#x27;knn&#x27;, KNeighborsClassifier())])</pre><b>In a Jupyter environment, please rerun this cell to show the HTML representation or trust the notebook. <br />On GitHub, the HTML representation is unable to render, please try loading this page with nbviewer.org.</b></div><div class=\"sk-container\" hidden><div class=\"sk-item sk-dashed-wrapped\"><div class=\"sk-label-container\"><div class=\"sk-label sk-toggleable\"><input class=\"sk-toggleable__control sk-hidden--visually\" id=\"sk-estimator-id-5\" type=\"checkbox\" ><label for=\"sk-estimator-id-5\" class=\"sk-toggleable__label sk-toggleable__label-arrow\">Pipeline</label><div class=\"sk-toggleable__content\"><pre>Pipeline(steps=[(&#x27;transform&#x27;, StandardScaler()),\n",
       "                (&#x27;knn&#x27;, KNeighborsClassifier())])</pre></div></div></div><div class=\"sk-serial\"><div class=\"sk-item\"><div class=\"sk-estimator sk-toggleable\"><input class=\"sk-toggleable__control sk-hidden--visually\" id=\"sk-estimator-id-6\" type=\"checkbox\" ><label for=\"sk-estimator-id-6\" class=\"sk-toggleable__label sk-toggleable__label-arrow\">StandardScaler</label><div class=\"sk-toggleable__content\"><pre>StandardScaler()</pre></div></div></div><div class=\"sk-item\"><div class=\"sk-estimator sk-toggleable\"><input class=\"sk-toggleable__control sk-hidden--visually\" id=\"sk-estimator-id-7\" type=\"checkbox\" ><label for=\"sk-estimator-id-7\" class=\"sk-toggleable__label sk-toggleable__label-arrow\">KNeighborsClassifier</label><div class=\"sk-toggleable__content\"><pre>KNeighborsClassifier()</pre></div></div></div></div></div></div></div>"
      ],
      "text/plain": [
       "Pipeline(steps=[('transform', StandardScaler()),\n",
       "                ('knn', KNeighborsClassifier())])"
      ]
     },
     "execution_count": 120,
     "metadata": {},
     "output_type": "execute_result"
    }
   ],
   "source": [
    "knn_start = process_time()\n",
    "knn_pipe = Pipeline([('transform', StandardScaler()), ('knn', KNeighborsClassifier())])\n",
    "knn_pipe.fit(X_train, y_train)\n",
    "knn_stop = process_time()\n",
    "knn_pipe"
   ]
  },
  {
   "cell_type": "code",
   "execution_count": 121,
   "id": "d4043ab0",
   "metadata": {},
   "outputs": [
    {
     "name": "stdout",
     "output_type": "stream",
     "text": [
      "              precision    recall  f1-score   support\n",
      "\n",
      "           0       0.65      0.61      0.63     17626\n",
      "           1       0.51      0.55      0.53     12904\n",
      "\n",
      "    accuracy                           0.59     30530\n",
      "   macro avg       0.58      0.58      0.58     30530\n",
      "weighted avg       0.59      0.59      0.59     30530\n",
      "\n",
      "Training Accuracy :  0.73\n",
      "Test Accuracy     :  0.58503112\n",
      "Train Time        : 0.0625\n"
     ]
    }
   ],
   "source": [
    "knn_train_acc = knn_pipe.score(X_train, y_train)\n",
    "knn_test_acc = knn_pipe.score(X_test, y_test)\n",
    "knn_predictions = knn_pipe.predict(X_test)\n",
    "knn_time = knn_stop-knn_start\n",
    "\n",
    "### Results\n",
    "print(classification_report(knn_predictions, y_test))\n",
    "\n",
    "print(f'Training Accuracy : {knn_train_acc: .2f}')\n",
    "print(f'Test Accuracy     : {knn_test_acc: .8f}')\n",
    "print(f'Train Time        : {knn_time}')"
   ]
  },
  {
   "cell_type": "markdown",
   "id": "6aab5664",
   "metadata": {},
   "source": [
    "### Decision Tree"
   ]
  },
  {
   "cell_type": "code",
   "execution_count": 122,
   "id": "59450698",
   "metadata": {},
   "outputs": [
    {
     "data": {
      "text/html": [
       "<style>#sk-container-id-4 {color: black;background-color: white;}#sk-container-id-4 pre{padding: 0;}#sk-container-id-4 div.sk-toggleable {background-color: white;}#sk-container-id-4 label.sk-toggleable__label {cursor: pointer;display: block;width: 100%;margin-bottom: 0;padding: 0.3em;box-sizing: border-box;text-align: center;}#sk-container-id-4 label.sk-toggleable__label-arrow:before {content: \"▸\";float: left;margin-right: 0.25em;color: #696969;}#sk-container-id-4 label.sk-toggleable__label-arrow:hover:before {color: black;}#sk-container-id-4 div.sk-estimator:hover label.sk-toggleable__label-arrow:before {color: black;}#sk-container-id-4 div.sk-toggleable__content {max-height: 0;max-width: 0;overflow: hidden;text-align: left;background-color: #f0f8ff;}#sk-container-id-4 div.sk-toggleable__content pre {margin: 0.2em;color: black;border-radius: 0.25em;background-color: #f0f8ff;}#sk-container-id-4 input.sk-toggleable__control:checked~div.sk-toggleable__content {max-height: 200px;max-width: 100%;overflow: auto;}#sk-container-id-4 input.sk-toggleable__control:checked~label.sk-toggleable__label-arrow:before {content: \"▾\";}#sk-container-id-4 div.sk-estimator input.sk-toggleable__control:checked~label.sk-toggleable__label {background-color: #d4ebff;}#sk-container-id-4 div.sk-label input.sk-toggleable__control:checked~label.sk-toggleable__label {background-color: #d4ebff;}#sk-container-id-4 input.sk-hidden--visually {border: 0;clip: rect(1px 1px 1px 1px);clip: rect(1px, 1px, 1px, 1px);height: 1px;margin: -1px;overflow: hidden;padding: 0;position: absolute;width: 1px;}#sk-container-id-4 div.sk-estimator {font-family: monospace;background-color: #f0f8ff;border: 1px dotted black;border-radius: 0.25em;box-sizing: border-box;margin-bottom: 0.5em;}#sk-container-id-4 div.sk-estimator:hover {background-color: #d4ebff;}#sk-container-id-4 div.sk-parallel-item::after {content: \"\";width: 100%;border-bottom: 1px solid gray;flex-grow: 1;}#sk-container-id-4 div.sk-label:hover label.sk-toggleable__label {background-color: #d4ebff;}#sk-container-id-4 div.sk-serial::before {content: \"\";position: absolute;border-left: 1px solid gray;box-sizing: border-box;top: 0;bottom: 0;left: 50%;z-index: 0;}#sk-container-id-4 div.sk-serial {display: flex;flex-direction: column;align-items: center;background-color: white;padding-right: 0.2em;padding-left: 0.2em;position: relative;}#sk-container-id-4 div.sk-item {position: relative;z-index: 1;}#sk-container-id-4 div.sk-parallel {display: flex;align-items: stretch;justify-content: center;background-color: white;position: relative;}#sk-container-id-4 div.sk-item::before, #sk-container-id-4 div.sk-parallel-item::before {content: \"\";position: absolute;border-left: 1px solid gray;box-sizing: border-box;top: 0;bottom: 0;left: 50%;z-index: -1;}#sk-container-id-4 div.sk-parallel-item {display: flex;flex-direction: column;z-index: 1;position: relative;background-color: white;}#sk-container-id-4 div.sk-parallel-item:first-child::after {align-self: flex-end;width: 50%;}#sk-container-id-4 div.sk-parallel-item:last-child::after {align-self: flex-start;width: 50%;}#sk-container-id-4 div.sk-parallel-item:only-child::after {width: 0;}#sk-container-id-4 div.sk-dashed-wrapped {border: 1px dashed gray;margin: 0 0.4em 0.5em 0.4em;box-sizing: border-box;padding-bottom: 0.4em;background-color: white;}#sk-container-id-4 div.sk-label label {font-family: monospace;font-weight: bold;display: inline-block;line-height: 1.2em;}#sk-container-id-4 div.sk-label-container {text-align: center;}#sk-container-id-4 div.sk-container {/* jupyter's `normalize.less` sets `[hidden] { display: none; }` but bootstrap.min.css set `[hidden] { display: none !important; }` so we also need the `!important` here to be able to override the default hidden behavior on the sphinx rendered scikit-learn.org. See: https://github.com/scikit-learn/scikit-learn/issues/21755 */display: inline-block !important;position: relative;}#sk-container-id-4 div.sk-text-repr-fallback {display: none;}</style><div id=\"sk-container-id-4\" class=\"sk-top-container\"><div class=\"sk-text-repr-fallback\"><pre>Pipeline(steps=[(&#x27;transform&#x27;, StandardScaler()),\n",
       "                (&#x27;dt&#x27;, DecisionTreeClassifier(random_state=42))])</pre><b>In a Jupyter environment, please rerun this cell to show the HTML representation or trust the notebook. <br />On GitHub, the HTML representation is unable to render, please try loading this page with nbviewer.org.</b></div><div class=\"sk-container\" hidden><div class=\"sk-item sk-dashed-wrapped\"><div class=\"sk-label-container\"><div class=\"sk-label sk-toggleable\"><input class=\"sk-toggleable__control sk-hidden--visually\" id=\"sk-estimator-id-8\" type=\"checkbox\" ><label for=\"sk-estimator-id-8\" class=\"sk-toggleable__label sk-toggleable__label-arrow\">Pipeline</label><div class=\"sk-toggleable__content\"><pre>Pipeline(steps=[(&#x27;transform&#x27;, StandardScaler()),\n",
       "                (&#x27;dt&#x27;, DecisionTreeClassifier(random_state=42))])</pre></div></div></div><div class=\"sk-serial\"><div class=\"sk-item\"><div class=\"sk-estimator sk-toggleable\"><input class=\"sk-toggleable__control sk-hidden--visually\" id=\"sk-estimator-id-9\" type=\"checkbox\" ><label for=\"sk-estimator-id-9\" class=\"sk-toggleable__label sk-toggleable__label-arrow\">StandardScaler</label><div class=\"sk-toggleable__content\"><pre>StandardScaler()</pre></div></div></div><div class=\"sk-item\"><div class=\"sk-estimator sk-toggleable\"><input class=\"sk-toggleable__control sk-hidden--visually\" id=\"sk-estimator-id-10\" type=\"checkbox\" ><label for=\"sk-estimator-id-10\" class=\"sk-toggleable__label sk-toggleable__label-arrow\">DecisionTreeClassifier</label><div class=\"sk-toggleable__content\"><pre>DecisionTreeClassifier(random_state=42)</pre></div></div></div></div></div></div></div>"
      ],
      "text/plain": [
       "Pipeline(steps=[('transform', StandardScaler()),\n",
       "                ('dt', DecisionTreeClassifier(random_state=42))])"
      ]
     },
     "execution_count": 122,
     "metadata": {},
     "output_type": "execute_result"
    }
   ],
   "source": [
    "dt_start = process_time()\n",
    "dt_pipe = Pipeline([('transform', StandardScaler()), ('dt', DecisionTreeClassifier(random_state=42))])\n",
    "dt_pipe.fit(X_train, y_train)\n",
    "dt_stop = process_time()\n",
    "dt_pipe"
   ]
  },
  {
   "cell_type": "code",
   "execution_count": 123,
   "id": "140d8367",
   "metadata": {},
   "outputs": [
    {
     "name": "stdout",
     "output_type": "stream",
     "text": [
      "              precision    recall  f1-score   support\n",
      "\n",
      "           0       0.59      0.59      0.59     16266\n",
      "           1       0.53      0.52      0.53     14264\n",
      "\n",
      "    accuracy                           0.56     30530\n",
      "   macro avg       0.56      0.56      0.56     30530\n",
      "weighted avg       0.56      0.56      0.56     30530\n",
      "\n",
      "Training Accuracy :  1.00\n",
      "Test Accuracy     :  0.56105470\n",
      "Train Time        : 0.46875\n"
     ]
    }
   ],
   "source": [
    "dt_train_acc = dt_pipe.score(X_train, y_train)\n",
    "dt_test_acc = dt_pipe.score(X_test, y_test)\n",
    "dt_predictions = dt_pipe.predict(X_test)\n",
    "dt_time = dt_stop-dt_start\n",
    "\n",
    "### Results\n",
    "print(classification_report(dt_predictions, y_test))\n",
    "\n",
    "print(f'Training Accuracy : {dt_train_acc: .2f}')\n",
    "print(f'Test Accuracy     : {dt_test_acc: .8f}')\n",
    "print(f'Train Time        : {dt_time}')"
   ]
  },
  {
   "cell_type": "markdown",
   "id": "6c169f8a",
   "metadata": {},
   "source": [
    "### SVM"
   ]
  },
  {
   "cell_type": "code",
   "execution_count": 124,
   "id": "e8633531",
   "metadata": {},
   "outputs": [
    {
     "data": {
      "text/html": [
       "<style>#sk-container-id-5 {color: black;background-color: white;}#sk-container-id-5 pre{padding: 0;}#sk-container-id-5 div.sk-toggleable {background-color: white;}#sk-container-id-5 label.sk-toggleable__label {cursor: pointer;display: block;width: 100%;margin-bottom: 0;padding: 0.3em;box-sizing: border-box;text-align: center;}#sk-container-id-5 label.sk-toggleable__label-arrow:before {content: \"▸\";float: left;margin-right: 0.25em;color: #696969;}#sk-container-id-5 label.sk-toggleable__label-arrow:hover:before {color: black;}#sk-container-id-5 div.sk-estimator:hover label.sk-toggleable__label-arrow:before {color: black;}#sk-container-id-5 div.sk-toggleable__content {max-height: 0;max-width: 0;overflow: hidden;text-align: left;background-color: #f0f8ff;}#sk-container-id-5 div.sk-toggleable__content pre {margin: 0.2em;color: black;border-radius: 0.25em;background-color: #f0f8ff;}#sk-container-id-5 input.sk-toggleable__control:checked~div.sk-toggleable__content {max-height: 200px;max-width: 100%;overflow: auto;}#sk-container-id-5 input.sk-toggleable__control:checked~label.sk-toggleable__label-arrow:before {content: \"▾\";}#sk-container-id-5 div.sk-estimator input.sk-toggleable__control:checked~label.sk-toggleable__label {background-color: #d4ebff;}#sk-container-id-5 div.sk-label input.sk-toggleable__control:checked~label.sk-toggleable__label {background-color: #d4ebff;}#sk-container-id-5 input.sk-hidden--visually {border: 0;clip: rect(1px 1px 1px 1px);clip: rect(1px, 1px, 1px, 1px);height: 1px;margin: -1px;overflow: hidden;padding: 0;position: absolute;width: 1px;}#sk-container-id-5 div.sk-estimator {font-family: monospace;background-color: #f0f8ff;border: 1px dotted black;border-radius: 0.25em;box-sizing: border-box;margin-bottom: 0.5em;}#sk-container-id-5 div.sk-estimator:hover {background-color: #d4ebff;}#sk-container-id-5 div.sk-parallel-item::after {content: \"\";width: 100%;border-bottom: 1px solid gray;flex-grow: 1;}#sk-container-id-5 div.sk-label:hover label.sk-toggleable__label {background-color: #d4ebff;}#sk-container-id-5 div.sk-serial::before {content: \"\";position: absolute;border-left: 1px solid gray;box-sizing: border-box;top: 0;bottom: 0;left: 50%;z-index: 0;}#sk-container-id-5 div.sk-serial {display: flex;flex-direction: column;align-items: center;background-color: white;padding-right: 0.2em;padding-left: 0.2em;position: relative;}#sk-container-id-5 div.sk-item {position: relative;z-index: 1;}#sk-container-id-5 div.sk-parallel {display: flex;align-items: stretch;justify-content: center;background-color: white;position: relative;}#sk-container-id-5 div.sk-item::before, #sk-container-id-5 div.sk-parallel-item::before {content: \"\";position: absolute;border-left: 1px solid gray;box-sizing: border-box;top: 0;bottom: 0;left: 50%;z-index: -1;}#sk-container-id-5 div.sk-parallel-item {display: flex;flex-direction: column;z-index: 1;position: relative;background-color: white;}#sk-container-id-5 div.sk-parallel-item:first-child::after {align-self: flex-end;width: 50%;}#sk-container-id-5 div.sk-parallel-item:last-child::after {align-self: flex-start;width: 50%;}#sk-container-id-5 div.sk-parallel-item:only-child::after {width: 0;}#sk-container-id-5 div.sk-dashed-wrapped {border: 1px dashed gray;margin: 0 0.4em 0.5em 0.4em;box-sizing: border-box;padding-bottom: 0.4em;background-color: white;}#sk-container-id-5 div.sk-label label {font-family: monospace;font-weight: bold;display: inline-block;line-height: 1.2em;}#sk-container-id-5 div.sk-label-container {text-align: center;}#sk-container-id-5 div.sk-container {/* jupyter's `normalize.less` sets `[hidden] { display: none; }` but bootstrap.min.css set `[hidden] { display: none !important; }` so we also need the `!important` here to be able to override the default hidden behavior on the sphinx rendered scikit-learn.org. See: https://github.com/scikit-learn/scikit-learn/issues/21755 */display: inline-block !important;position: relative;}#sk-container-id-5 div.sk-text-repr-fallback {display: none;}</style><div id=\"sk-container-id-5\" class=\"sk-top-container\"><div class=\"sk-text-repr-fallback\"><pre>Pipeline(steps=[(&#x27;transform&#x27;, StandardScaler()), (&#x27;svc&#x27;, SVC())])</pre><b>In a Jupyter environment, please rerun this cell to show the HTML representation or trust the notebook. <br />On GitHub, the HTML representation is unable to render, please try loading this page with nbviewer.org.</b></div><div class=\"sk-container\" hidden><div class=\"sk-item sk-dashed-wrapped\"><div class=\"sk-label-container\"><div class=\"sk-label sk-toggleable\"><input class=\"sk-toggleable__control sk-hidden--visually\" id=\"sk-estimator-id-11\" type=\"checkbox\" ><label for=\"sk-estimator-id-11\" class=\"sk-toggleable__label sk-toggleable__label-arrow\">Pipeline</label><div class=\"sk-toggleable__content\"><pre>Pipeline(steps=[(&#x27;transform&#x27;, StandardScaler()), (&#x27;svc&#x27;, SVC())])</pre></div></div></div><div class=\"sk-serial\"><div class=\"sk-item\"><div class=\"sk-estimator sk-toggleable\"><input class=\"sk-toggleable__control sk-hidden--visually\" id=\"sk-estimator-id-12\" type=\"checkbox\" ><label for=\"sk-estimator-id-12\" class=\"sk-toggleable__label sk-toggleable__label-arrow\">StandardScaler</label><div class=\"sk-toggleable__content\"><pre>StandardScaler()</pre></div></div></div><div class=\"sk-item\"><div class=\"sk-estimator sk-toggleable\"><input class=\"sk-toggleable__control sk-hidden--visually\" id=\"sk-estimator-id-13\" type=\"checkbox\" ><label for=\"sk-estimator-id-13\" class=\"sk-toggleable__label sk-toggleable__label-arrow\">SVC</label><div class=\"sk-toggleable__content\"><pre>SVC()</pre></div></div></div></div></div></div></div>"
      ],
      "text/plain": [
       "Pipeline(steps=[('transform', StandardScaler()), ('svc', SVC())])"
      ]
     },
     "execution_count": 124,
     "metadata": {},
     "output_type": "execute_result"
    }
   ],
   "source": [
    "svc_start = process_time()\n",
    "svc_pipe = Pipeline([('transform', StandardScaler()), ('svc', SVC())])\n",
    "svc_pipe.fit(X_train, y_train)\n",
    "svc_stop = process_time()\n",
    "svc_pipe"
   ]
  },
  {
   "cell_type": "code",
   "execution_count": 125,
   "id": "fd2fd38c",
   "metadata": {},
   "outputs": [
    {
     "name": "stdout",
     "output_type": "stream",
     "text": [
      "              precision    recall  f1-score   support\n",
      "\n",
      "           0       0.76      0.63      0.69     19763\n",
      "           1       0.48      0.63      0.55     10767\n",
      "\n",
      "    accuracy                           0.63     30530\n",
      "   macro avg       0.62      0.63      0.62     30530\n",
      "weighted avg       0.66      0.63      0.64     30530\n",
      "\n",
      "Training Accuracy :  0.65\n",
      "Test Accuracy     :  0.63321323\n",
      "Train Time        : 426.859375\n"
     ]
    }
   ],
   "source": [
    "svc_train_acc = svc_pipe.score(X_train, y_train)\n",
    "svc_test_acc = svc_pipe.score(X_test, y_test)\n",
    "svc_predictions = svc_pipe.predict(X_test)\n",
    "svc_time = svc_stop-dt_start\n",
    "\n",
    "### Results\n",
    "print(classification_report(svc_predictions, y_test))\n",
    "\n",
    "print(f'Training Accuracy : {svc_train_acc: .2f}')\n",
    "print(f'Test Accuracy     : {svc_test_acc: .8f}')\n",
    "print(f'Train Time        : {svc_time}')"
   ]
  },
  {
   "cell_type": "code",
   "execution_count": 126,
   "id": "7b088d3e",
   "metadata": {},
   "outputs": [
    {
     "data": {
      "text/html": [
       "<div>\n",
       "<style scoped>\n",
       "    .dataframe tbody tr th:only-of-type {\n",
       "        vertical-align: middle;\n",
       "    }\n",
       "\n",
       "    .dataframe tbody tr th {\n",
       "        vertical-align: top;\n",
       "    }\n",
       "\n",
       "    .dataframe thead th {\n",
       "        text-align: right;\n",
       "    }\n",
       "</style>\n",
       "<table border=\"1\" class=\"dataframe\">\n",
       "  <thead>\n",
       "    <tr style=\"text-align: right;\">\n",
       "      <th></th>\n",
       "      <th>Train Time</th>\n",
       "      <th>Train Accuracy</th>\n",
       "      <th>Test Accuracy</th>\n",
       "    </tr>\n",
       "    <tr>\n",
       "      <th>Model</th>\n",
       "      <th></th>\n",
       "      <th></th>\n",
       "      <th></th>\n",
       "    </tr>\n",
       "  </thead>\n",
       "  <tbody>\n",
       "    <tr>\n",
       "      <th>Decision Tree</th>\n",
       "      <td>0.468750</td>\n",
       "      <td>0.999789</td>\n",
       "      <td>0.561055</td>\n",
       "    </tr>\n",
       "    <tr>\n",
       "      <th>KNN</th>\n",
       "      <td>0.062500</td>\n",
       "      <td>0.727203</td>\n",
       "      <td>0.585031</td>\n",
       "    </tr>\n",
       "    <tr>\n",
       "      <th>Logistic Regression</th>\n",
       "      <td>0.359375</td>\n",
       "      <td>0.617146</td>\n",
       "      <td>0.619096</td>\n",
       "    </tr>\n",
       "    <tr>\n",
       "      <th>Support Vector</th>\n",
       "      <td>426.859375</td>\n",
       "      <td>0.650135</td>\n",
       "      <td>0.633213</td>\n",
       "    </tr>\n",
       "  </tbody>\n",
       "</table>\n",
       "</div>"
      ],
      "text/plain": [
       "                     Train Time  Train Accuracy  Test Accuracy\n",
       "Model                                                         \n",
       "Decision Tree          0.468750        0.999789       0.561055\n",
       "KNN                    0.062500        0.727203       0.585031\n",
       "Logistic Regression    0.359375        0.617146       0.619096\n",
       "Support Vector       426.859375        0.650135       0.633213"
      ]
     },
     "execution_count": 126,
     "metadata": {},
     "output_type": "execute_result"
    }
   ],
   "source": [
    "# Results Dataframe:\n",
    "\n",
    "results_df = pd.DataFrame({'Model': ['Decision Tree','KNN','Logistic Regression','Support Vector'],\n",
    "                           'Train Time' : [dt_time,knn_time,lr_time,svc_time],\n",
    "                           'Train Accuracy' : [dt_train_acc,knn_train_acc,lr_train_acc,svc_train_acc],\n",
    "                           'Test Accuracy' : [dt_test_acc,knn_test_acc,lr_test_acc,svc_test_acc],\n",
    "                          })\n",
    "\n",
    "results_df.set_index('Model' , inplace= True)\n",
    "results_df"
   ]
  },
  {
   "cell_type": "markdown",
   "id": "69e977b3",
   "metadata": {},
   "source": [
    "### Plot ROC Curves"
   ]
  },
  {
   "cell_type": "code",
   "execution_count": 127,
   "id": "ffa87af3",
   "metadata": {},
   "outputs": [
    {
     "data": {
      "image/png": "[encoded data removed]",
      "text/plain": [
       "<Figure size 720x576 with 1 Axes>"
      ]
     },
     "metadata": {},
     "output_type": "display_data"
    }
   ],
   "source": [
    "#Plot ROC Curves for all models\n",
    "fig, ax = plt.subplots(figsize=(10,8))\n",
    "RocCurveDisplay.from_predictions(knn_pipe.predict( X_test), y_test, pos_label = 1, ax = ax, label = 'KNN')\n",
    "RocCurveDisplay.from_predictions(dt_pipe.predict(X_test), y_test, pos_label = 1, ax = ax, label = 'Decision Tree')\n",
    "RocCurveDisplay.from_predictions(lr_pipe.predict(X_test), y_test, pos_label = 1, ax = ax, label = 'Logistic Regression')\n",
    "RocCurveDisplay.from_predictions(svc_pipe.predict(X_test), y_test, pos_label = 1, ax = ax, label = 'SVM')\n",
    "plt.plot(np.arange(0, 1.1, .1), np.arange(0, 1.1, .1), label = 'baseline')\n",
    "plt.title('ROC Curves')\n",
    "plt.legend()\n",
    "plt.grid(True)"
   ]
  },
  {
   "cell_type": "markdown",
   "id": "22c8961b",
   "metadata": {},
   "source": [
    "### Confusion Matrices"
   ]
  },
  {
   "cell_type": "code",
   "execution_count": 128,
   "id": "166c91ed",
   "metadata": {},
   "outputs": [
    {
     "data": {
      "image/png": "[encoded data removed]",
      "text/plain": [
       "<Figure size 1440x288 with 8 Axes>"
      ]
     },
     "metadata": {},
     "output_type": "display_data"
    }
   ],
   "source": [
    "# plot confusion matrices\n",
    "fig, ax = plt.subplots(1, 4, figsize = (20, 4))\n",
    "ConfusionMatrixDisplay.from_estimator(knn_pipe, X_test, y_test, ax = ax[0])\n",
    "ConfusionMatrixDisplay.from_estimator(dt_pipe, X_test, y_test, ax = ax[1])\n",
    "ConfusionMatrixDisplay.from_estimator(lr_pipe, X_test, y_test, ax = ax[2])\n",
    "ConfusionMatrixDisplay.from_estimator(svc_pipe, X_test, y_test, ax = ax[3])\n",
    "ax[0].grid(False)\n",
    "ax[1].grid(False)\n",
    "ax[2].grid(False)\n",
    "ax[3].grid(False)\n",
    "ax[0].set_title('K Nearest Neighbors')\n",
    "ax[1].set_title('Decision Tree')\n",
    "ax[2].set_title('Logistic Regression')\n",
    "ax[3].set_title('Support Vector')\n",
    "plt.show()"
   ]
  },
  {
   "cell_type": "markdown",
   "id": "ec0ed277",
   "metadata": {},
   "source": [
    "### Summary"
   ]
  },
  {
   "cell_type": "markdown",
   "id": "689ae0c2",
   "metadata": {},
   "source": [
    "Comparing the four models with default parameters, we can see that KNN is the fastest followed by Logistic Regression and Decision Tree. The Support Vector took a really long time compared to the other three models. \n",
    "In terms of accuracy, Support Vector was the most accurate followed closely by Logistic Regression. Decision Tree had the lowest test accuracy. All models did better than our baseline model.\n",
    "With default parameters, we would recommend the logistic regression for this classification problem in terms of overall performance (second in both test accuracy and performance time)."
   ]
  },
  {
   "cell_type": "markdown",
   "id": "8d4d61fe",
   "metadata": {},
   "source": [
    "## Feature Engineering"
   ]
  },
  {
   "cell_type": "markdown",
   "id": "858d000b",
   "metadata": {},
   "source": [
    "### Examine Permutation Importance in our Logistic Regression Model"
   ]
  },
  {
   "cell_type": "code",
   "execution_count": 129,
   "id": "32710f44",
   "metadata": {},
   "outputs": [
    {
     "name": "stdout",
     "output_type": "stream",
     "text": [
      "model accuracy : 0.6190959711758925\n",
      "importance: [6.62299378e-04 1.32787422e-03 5.43727481e-05 5.76482149e-04\n",
      " 1.78578447e-03 7.67114314e-04 1.26629545e-03 1.05207992e-03\n",
      " 2.50769735e-03 3.73403210e-04 4.99705208e-03 7.92531936e-03\n",
      " 6.33324599e-02 4.67605634e-03 6.16442843e-04 3.73403210e-05\n",
      " 3.66852276e-04 1.18637406e-03]\n"
     ]
    },
    {
     "data": {
      "text/html": [
       "<div>\n",
       "<style scoped>\n",
       "    .dataframe tbody tr th:only-of-type {\n",
       "        vertical-align: middle;\n",
       "    }\n",
       "\n",
       "    .dataframe tbody tr th {\n",
       "        vertical-align: top;\n",
       "    }\n",
       "\n",
       "    .dataframe thead th {\n",
       "        text-align: right;\n",
       "    }\n",
       "</style>\n",
       "<table border=\"1\" class=\"dataframe\">\n",
       "  <thead>\n",
       "    <tr style=\"text-align: right;\">\n",
       "      <th></th>\n",
       "      <th>Column</th>\n",
       "      <th>Importance</th>\n",
       "    </tr>\n",
       "  </thead>\n",
       "  <tbody>\n",
       "    <tr>\n",
       "      <th>12</th>\n",
       "      <td>number_inpatient</td>\n",
       "      <td>0.063332</td>\n",
       "    </tr>\n",
       "    <tr>\n",
       "      <th>11</th>\n",
       "      <td>number_emergency</td>\n",
       "      <td>0.007925</td>\n",
       "    </tr>\n",
       "    <tr>\n",
       "      <th>10</th>\n",
       "      <td>number_outpatient</td>\n",
       "      <td>0.004997</td>\n",
       "    </tr>\n",
       "    <tr>\n",
       "      <th>13</th>\n",
       "      <td>number_diagnoses</td>\n",
       "      <td>0.004676</td>\n",
       "    </tr>\n",
       "    <tr>\n",
       "      <th>8</th>\n",
       "      <td>num_procedures</td>\n",
       "      <td>0.002508</td>\n",
       "    </tr>\n",
       "    <tr>\n",
       "      <th>4</th>\n",
       "      <td>discharge_disposition_id</td>\n",
       "      <td>0.001786</td>\n",
       "    </tr>\n",
       "    <tr>\n",
       "      <th>1</th>\n",
       "      <td>gender</td>\n",
       "      <td>0.001328</td>\n",
       "    </tr>\n",
       "    <tr>\n",
       "      <th>6</th>\n",
       "      <td>time_in_hospital</td>\n",
       "      <td>0.001266</td>\n",
       "    </tr>\n",
       "    <tr>\n",
       "      <th>17</th>\n",
       "      <td>diabetesMed</td>\n",
       "      <td>0.001186</td>\n",
       "    </tr>\n",
       "    <tr>\n",
       "      <th>7</th>\n",
       "      <td>num_lab_procedures</td>\n",
       "      <td>0.001052</td>\n",
       "    </tr>\n",
       "    <tr>\n",
       "      <th>5</th>\n",
       "      <td>admission_source_id</td>\n",
       "      <td>0.000767</td>\n",
       "    </tr>\n",
       "    <tr>\n",
       "      <th>0</th>\n",
       "      <td>race</td>\n",
       "      <td>0.000662</td>\n",
       "    </tr>\n",
       "    <tr>\n",
       "      <th>14</th>\n",
       "      <td>max_glu_serum</td>\n",
       "      <td>0.000616</td>\n",
       "    </tr>\n",
       "    <tr>\n",
       "      <th>3</th>\n",
       "      <td>admission_type_id</td>\n",
       "      <td>0.000576</td>\n",
       "    </tr>\n",
       "    <tr>\n",
       "      <th>9</th>\n",
       "      <td>num_medications</td>\n",
       "      <td>0.000373</td>\n",
       "    </tr>\n",
       "    <tr>\n",
       "      <th>16</th>\n",
       "      <td>change</td>\n",
       "      <td>0.000367</td>\n",
       "    </tr>\n",
       "    <tr>\n",
       "      <th>2</th>\n",
       "      <td>age</td>\n",
       "      <td>0.000054</td>\n",
       "    </tr>\n",
       "    <tr>\n",
       "      <th>15</th>\n",
       "      <td>A1Cresult</td>\n",
       "      <td>0.000037</td>\n",
       "    </tr>\n",
       "  </tbody>\n",
       "</table>\n",
       "</div>"
      ],
      "text/plain": [
       "                      Column  Importance\n",
       "12          number_inpatient    0.063332\n",
       "11          number_emergency    0.007925\n",
       "10         number_outpatient    0.004997\n",
       "13          number_diagnoses    0.004676\n",
       "8             num_procedures    0.002508\n",
       "4   discharge_disposition_id    0.001786\n",
       "1                     gender    0.001328\n",
       "6           time_in_hospital    0.001266\n",
       "17               diabetesMed    0.001186\n",
       "7         num_lab_procedures    0.001052\n",
       "5        admission_source_id    0.000767\n",
       "0                       race    0.000662\n",
       "14             max_glu_serum    0.000616\n",
       "3          admission_type_id    0.000576\n",
       "9            num_medications    0.000373\n",
       "16                    change    0.000367\n",
       "2                        age    0.000054\n",
       "15                 A1Cresult    0.000037"
      ]
     },
     "execution_count": 129,
     "metadata": {},
     "output_type": "execute_result"
    }
   ],
   "source": [
    "#Examine permutation importance of the factors\n",
    "\n",
    "# score with test set\n",
    "print('model accuracy :', lr_pipe.score(X_test, y_test))\n",
    "# permutation importance\n",
    "r = permutation_importance(lr_pipe, X_test, y_test, n_repeats = 50, random_state = 93)\n",
    "print('importance:', r.importances_mean)\n",
    "pd.DataFrame({\"Column\":X.columns, \"Importance\":r.importances_mean}).sort_values(\n",
    "        by = \"Importance\", ascending = False)"
   ]
  },
  {
   "cell_type": "markdown",
   "id": "c280dba9",
   "metadata": {},
   "source": [
    "We can clearly see that number of hospital visits (inpatient) is the most important feature in predicting if a patient will be readmitted.That's followed by number of Emergency (ED visits), number of outpatient clinic visits, number of diagnoses and number of procedures. Also based on the distributions by age and gender charts above, it makes sense that gender is important but age is not."
   ]
  },
  {
   "cell_type": "markdown",
   "id": "ae4fdfda",
   "metadata": {},
   "source": [
    "##### Examine effect of removing features with low permutation importance (<0.0005)"
   ]
  },
  {
   "cell_type": "code",
   "execution_count": 130,
   "id": "154fe7be",
   "metadata": {},
   "outputs": [],
   "source": [
    "X_train2 = X_train.drop(['num_medications','change','age','A1Cresult'], axis = 1)\n",
    "X_test2 = X_test.drop(['num_medications','change','age','A1Cresult'], axis = 1)"
   ]
  },
  {
   "cell_type": "code",
   "execution_count": 131,
   "id": "ec557421",
   "metadata": {},
   "outputs": [
    {
     "data": {
      "text/html": [
       "<style>#sk-container-id-6 {color: black;background-color: white;}#sk-container-id-6 pre{padding: 0;}#sk-container-id-6 div.sk-toggleable {background-color: white;}#sk-container-id-6 label.sk-toggleable__label {cursor: pointer;display: block;width: 100%;margin-bottom: 0;padding: 0.3em;box-sizing: border-box;text-align: center;}#sk-container-id-6 label.sk-toggleable__label-arrow:before {content: \"▸\";float: left;margin-right: 0.25em;color: #696969;}#sk-container-id-6 label.sk-toggleable__label-arrow:hover:before {color: black;}#sk-container-id-6 div.sk-estimator:hover label.sk-toggleable__label-arrow:before {color: black;}#sk-container-id-6 div.sk-toggleable__content {max-height: 0;max-width: 0;overflow: hidden;text-align: left;background-color: #f0f8ff;}#sk-container-id-6 div.sk-toggleable__content pre {margin: 0.2em;color: black;border-radius: 0.25em;background-color: #f0f8ff;}#sk-container-id-6 input.sk-toggleable__control:checked~div.sk-toggleable__content {max-height: 200px;max-width: 100%;overflow: auto;}#sk-container-id-6 input.sk-toggleable__control:checked~label.sk-toggleable__label-arrow:before {content: \"▾\";}#sk-container-id-6 div.sk-estimator input.sk-toggleable__control:checked~label.sk-toggleable__label {background-color: #d4ebff;}#sk-container-id-6 div.sk-label input.sk-toggleable__control:checked~label.sk-toggleable__label {background-color: #d4ebff;}#sk-container-id-6 input.sk-hidden--visually {border: 0;clip: rect(1px 1px 1px 1px);clip: rect(1px, 1px, 1px, 1px);height: 1px;margin: -1px;overflow: hidden;padding: 0;position: absolute;width: 1px;}#sk-container-id-6 div.sk-estimator {font-family: monospace;background-color: #f0f8ff;border: 1px dotted black;border-radius: 0.25em;box-sizing: border-box;margin-bottom: 0.5em;}#sk-container-id-6 div.sk-estimator:hover {background-color: #d4ebff;}#sk-container-id-6 div.sk-parallel-item::after {content: \"\";width: 100%;border-bottom: 1px solid gray;flex-grow: 1;}#sk-container-id-6 div.sk-label:hover label.sk-toggleable__label {background-color: #d4ebff;}#sk-container-id-6 div.sk-serial::before {content: \"\";position: absolute;border-left: 1px solid gray;box-sizing: border-box;top: 0;bottom: 0;left: 50%;z-index: 0;}#sk-container-id-6 div.sk-serial {display: flex;flex-direction: column;align-items: center;background-color: white;padding-right: 0.2em;padding-left: 0.2em;position: relative;}#sk-container-id-6 div.sk-item {position: relative;z-index: 1;}#sk-container-id-6 div.sk-parallel {display: flex;align-items: stretch;justify-content: center;background-color: white;position: relative;}#sk-container-id-6 div.sk-item::before, #sk-container-id-6 div.sk-parallel-item::before {content: \"\";position: absolute;border-left: 1px solid gray;box-sizing: border-box;top: 0;bottom: 0;left: 50%;z-index: -1;}#sk-container-id-6 div.sk-parallel-item {display: flex;flex-direction: column;z-index: 1;position: relative;background-color: white;}#sk-container-id-6 div.sk-parallel-item:first-child::after {align-self: flex-end;width: 50%;}#sk-container-id-6 div.sk-parallel-item:last-child::after {align-self: flex-start;width: 50%;}#sk-container-id-6 div.sk-parallel-item:only-child::after {width: 0;}#sk-container-id-6 div.sk-dashed-wrapped {border: 1px dashed gray;margin: 0 0.4em 0.5em 0.4em;box-sizing: border-box;padding-bottom: 0.4em;background-color: white;}#sk-container-id-6 div.sk-label label {font-family: monospace;font-weight: bold;display: inline-block;line-height: 1.2em;}#sk-container-id-6 div.sk-label-container {text-align: center;}#sk-container-id-6 div.sk-container {/* jupyter's `normalize.less` sets `[hidden] { display: none; }` but bootstrap.min.css set `[hidden] { display: none !important; }` so we also need the `!important` here to be able to override the default hidden behavior on the sphinx rendered scikit-learn.org. See: https://github.com/scikit-learn/scikit-learn/issues/21755 */display: inline-block !important;position: relative;}#sk-container-id-6 div.sk-text-repr-fallback {display: none;}</style><div id=\"sk-container-id-6\" class=\"sk-top-container\"><div class=\"sk-text-repr-fallback\"><pre>Pipeline(steps=[(&#x27;transform&#x27;, StandardScaler()), (&#x27;lr&#x27;, LogisticRegression())])</pre><b>In a Jupyter environment, please rerun this cell to show the HTML representation or trust the notebook. <br />On GitHub, the HTML representation is unable to render, please try loading this page with nbviewer.org.</b></div><div class=\"sk-container\" hidden><div class=\"sk-item sk-dashed-wrapped\"><div class=\"sk-label-container\"><div class=\"sk-label sk-toggleable\"><input class=\"sk-toggleable__control sk-hidden--visually\" id=\"sk-estimator-id-14\" type=\"checkbox\" ><label for=\"sk-estimator-id-14\" class=\"sk-toggleable__label sk-toggleable__label-arrow\">Pipeline</label><div class=\"sk-toggleable__content\"><pre>Pipeline(steps=[(&#x27;transform&#x27;, StandardScaler()), (&#x27;lr&#x27;, LogisticRegression())])</pre></div></div></div><div class=\"sk-serial\"><div class=\"sk-item\"><div class=\"sk-estimator sk-toggleable\"><input class=\"sk-toggleable__control sk-hidden--visually\" id=\"sk-estimator-id-15\" type=\"checkbox\" ><label for=\"sk-estimator-id-15\" class=\"sk-toggleable__label sk-toggleable__label-arrow\">StandardScaler</label><div class=\"sk-toggleable__content\"><pre>StandardScaler()</pre></div></div></div><div class=\"sk-item\"><div class=\"sk-estimator sk-toggleable\"><input class=\"sk-toggleable__control sk-hidden--visually\" id=\"sk-estimator-id-16\" type=\"checkbox\" ><label for=\"sk-estimator-id-16\" class=\"sk-toggleable__label sk-toggleable__label-arrow\">LogisticRegression</label><div class=\"sk-toggleable__content\"><pre>LogisticRegression()</pre></div></div></div></div></div></div></div>"
      ],
      "text/plain": [
       "Pipeline(steps=[('transform', StandardScaler()), ('lr', LogisticRegression())])"
      ]
     },
     "execution_count": 131,
     "metadata": {},
     "output_type": "execute_result"
    }
   ],
   "source": [
    "#Using logistic regression  as it was the best perfroming model so far with defaults\n",
    "lr_start2 = process_time()\n",
    "lr_pipe2 = Pipeline([('transform', StandardScaler()), ('lr', LogisticRegression())])\n",
    "lr_pipe2.fit(X_train2, y_train)\n",
    "lr_stop2 = process_time()\n",
    "lr_pipe2"
   ]
  },
  {
   "cell_type": "code",
   "execution_count": 133,
   "id": "17b86bac",
   "metadata": {},
   "outputs": [
    {
     "name": "stdout",
     "output_type": "stream",
     "text": [
      "              precision    recall  f1-score   support\n",
      "\n",
      "           0       0.81      0.61      0.70     21726\n",
      "           1       0.40      0.64      0.49      8804\n",
      "\n",
      "    accuracy                           0.62     30530\n",
      "   macro avg       0.60      0.62      0.59     30530\n",
      "weighted avg       0.69      0.62      0.64     30530\n",
      "\n",
      "Training Accuracy :  0.62\n",
      "Test Accuracy     :  0.61870292\n",
      "Train Time        : 0.203125\n"
     ]
    }
   ],
   "source": [
    "lr_train_acc2 = lr_pipe2.score(X_train2, y_train)\n",
    "lr_test_acc2 = lr_pipe2.score(X_test2, y_test)\n",
    "lr_predictions2 = lr_pipe2.predict(X_test2)\n",
    "lr_time2= lr_stop2-lr_start2\n",
    "\n",
    "### Results\n",
    "print(classification_report(lr_predictions2, y_test))\n",
    "\n",
    "print(f'Training Accuracy : {lr_train_acc2: .2f}')\n",
    "print(f'Test Accuracy     : {lr_test_acc2: .8f}')\n",
    "print(f'Train Time        : {lr_time2}')"
   ]
  },
  {
   "cell_type": "markdown",
   "id": "a36032d7",
   "metadata": {},
   "source": [
    "We see that the test accuracy drops ever so slightly after the removal of these 4 features from 61.90 to 61.87 but the training time improves by 40% (0.35 to 0.20). Also, we will keep these features for now but we can consider dropping them without losing much in our model if we encounter perfromance issues further."
   ]
  },
  {
   "cell_type": "markdown",
   "id": "91fc4e06",
   "metadata": {},
   "source": [
    "### Find Best Logistic Regression Using Grid Search CV"
   ]
  },
  {
   "cell_type": "code",
   "execution_count": 137,
   "id": "3e4a7e34",
   "metadata": {},
   "outputs": [],
   "source": [
    "lr_params = {'lr__C': np.logspace(-3,3,7),\n",
    "         'lr__penalty': [\"l1\",\"l2\"]    # l1 lasso l2 ridge\n",
    "         }"
   ]
  },
  {
   "cell_type": "markdown",
   "id": "3ca1cdd2",
   "metadata": {},
   "source": [
    "#### Grid Search with model using default scoring"
   ]
  },
  {
   "cell_type": "code",
   "execution_count": 138,
   "id": "42be9138",
   "metadata": {},
   "outputs": [
    {
     "data": {
      "text/html": [
       "<style>#sk-container-id-7 {color: black;background-color: white;}#sk-container-id-7 pre{padding: 0;}#sk-container-id-7 div.sk-toggleable {background-color: white;}#sk-container-id-7 label.sk-toggleable__label {cursor: pointer;display: block;width: 100%;margin-bottom: 0;padding: 0.3em;box-sizing: border-box;text-align: center;}#sk-container-id-7 label.sk-toggleable__label-arrow:before {content: \"▸\";float: left;margin-right: 0.25em;color: #696969;}#sk-container-id-7 label.sk-toggleable__label-arrow:hover:before {color: black;}#sk-container-id-7 div.sk-estimator:hover label.sk-toggleable__label-arrow:before {color: black;}#sk-container-id-7 div.sk-toggleable__content {max-height: 0;max-width: 0;overflow: hidden;text-align: left;background-color: #f0f8ff;}#sk-container-id-7 div.sk-toggleable__content pre {margin: 0.2em;color: black;border-radius: 0.25em;background-color: #f0f8ff;}#sk-container-id-7 input.sk-toggleable__control:checked~div.sk-toggleable__content {max-height: 200px;max-width: 100%;overflow: auto;}#sk-container-id-7 input.sk-toggleable__control:checked~label.sk-toggleable__label-arrow:before {content: \"▾\";}#sk-container-id-7 div.sk-estimator input.sk-toggleable__control:checked~label.sk-toggleable__label {background-color: #d4ebff;}#sk-container-id-7 div.sk-label input.sk-toggleable__control:checked~label.sk-toggleable__label {background-color: #d4ebff;}#sk-container-id-7 input.sk-hidden--visually {border: 0;clip: rect(1px 1px 1px 1px);clip: rect(1px, 1px, 1px, 1px);height: 1px;margin: -1px;overflow: hidden;padding: 0;position: absolute;width: 1px;}#sk-container-id-7 div.sk-estimator {font-family: monospace;background-color: #f0f8ff;border: 1px dotted black;border-radius: 0.25em;box-sizing: border-box;margin-bottom: 0.5em;}#sk-container-id-7 div.sk-estimator:hover {background-color: #d4ebff;}#sk-container-id-7 div.sk-parallel-item::after {content: \"\";width: 100%;border-bottom: 1px solid gray;flex-grow: 1;}#sk-container-id-7 div.sk-label:hover label.sk-toggleable__label {background-color: #d4ebff;}#sk-container-id-7 div.sk-serial::before {content: \"\";position: absolute;border-left: 1px solid gray;box-sizing: border-box;top: 0;bottom: 0;left: 50%;z-index: 0;}#sk-container-id-7 div.sk-serial {display: flex;flex-direction: column;align-items: center;background-color: white;padding-right: 0.2em;padding-left: 0.2em;position: relative;}#sk-container-id-7 div.sk-item {position: relative;z-index: 1;}#sk-container-id-7 div.sk-parallel {display: flex;align-items: stretch;justify-content: center;background-color: white;position: relative;}#sk-container-id-7 div.sk-item::before, #sk-container-id-7 div.sk-parallel-item::before {content: \"\";position: absolute;border-left: 1px solid gray;box-sizing: border-box;top: 0;bottom: 0;left: 50%;z-index: -1;}#sk-container-id-7 div.sk-parallel-item {display: flex;flex-direction: column;z-index: 1;position: relative;background-color: white;}#sk-container-id-7 div.sk-parallel-item:first-child::after {align-self: flex-end;width: 50%;}#sk-container-id-7 div.sk-parallel-item:last-child::after {align-self: flex-start;width: 50%;}#sk-container-id-7 div.sk-parallel-item:only-child::after {width: 0;}#sk-container-id-7 div.sk-dashed-wrapped {border: 1px dashed gray;margin: 0 0.4em 0.5em 0.4em;box-sizing: border-box;padding-bottom: 0.4em;background-color: white;}#sk-container-id-7 div.sk-label label {font-family: monospace;font-weight: bold;display: inline-block;line-height: 1.2em;}#sk-container-id-7 div.sk-label-container {text-align: center;}#sk-container-id-7 div.sk-container {/* jupyter's `normalize.less` sets `[hidden] { display: none; }` but bootstrap.min.css set `[hidden] { display: none !important; }` so we also need the `!important` here to be able to override the default hidden behavior on the sphinx rendered scikit-learn.org. See: https://github.com/scikit-learn/scikit-learn/issues/21755 */display: inline-block !important;position: relative;}#sk-container-id-7 div.sk-text-repr-fallback {display: none;}</style><div id=\"sk-container-id-7\" class=\"sk-top-container\"><div class=\"sk-text-repr-fallback\"><pre>GridSearchCV(estimator=Pipeline(steps=[(&#x27;transform&#x27;, StandardScaler()),\n",
       "                                       (&#x27;lr&#x27;, LogisticRegression())]),\n",
       "             param_grid={&#x27;lr__C&#x27;: array([1.e-03, 1.e-02, 1.e-01, 1.e+00, 1.e+01, 1.e+02, 1.e+03]),\n",
       "                         &#x27;lr__penalty&#x27;: [&#x27;l1&#x27;, &#x27;l2&#x27;]})</pre><b>In a Jupyter environment, please rerun this cell to show the HTML representation or trust the notebook. <br />On GitHub, the HTML representation is unable to render, please try loading this page with nbviewer.org.</b></div><div class=\"sk-container\" hidden><div class=\"sk-item sk-dashed-wrapped\"><div class=\"sk-label-container\"><div class=\"sk-label sk-toggleable\"><input class=\"sk-toggleable__control sk-hidden--visually\" id=\"sk-estimator-id-17\" type=\"checkbox\" ><label for=\"sk-estimator-id-17\" class=\"sk-toggleable__label sk-toggleable__label-arrow\">GridSearchCV</label><div class=\"sk-toggleable__content\"><pre>GridSearchCV(estimator=Pipeline(steps=[(&#x27;transform&#x27;, StandardScaler()),\n",
       "                                       (&#x27;lr&#x27;, LogisticRegression())]),\n",
       "             param_grid={&#x27;lr__C&#x27;: array([1.e-03, 1.e-02, 1.e-01, 1.e+00, 1.e+01, 1.e+02, 1.e+03]),\n",
       "                         &#x27;lr__penalty&#x27;: [&#x27;l1&#x27;, &#x27;l2&#x27;]})</pre></div></div></div><div class=\"sk-parallel\"><div class=\"sk-parallel-item\"><div class=\"sk-item\"><div class=\"sk-label-container\"><div class=\"sk-label sk-toggleable\"><input class=\"sk-toggleable__control sk-hidden--visually\" id=\"sk-estimator-id-18\" type=\"checkbox\" ><label for=\"sk-estimator-id-18\" class=\"sk-toggleable__label sk-toggleable__label-arrow\">estimator: Pipeline</label><div class=\"sk-toggleable__content\"><pre>Pipeline(steps=[(&#x27;transform&#x27;, StandardScaler()), (&#x27;lr&#x27;, LogisticRegression())])</pre></div></div></div><div class=\"sk-serial\"><div class=\"sk-item\"><div class=\"sk-serial\"><div class=\"sk-item\"><div class=\"sk-estimator sk-toggleable\"><input class=\"sk-toggleable__control sk-hidden--visually\" id=\"sk-estimator-id-19\" type=\"checkbox\" ><label for=\"sk-estimator-id-19\" class=\"sk-toggleable__label sk-toggleable__label-arrow\">StandardScaler</label><div class=\"sk-toggleable__content\"><pre>StandardScaler()</pre></div></div></div><div class=\"sk-item\"><div class=\"sk-estimator sk-toggleable\"><input class=\"sk-toggleable__control sk-hidden--visually\" id=\"sk-estimator-id-20\" type=\"checkbox\" ><label for=\"sk-estimator-id-20\" class=\"sk-toggleable__label sk-toggleable__label-arrow\">LogisticRegression</label><div class=\"sk-toggleable__content\"><pre>LogisticRegression()</pre></div></div></div></div></div></div></div></div></div></div></div></div>"
      ],
      "text/plain": [
       "GridSearchCV(estimator=Pipeline(steps=[('transform', StandardScaler()),\n",
       "                                       ('lr', LogisticRegression())]),\n",
       "             param_grid={'lr__C': array([1.e-03, 1.e-02, 1.e-01, 1.e+00, 1.e+01, 1.e+02, 1.e+03]),\n",
       "                         'lr__penalty': ['l1', 'l2']})"
      ]
     },
     "execution_count": 138,
     "metadata": {},
     "output_type": "execute_result"
    }
   ],
   "source": [
    "#Grid Search with model using default scoring\n",
    "lr_grid_def = GridSearchCV(lr_pipe, param_grid = lr_params)\n",
    "lr_grid_def.fit(X_train, y_train)"
   ]
  },
  {
   "cell_type": "code",
   "execution_count": 139,
   "id": "de2ff6b9",
   "metadata": {},
   "outputs": [
    {
     "name": "stdout",
     "output_type": "stream",
     "text": [
      "              precision    recall  f1-score   support\n",
      "\n",
      "           0       0.81      0.61      0.70     21678\n",
      "           1       0.40      0.64      0.49      8852\n",
      "\n",
      "    accuracy                           0.62     30530\n",
      "   macro avg       0.60      0.62      0.59     30530\n",
      "weighted avg       0.69      0.62      0.64     30530\n",
      "\n",
      "Train Accuracy:  0.62\n",
      "Test Accuracy    :  0.61909597\n",
      "Train Time: 0.6916268825531007\n",
      "Best parameters: {'lr__C': 10.0, 'lr__penalty': 'l2'}\n"
     ]
    }
   ],
   "source": [
    "lr_train_acc_g_def = lr_grid_def.score(X_train, y_train)\n",
    "lr_test_acc_g_def = lr_grid_def.score(X_test, y_test)\n",
    "lr_best_params_g_def = lr_grid_def.best_params_\n",
    "lr_predictions_g_def = lr_grid_def.predict(X_test)\n",
    "\n",
    "### Results\n",
    "print(classification_report(lr_predictions_g_def, y_test))\n",
    "\n",
    "print(f'Train Accuracy: {lr_train_acc_g_def: .2f}')\n",
    "print(f'Test Accuracy    : {lr_test_acc_g_def: .8f}')\n",
    "print(f'Train Time: {np.sum(lr_grid_def.cv_results_[\"mean_fit_time\"])}')\n",
    "print(f'Best parameters: {lr_best_params_g_def}')"
   ]
  },
  {
   "cell_type": "markdown",
   "id": "817c77fd",
   "metadata": {},
   "source": [
    "#### Grid Search with model using \"roc_auc\" scoring"
   ]
  },
  {
   "cell_type": "code",
   "execution_count": 140,
   "id": "2f609af0",
   "metadata": {},
   "outputs": [
    {
     "data": {
      "text/html": [
       "<style>#sk-container-id-8 {color: black;background-color: white;}#sk-container-id-8 pre{padding: 0;}#sk-container-id-8 div.sk-toggleable {background-color: white;}#sk-container-id-8 label.sk-toggleable__label {cursor: pointer;display: block;width: 100%;margin-bottom: 0;padding: 0.3em;box-sizing: border-box;text-align: center;}#sk-container-id-8 label.sk-toggleable__label-arrow:before {content: \"▸\";float: left;margin-right: 0.25em;color: #696969;}#sk-container-id-8 label.sk-toggleable__label-arrow:hover:before {color: black;}#sk-container-id-8 div.sk-estimator:hover label.sk-toggleable__label-arrow:before {color: black;}#sk-container-id-8 div.sk-toggleable__content {max-height: 0;max-width: 0;overflow: hidden;text-align: left;background-color: #f0f8ff;}#sk-container-id-8 div.sk-toggleable__content pre {margin: 0.2em;color: black;border-radius: 0.25em;background-color: #f0f8ff;}#sk-container-id-8 input.sk-toggleable__control:checked~div.sk-toggleable__content {max-height: 200px;max-width: 100%;overflow: auto;}#sk-container-id-8 input.sk-toggleable__control:checked~label.sk-toggleable__label-arrow:before {content: \"▾\";}#sk-container-id-8 div.sk-estimator input.sk-toggleable__control:checked~label.sk-toggleable__label {background-color: #d4ebff;}#sk-container-id-8 div.sk-label input.sk-toggleable__control:checked~label.sk-toggleable__label {background-color: #d4ebff;}#sk-container-id-8 input.sk-hidden--visually {border: 0;clip: rect(1px 1px 1px 1px);clip: rect(1px, 1px, 1px, 1px);height: 1px;margin: -1px;overflow: hidden;padding: 0;position: absolute;width: 1px;}#sk-container-id-8 div.sk-estimator {font-family: monospace;background-color: #f0f8ff;border: 1px dotted black;border-radius: 0.25em;box-sizing: border-box;margin-bottom: 0.5em;}#sk-container-id-8 div.sk-estimator:hover {background-color: #d4ebff;}#sk-container-id-8 div.sk-parallel-item::after {content: \"\";width: 100%;border-bottom: 1px solid gray;flex-grow: 1;}#sk-container-id-8 div.sk-label:hover label.sk-toggleable__label {background-color: #d4ebff;}#sk-container-id-8 div.sk-serial::before {content: \"\";position: absolute;border-left: 1px solid gray;box-sizing: border-box;top: 0;bottom: 0;left: 50%;z-index: 0;}#sk-container-id-8 div.sk-serial {display: flex;flex-direction: column;align-items: center;background-color: white;padding-right: 0.2em;padding-left: 0.2em;position: relative;}#sk-container-id-8 div.sk-item {position: relative;z-index: 1;}#sk-container-id-8 div.sk-parallel {display: flex;align-items: stretch;justify-content: center;background-color: white;position: relative;}#sk-container-id-8 div.sk-item::before, #sk-container-id-8 div.sk-parallel-item::before {content: \"\";position: absolute;border-left: 1px solid gray;box-sizing: border-box;top: 0;bottom: 0;left: 50%;z-index: -1;}#sk-container-id-8 div.sk-parallel-item {display: flex;flex-direction: column;z-index: 1;position: relative;background-color: white;}#sk-container-id-8 div.sk-parallel-item:first-child::after {align-self: flex-end;width: 50%;}#sk-container-id-8 div.sk-parallel-item:last-child::after {align-self: flex-start;width: 50%;}#sk-container-id-8 div.sk-parallel-item:only-child::after {width: 0;}#sk-container-id-8 div.sk-dashed-wrapped {border: 1px dashed gray;margin: 0 0.4em 0.5em 0.4em;box-sizing: border-box;padding-bottom: 0.4em;background-color: white;}#sk-container-id-8 div.sk-label label {font-family: monospace;font-weight: bold;display: inline-block;line-height: 1.2em;}#sk-container-id-8 div.sk-label-container {text-align: center;}#sk-container-id-8 div.sk-container {/* jupyter's `normalize.less` sets `[hidden] { display: none; }` but bootstrap.min.css set `[hidden] { display: none !important; }` so we also need the `!important` here to be able to override the default hidden behavior on the sphinx rendered scikit-learn.org. See: https://github.com/scikit-learn/scikit-learn/issues/21755 */display: inline-block !important;position: relative;}#sk-container-id-8 div.sk-text-repr-fallback {display: none;}</style><div id=\"sk-container-id-8\" class=\"sk-top-container\"><div class=\"sk-text-repr-fallback\"><pre>GridSearchCV(estimator=Pipeline(steps=[(&#x27;transform&#x27;, StandardScaler()),\n",
       "                                       (&#x27;lr&#x27;, LogisticRegression())]),\n",
       "             param_grid={&#x27;lr__C&#x27;: array([1.e-03, 1.e-02, 1.e-01, 1.e+00, 1.e+01, 1.e+02, 1.e+03]),\n",
       "                         &#x27;lr__penalty&#x27;: [&#x27;l1&#x27;, &#x27;l2&#x27;]},\n",
       "             scoring=&#x27;roc_auc&#x27;)</pre><b>In a Jupyter environment, please rerun this cell to show the HTML representation or trust the notebook. <br />On GitHub, the HTML representation is unable to render, please try loading this page with nbviewer.org.</b></div><div class=\"sk-container\" hidden><div class=\"sk-item sk-dashed-wrapped\"><div class=\"sk-label-container\"><div class=\"sk-label sk-toggleable\"><input class=\"sk-toggleable__control sk-hidden--visually\" id=\"sk-estimator-id-21\" type=\"checkbox\" ><label for=\"sk-estimator-id-21\" class=\"sk-toggleable__label sk-toggleable__label-arrow\">GridSearchCV</label><div class=\"sk-toggleable__content\"><pre>GridSearchCV(estimator=Pipeline(steps=[(&#x27;transform&#x27;, StandardScaler()),\n",
       "                                       (&#x27;lr&#x27;, LogisticRegression())]),\n",
       "             param_grid={&#x27;lr__C&#x27;: array([1.e-03, 1.e-02, 1.e-01, 1.e+00, 1.e+01, 1.e+02, 1.e+03]),\n",
       "                         &#x27;lr__penalty&#x27;: [&#x27;l1&#x27;, &#x27;l2&#x27;]},\n",
       "             scoring=&#x27;roc_auc&#x27;)</pre></div></div></div><div class=\"sk-parallel\"><div class=\"sk-parallel-item\"><div class=\"sk-item\"><div class=\"sk-label-container\"><div class=\"sk-label sk-toggleable\"><input class=\"sk-toggleable__control sk-hidden--visually\" id=\"sk-estimator-id-22\" type=\"checkbox\" ><label for=\"sk-estimator-id-22\" class=\"sk-toggleable__label sk-toggleable__label-arrow\">estimator: Pipeline</label><div class=\"sk-toggleable__content\"><pre>Pipeline(steps=[(&#x27;transform&#x27;, StandardScaler()), (&#x27;lr&#x27;, LogisticRegression())])</pre></div></div></div><div class=\"sk-serial\"><div class=\"sk-item\"><div class=\"sk-serial\"><div class=\"sk-item\"><div class=\"sk-estimator sk-toggleable\"><input class=\"sk-toggleable__control sk-hidden--visually\" id=\"sk-estimator-id-23\" type=\"checkbox\" ><label for=\"sk-estimator-id-23\" class=\"sk-toggleable__label sk-toggleable__label-arrow\">StandardScaler</label><div class=\"sk-toggleable__content\"><pre>StandardScaler()</pre></div></div></div><div class=\"sk-item\"><div class=\"sk-estimator sk-toggleable\"><input class=\"sk-toggleable__control sk-hidden--visually\" id=\"sk-estimator-id-24\" type=\"checkbox\" ><label for=\"sk-estimator-id-24\" class=\"sk-toggleable__label sk-toggleable__label-arrow\">LogisticRegression</label><div class=\"sk-toggleable__content\"><pre>LogisticRegression()</pre></div></div></div></div></div></div></div></div></div></div></div></div>"
      ],
      "text/plain": [
       "GridSearchCV(estimator=Pipeline(steps=[('transform', StandardScaler()),\n",
       "                                       ('lr', LogisticRegression())]),\n",
       "             param_grid={'lr__C': array([1.e-03, 1.e-02, 1.e-01, 1.e+00, 1.e+01, 1.e+02, 1.e+03]),\n",
       "                         'lr__penalty': ['l1', 'l2']},\n",
       "             scoring='roc_auc')"
      ]
     },
     "execution_count": 140,
     "metadata": {},
     "output_type": "execute_result"
    }
   ],
   "source": [
    "lr_grid = GridSearchCV(lr_pipe, param_grid = lr_params, scoring='roc_auc')\n",
    "lr_grid.fit(X_train, y_train)"
   ]
  },
  {
   "cell_type": "code",
   "execution_count": 141,
   "id": "bd81de5a",
   "metadata": {},
   "outputs": [
    {
     "name": "stdout",
     "output_type": "stream",
     "text": [
      "              precision    recall  f1-score   support\n",
      "\n",
      "           0       0.81      0.61      0.70     21678\n",
      "           1       0.40      0.64      0.49      8852\n",
      "\n",
      "    accuracy                           0.62     30530\n",
      "   macro avg       0.60      0.62      0.59     30530\n",
      "weighted avg       0.69      0.62      0.64     30530\n",
      "\n",
      "Train Accuracy:  0.65\n",
      "Test Accuracy    :  0.65397841\n",
      "Train Time: 0.6456559181213378\n",
      "Best parameters: {'lr__C': 100.0, 'lr__penalty': 'l2'}\n"
     ]
    }
   ],
   "source": [
    "lr_train_acc_g = lr_grid.score(X_train, y_train)\n",
    "lr_test_acc_g = lr_grid.score(X_test, y_test)\n",
    "lr_best_params_g = lr_grid.best_params_\n",
    "lr_predictions_g = lr_grid.predict(X_test)\n",
    "\n",
    "### Results\n",
    "print(classification_report(lr_predictions_g, y_test))\n",
    "\n",
    "print(f'Train Accuracy: {lr_train_acc_g: .2f}')\n",
    "print(f'Test Accuracy    : {lr_test_acc_g: .8f}')\n",
    "print(f'Train Time: {np.sum(lr_grid.cv_results_[\"mean_fit_time\"])}')\n",
    "print(f'Best parameters: {lr_best_params_g}')"
   ]
  },
  {
   "cell_type": "markdown",
   "id": "d803a968",
   "metadata": {},
   "source": [
    "We will be using the \"roc_auc\" scoring as the data is balanced at it improves our test accuracy."
   ]
  },
  {
   "cell_type": "markdown",
   "id": "cbba3195",
   "metadata": {},
   "source": [
    "### Find Best KNN Classifier Using Grid Search CV"
   ]
  },
  {
   "cell_type": "code",
   "execution_count": 142,
   "id": "ad35d3fb",
   "metadata": {},
   "outputs": [
    {
     "data": {
      "text/html": [
       "<style>#sk-container-id-9 {color: black;background-color: white;}#sk-container-id-9 pre{padding: 0;}#sk-container-id-9 div.sk-toggleable {background-color: white;}#sk-container-id-9 label.sk-toggleable__label {cursor: pointer;display: block;width: 100%;margin-bottom: 0;padding: 0.3em;box-sizing: border-box;text-align: center;}#sk-container-id-9 label.sk-toggleable__label-arrow:before {content: \"▸\";float: left;margin-right: 0.25em;color: #696969;}#sk-container-id-9 label.sk-toggleable__label-arrow:hover:before {color: black;}#sk-container-id-9 div.sk-estimator:hover label.sk-toggleable__label-arrow:before {color: black;}#sk-container-id-9 div.sk-toggleable__content {max-height: 0;max-width: 0;overflow: hidden;text-align: left;background-color: #f0f8ff;}#sk-container-id-9 div.sk-toggleable__content pre {margin: 0.2em;color: black;border-radius: 0.25em;background-color: #f0f8ff;}#sk-container-id-9 input.sk-toggleable__control:checked~div.sk-toggleable__content {max-height: 200px;max-width: 100%;overflow: auto;}#sk-container-id-9 input.sk-toggleable__control:checked~label.sk-toggleable__label-arrow:before {content: \"▾\";}#sk-container-id-9 div.sk-estimator input.sk-toggleable__control:checked~label.sk-toggleable__label {background-color: #d4ebff;}#sk-container-id-9 div.sk-label input.sk-toggleable__control:checked~label.sk-toggleable__label {background-color: #d4ebff;}#sk-container-id-9 input.sk-hidden--visually {border: 0;clip: rect(1px 1px 1px 1px);clip: rect(1px, 1px, 1px, 1px);height: 1px;margin: -1px;overflow: hidden;padding: 0;position: absolute;width: 1px;}#sk-container-id-9 div.sk-estimator {font-family: monospace;background-color: #f0f8ff;border: 1px dotted black;border-radius: 0.25em;box-sizing: border-box;margin-bottom: 0.5em;}#sk-container-id-9 div.sk-estimator:hover {background-color: #d4ebff;}#sk-container-id-9 div.sk-parallel-item::after {content: \"\";width: 100%;border-bottom: 1px solid gray;flex-grow: 1;}#sk-container-id-9 div.sk-label:hover label.sk-toggleable__label {background-color: #d4ebff;}#sk-container-id-9 div.sk-serial::before {content: \"\";position: absolute;border-left: 1px solid gray;box-sizing: border-box;top: 0;bottom: 0;left: 50%;z-index: 0;}#sk-container-id-9 div.sk-serial {display: flex;flex-direction: column;align-items: center;background-color: white;padding-right: 0.2em;padding-left: 0.2em;position: relative;}#sk-container-id-9 div.sk-item {position: relative;z-index: 1;}#sk-container-id-9 div.sk-parallel {display: flex;align-items: stretch;justify-content: center;background-color: white;position: relative;}#sk-container-id-9 div.sk-item::before, #sk-container-id-9 div.sk-parallel-item::before {content: \"\";position: absolute;border-left: 1px solid gray;box-sizing: border-box;top: 0;bottom: 0;left: 50%;z-index: -1;}#sk-container-id-9 div.sk-parallel-item {display: flex;flex-direction: column;z-index: 1;position: relative;background-color: white;}#sk-container-id-9 div.sk-parallel-item:first-child::after {align-self: flex-end;width: 50%;}#sk-container-id-9 div.sk-parallel-item:last-child::after {align-self: flex-start;width: 50%;}#sk-container-id-9 div.sk-parallel-item:only-child::after {width: 0;}#sk-container-id-9 div.sk-dashed-wrapped {border: 1px dashed gray;margin: 0 0.4em 0.5em 0.4em;box-sizing: border-box;padding-bottom: 0.4em;background-color: white;}#sk-container-id-9 div.sk-label label {font-family: monospace;font-weight: bold;display: inline-block;line-height: 1.2em;}#sk-container-id-9 div.sk-label-container {text-align: center;}#sk-container-id-9 div.sk-container {/* jupyter's `normalize.less` sets `[hidden] { display: none; }` but bootstrap.min.css set `[hidden] { display: none !important; }` so we also need the `!important` here to be able to override the default hidden behavior on the sphinx rendered scikit-learn.org. See: https://github.com/scikit-learn/scikit-learn/issues/21755 */display: inline-block !important;position: relative;}#sk-container-id-9 div.sk-text-repr-fallback {display: none;}</style><div id=\"sk-container-id-9\" class=\"sk-top-container\"><div class=\"sk-text-repr-fallback\"><pre>GridSearchCV(estimator=Pipeline(steps=[(&#x27;transform&#x27;, StandardScaler()),\n",
       "                                       (&#x27;knn&#x27;, KNeighborsClassifier())]),\n",
       "             param_grid={&#x27;knn__n_neighbors&#x27;: range(1, 51, 2),\n",
       "                         &#x27;knn__weights&#x27;: [&#x27;uniform&#x27;, &#x27;distance&#x27;]},\n",
       "             scoring=&#x27;roc_auc&#x27;)</pre><b>In a Jupyter environment, please rerun this cell to show the HTML representation or trust the notebook. <br />On GitHub, the HTML representation is unable to render, please try loading this page with nbviewer.org.</b></div><div class=\"sk-container\" hidden><div class=\"sk-item sk-dashed-wrapped\"><div class=\"sk-label-container\"><div class=\"sk-label sk-toggleable\"><input class=\"sk-toggleable__control sk-hidden--visually\" id=\"sk-estimator-id-25\" type=\"checkbox\" ><label for=\"sk-estimator-id-25\" class=\"sk-toggleable__label sk-toggleable__label-arrow\">GridSearchCV</label><div class=\"sk-toggleable__content\"><pre>GridSearchCV(estimator=Pipeline(steps=[(&#x27;transform&#x27;, StandardScaler()),\n",
       "                                       (&#x27;knn&#x27;, KNeighborsClassifier())]),\n",
       "             param_grid={&#x27;knn__n_neighbors&#x27;: range(1, 51, 2),\n",
       "                         &#x27;knn__weights&#x27;: [&#x27;uniform&#x27;, &#x27;distance&#x27;]},\n",
       "             scoring=&#x27;roc_auc&#x27;)</pre></div></div></div><div class=\"sk-parallel\"><div class=\"sk-parallel-item\"><div class=\"sk-item\"><div class=\"sk-label-container\"><div class=\"sk-label sk-toggleable\"><input class=\"sk-toggleable__control sk-hidden--visually\" id=\"sk-estimator-id-26\" type=\"checkbox\" ><label for=\"sk-estimator-id-26\" class=\"sk-toggleable__label sk-toggleable__label-arrow\">estimator: Pipeline</label><div class=\"sk-toggleable__content\"><pre>Pipeline(steps=[(&#x27;transform&#x27;, StandardScaler()),\n",
       "                (&#x27;knn&#x27;, KNeighborsClassifier())])</pre></div></div></div><div class=\"sk-serial\"><div class=\"sk-item\"><div class=\"sk-serial\"><div class=\"sk-item\"><div class=\"sk-estimator sk-toggleable\"><input class=\"sk-toggleable__control sk-hidden--visually\" id=\"sk-estimator-id-27\" type=\"checkbox\" ><label for=\"sk-estimator-id-27\" class=\"sk-toggleable__label sk-toggleable__label-arrow\">StandardScaler</label><div class=\"sk-toggleable__content\"><pre>StandardScaler()</pre></div></div></div><div class=\"sk-item\"><div class=\"sk-estimator sk-toggleable\"><input class=\"sk-toggleable__control sk-hidden--visually\" id=\"sk-estimator-id-28\" type=\"checkbox\" ><label for=\"sk-estimator-id-28\" class=\"sk-toggleable__label sk-toggleable__label-arrow\">KNeighborsClassifier</label><div class=\"sk-toggleable__content\"><pre>KNeighborsClassifier()</pre></div></div></div></div></div></div></div></div></div></div></div></div>"
      ],
      "text/plain": [
       "GridSearchCV(estimator=Pipeline(steps=[('transform', StandardScaler()),\n",
       "                                       ('knn', KNeighborsClassifier())]),\n",
       "             param_grid={'knn__n_neighbors': range(1, 51, 2),\n",
       "                         'knn__weights': ['uniform', 'distance']},\n",
       "             scoring='roc_auc')"
      ]
     },
     "execution_count": 142,
     "metadata": {},
     "output_type": "execute_result"
    }
   ],
   "source": [
    "knn_params = {'knn__n_neighbors': range(1, 51, 2), 'knn__weights':['uniform', 'distance']} \n",
    "knn_grid = GridSearchCV(knn_pipe, param_grid = knn_params , scoring='roc_auc')\n",
    "knn_grid.fit(X_train, y_train)"
   ]
  },
  {
   "cell_type": "code",
   "execution_count": 148,
   "id": "d1b9293d",
   "metadata": {},
   "outputs": [
    {
     "name": "stdout",
     "output_type": "stream",
     "text": [
      "              precision    recall  f1-score   support\n",
      "\n",
      "           0       0.75      0.61      0.68     20185\n",
      "           1       0.45      0.61      0.51     10345\n",
      "\n",
      "    accuracy                           0.61     30530\n",
      "   macro avg       0.60      0.61      0.59     30530\n",
      "weighted avg       0.65      0.61      0.62     30530\n",
      "\n",
      "Train Accuracy:  1.00\n",
      "Test Accuracy    :  0.65281605\n",
      "Train Time: 3.147925472259521\n",
      "Best parameters: {'knn__n_neighbors': 49, 'knn__weights': 'distance'}\n"
     ]
    }
   ],
   "source": [
    "knn_train_acc_g = knn_grid.score(X_train, y_train)\n",
    "knn_test_acc_g = knn_grid.score(X_test, y_test)\n",
    "knn_best_params_g = knn_grid.best_params_\n",
    "knn_predictions_g = knn_grid.predict(X_test)\n",
    "\n",
    "### Results\n",
    "print(classification_report(knn_predictions_g, y_test))\n",
    "\n",
    "print(f'Train Accuracy: {knn_train_acc_g: .2f}')\n",
    "print(f'Test Accuracy    : {knn_test_acc_g: .8f}')\n",
    "print(f'Train Time: {np.sum(knn_grid.cv_results_[\"mean_fit_time\"])}')\n",
    "print(f'Best parameters: {knn_best_params_g}')"
   ]
  },
  {
   "cell_type": "markdown",
   "id": "7fa689b1",
   "metadata": {},
   "source": [
    "### Find Best Decision Tree Using Grid Search CV"
   ]
  },
  {
   "cell_type": "code",
   "execution_count": 149,
   "id": "d33fb04a",
   "metadata": {},
   "outputs": [
    {
     "data": {
      "text/html": [
       "<style>#sk-container-id-10 {color: black;background-color: white;}#sk-container-id-10 pre{padding: 0;}#sk-container-id-10 div.sk-toggleable {background-color: white;}#sk-container-id-10 label.sk-toggleable__label {cursor: pointer;display: block;width: 100%;margin-bottom: 0;padding: 0.3em;box-sizing: border-box;text-align: center;}#sk-container-id-10 label.sk-toggleable__label-arrow:before {content: \"▸\";float: left;margin-right: 0.25em;color: #696969;}#sk-container-id-10 label.sk-toggleable__label-arrow:hover:before {color: black;}#sk-container-id-10 div.sk-estimator:hover label.sk-toggleable__label-arrow:before {color: black;}#sk-container-id-10 div.sk-toggleable__content {max-height: 0;max-width: 0;overflow: hidden;text-align: left;background-color: #f0f8ff;}#sk-container-id-10 div.sk-toggleable__content pre {margin: 0.2em;color: black;border-radius: 0.25em;background-color: #f0f8ff;}#sk-container-id-10 input.sk-toggleable__control:checked~div.sk-toggleable__content {max-height: 200px;max-width: 100%;overflow: auto;}#sk-container-id-10 input.sk-toggleable__control:checked~label.sk-toggleable__label-arrow:before {content: \"▾\";}#sk-container-id-10 div.sk-estimator input.sk-toggleable__control:checked~label.sk-toggleable__label {background-color: #d4ebff;}#sk-container-id-10 div.sk-label input.sk-toggleable__control:checked~label.sk-toggleable__label {background-color: #d4ebff;}#sk-container-id-10 input.sk-hidden--visually {border: 0;clip: rect(1px 1px 1px 1px);clip: rect(1px, 1px, 1px, 1px);height: 1px;margin: -1px;overflow: hidden;padding: 0;position: absolute;width: 1px;}#sk-container-id-10 div.sk-estimator {font-family: monospace;background-color: #f0f8ff;border: 1px dotted black;border-radius: 0.25em;box-sizing: border-box;margin-bottom: 0.5em;}#sk-container-id-10 div.sk-estimator:hover {background-color: #d4ebff;}#sk-container-id-10 div.sk-parallel-item::after {content: \"\";width: 100%;border-bottom: 1px solid gray;flex-grow: 1;}#sk-container-id-10 div.sk-label:hover label.sk-toggleable__label {background-color: #d4ebff;}#sk-container-id-10 div.sk-serial::before {content: \"\";position: absolute;border-left: 1px solid gray;box-sizing: border-box;top: 0;bottom: 0;left: 50%;z-index: 0;}#sk-container-id-10 div.sk-serial {display: flex;flex-direction: column;align-items: center;background-color: white;padding-right: 0.2em;padding-left: 0.2em;position: relative;}#sk-container-id-10 div.sk-item {position: relative;z-index: 1;}#sk-container-id-10 div.sk-parallel {display: flex;align-items: stretch;justify-content: center;background-color: white;position: relative;}#sk-container-id-10 div.sk-item::before, #sk-container-id-10 div.sk-parallel-item::before {content: \"\";position: absolute;border-left: 1px solid gray;box-sizing: border-box;top: 0;bottom: 0;left: 50%;z-index: -1;}#sk-container-id-10 div.sk-parallel-item {display: flex;flex-direction: column;z-index: 1;position: relative;background-color: white;}#sk-container-id-10 div.sk-parallel-item:first-child::after {align-self: flex-end;width: 50%;}#sk-container-id-10 div.sk-parallel-item:last-child::after {align-self: flex-start;width: 50%;}#sk-container-id-10 div.sk-parallel-item:only-child::after {width: 0;}#sk-container-id-10 div.sk-dashed-wrapped {border: 1px dashed gray;margin: 0 0.4em 0.5em 0.4em;box-sizing: border-box;padding-bottom: 0.4em;background-color: white;}#sk-container-id-10 div.sk-label label {font-family: monospace;font-weight: bold;display: inline-block;line-height: 1.2em;}#sk-container-id-10 div.sk-label-container {text-align: center;}#sk-container-id-10 div.sk-container {/* jupyter's `normalize.less` sets `[hidden] { display: none; }` but bootstrap.min.css set `[hidden] { display: none !important; }` so we also need the `!important` here to be able to override the default hidden behavior on the sphinx rendered scikit-learn.org. See: https://github.com/scikit-learn/scikit-learn/issues/21755 */display: inline-block !important;position: relative;}#sk-container-id-10 div.sk-text-repr-fallback {display: none;}</style><div id=\"sk-container-id-10\" class=\"sk-top-container\"><div class=\"sk-text-repr-fallback\"><pre>GridSearchCV(estimator=Pipeline(steps=[(&#x27;transform&#x27;, StandardScaler()),\n",
       "                                       (&#x27;dt&#x27;,\n",
       "                                        DecisionTreeClassifier(random_state=42))]),\n",
       "             param_grid={&#x27;dt__criterion&#x27;: [&#x27;gini&#x27;, &#x27;entropy&#x27;],\n",
       "                         &#x27;dt__max_depth&#x27;: [1, 2, 3, 4, 5, 6, 7, 8, 9, 10],\n",
       "                         &#x27;dt__min_samples_leaf&#x27;: [2, 5],\n",
       "                         &#x27;dt__min_samples_split&#x27;: [0.05, 0.1, 0.2]},\n",
       "             scoring=&#x27;roc_auc&#x27;)</pre><b>In a Jupyter environment, please rerun this cell to show the HTML representation or trust the notebook. <br />On GitHub, the HTML representation is unable to render, please try loading this page with nbviewer.org.</b></div><div class=\"sk-container\" hidden><div class=\"sk-item sk-dashed-wrapped\"><div class=\"sk-label-container\"><div class=\"sk-label sk-toggleable\"><input class=\"sk-toggleable__control sk-hidden--visually\" id=\"sk-estimator-id-29\" type=\"checkbox\" ><label for=\"sk-estimator-id-29\" class=\"sk-toggleable__label sk-toggleable__label-arrow\">GridSearchCV</label><div class=\"sk-toggleable__content\"><pre>GridSearchCV(estimator=Pipeline(steps=[(&#x27;transform&#x27;, StandardScaler()),\n",
       "                                       (&#x27;dt&#x27;,\n",
       "                                        DecisionTreeClassifier(random_state=42))]),\n",
       "             param_grid={&#x27;dt__criterion&#x27;: [&#x27;gini&#x27;, &#x27;entropy&#x27;],\n",
       "                         &#x27;dt__max_depth&#x27;: [1, 2, 3, 4, 5, 6, 7, 8, 9, 10],\n",
       "                         &#x27;dt__min_samples_leaf&#x27;: [2, 5],\n",
       "                         &#x27;dt__min_samples_split&#x27;: [0.05, 0.1, 0.2]},\n",
       "             scoring=&#x27;roc_auc&#x27;)</pre></div></div></div><div class=\"sk-parallel\"><div class=\"sk-parallel-item\"><div class=\"sk-item\"><div class=\"sk-label-container\"><div class=\"sk-label sk-toggleable\"><input class=\"sk-toggleable__control sk-hidden--visually\" id=\"sk-estimator-id-30\" type=\"checkbox\" ><label for=\"sk-estimator-id-30\" class=\"sk-toggleable__label sk-toggleable__label-arrow\">estimator: Pipeline</label><div class=\"sk-toggleable__content\"><pre>Pipeline(steps=[(&#x27;transform&#x27;, StandardScaler()),\n",
       "                (&#x27;dt&#x27;, DecisionTreeClassifier(random_state=42))])</pre></div></div></div><div class=\"sk-serial\"><div class=\"sk-item\"><div class=\"sk-serial\"><div class=\"sk-item\"><div class=\"sk-estimator sk-toggleable\"><input class=\"sk-toggleable__control sk-hidden--visually\" id=\"sk-estimator-id-31\" type=\"checkbox\" ><label for=\"sk-estimator-id-31\" class=\"sk-toggleable__label sk-toggleable__label-arrow\">StandardScaler</label><div class=\"sk-toggleable__content\"><pre>StandardScaler()</pre></div></div></div><div class=\"sk-item\"><div class=\"sk-estimator sk-toggleable\"><input class=\"sk-toggleable__control sk-hidden--visually\" id=\"sk-estimator-id-32\" type=\"checkbox\" ><label for=\"sk-estimator-id-32\" class=\"sk-toggleable__label sk-toggleable__label-arrow\">DecisionTreeClassifier</label><div class=\"sk-toggleable__content\"><pre>DecisionTreeClassifier(random_state=42)</pre></div></div></div></div></div></div></div></div></div></div></div></div>"
      ],
      "text/plain": [
       "GridSearchCV(estimator=Pipeline(steps=[('transform', StandardScaler()),\n",
       "                                       ('dt',\n",
       "                                        DecisionTreeClassifier(random_state=42))]),\n",
       "             param_grid={'dt__criterion': ['gini', 'entropy'],\n",
       "                         'dt__max_depth': [1, 2, 3, 4, 5, 6, 7, 8, 9, 10],\n",
       "                         'dt__min_samples_leaf': [2, 5],\n",
       "                         'dt__min_samples_split': [0.05, 0.1, 0.2]},\n",
       "             scoring='roc_auc')"
      ]
     },
     "execution_count": 149,
     "metadata": {},
     "output_type": "execute_result"
    }
   ],
   "source": [
    "dt_params = {'dt__max_depth': [i for i in range(1, 11)],\n",
    "         'dt__min_samples_split': [0.05,0.1, 0.2],\n",
    "          'dt__criterion': ['gini', 'entropy'],\n",
    "          'dt__min_samples_leaf': [2, 5]\n",
    "         }\n",
    "dt_grid = GridSearchCV(dt_pipe, param_grid = dt_params, scoring='roc_auc')\n",
    "dt_grid.fit(X_train, y_train)"
   ]
  },
  {
   "cell_type": "code",
   "execution_count": 150,
   "id": "bcdd607f",
   "metadata": {},
   "outputs": [
    {
     "name": "stdout",
     "output_type": "stream",
     "text": [
      "              precision    recall  f1-score   support\n",
      "\n",
      "           0       0.75      0.63      0.69     19588\n",
      "           1       0.49      0.63      0.55     10942\n",
      "\n",
      "    accuracy                           0.63     30530\n",
      "   macro avg       0.62      0.63      0.62     30530\n",
      "weighted avg       0.66      0.63      0.64     30530\n",
      "\n",
      "Train Accuracy:  0.67\n",
      "Test Accuracy    :  0.66508313\n",
      "Train Time: 12.2155179977417\n",
      "Best parameters: {'dt__criterion': 'gini', 'dt__max_depth': 8, 'dt__min_samples_leaf': 2, 'dt__min_samples_split': 0.05}\n"
     ]
    }
   ],
   "source": [
    "dt_train_acc_g = dt_grid.score(X_train, y_train)\n",
    "dt_test_acc_g = dt_grid.score(X_test, y_test)\n",
    "dt_best_params_g = dt_grid.best_params_\n",
    "dt_predictions_g = dt_grid.predict(X_test)\n",
    "\n",
    "### Results\n",
    "print(classification_report(dt_predictions_g, y_test))\n",
    "\n",
    "print(f'Train Accuracy: {dt_train_acc_g: .2f}')\n",
    "print(f'Test Accuracy    : {dt_test_acc_g: .8f}')\n",
    "print(f'Train Time: {np.sum(dt_grid.cv_results_[\"mean_fit_time\"])}')\n",
    "print(f'Best parameters: {dt_best_params_g}')"
   ]
  },
  {
   "cell_type": "markdown",
   "id": "0cc77440",
   "metadata": {},
   "source": [
    "### Find Best SVM Using Grid Search CV / Randomized Search CV (faster but less accurate)"
   ]
  },
  {
   "cell_type": "markdown",
   "id": "d5ad7059",
   "metadata": {},
   "source": [
    "Note: Can be run on faster performing machines in the future to improve the SVC model by adjusting parameters."
   ]
  },
  {
   "cell_type": "markdown",
   "id": "a1406397",
   "metadata": {},
   "source": [
    "##### Set parmas"
   ]
  },
  {
   "cell_type": "code",
   "execution_count": 143,
   "id": "d0d6aee4",
   "metadata": {},
   "outputs": [],
   "source": [
    "#svc_params = [\n",
    "#    {\"svc__kernel\": [\"linear\"], \"svc__gamma\": [0.1, 1, 10, 100, 1000]},\n",
    "#    {\"svc__kernel\": [\"poly\"], \"svc__degree\": [2, 3], \"svc__gamma\": [0.1, 1, 10, 100, 1000]},\n",
    "#    {\"svc__kernel\": [\"rbf\"], \"svc__gamma\": [0.1, 1, 10, 100, 1000]},\n",
    "#]"
   ]
  },
  {
   "cell_type": "code",
   "execution_count": 144,
   "id": "c7160a9e",
   "metadata": {},
   "outputs": [],
   "source": [
    "#Alternative : Running with fewer parameters for better performance because of machine limitation\n",
    "#svc_params = [\n",
    "#    {\"svc__kernel\": [\"linear\"], \"svc__gamma\": [0.1, 1, 10]},\n",
    "#    {\"svc__kernel\": [\"poly\"], \"svc__degree\": [2], \"svc__gamma\": [0.1, 1, 10]},\n",
    "#    {\"svc__kernel\": [\"rbf\"], \"svc__gamma\": [0.1, 1, 10]},\n",
    "#]"
   ]
  },
  {
   "cell_type": "markdown",
   "id": "faa1c0fd",
   "metadata": {},
   "source": [
    "##### Grid Search CV"
   ]
  },
  {
   "cell_type": "code",
   "execution_count": 145,
   "id": "9931e788",
   "metadata": {},
   "outputs": [],
   "source": [
    "#svc_grid = GridSearchCV(svc_pipe, param_grid = svc_params, scoring='roc_auc')\n",
    "#svc_grid.fit(X_train, y_train)"
   ]
  },
  {
   "cell_type": "markdown",
   "id": "9eb07c9d",
   "metadata": {},
   "source": [
    "##### Randomized Search CV (Faster alternate)"
   ]
  },
  {
   "cell_type": "code",
   "execution_count": 146,
   "id": "572a3098",
   "metadata": {},
   "outputs": [],
   "source": [
    "#Use Randomized Search CV with fewer iterations to improve performance becasue GridSearch CV could not run and took for ever\n",
    "# (ideally we'd choose n_iter of 100)\n",
    "\n",
    "#Method 1: More defaults \n",
    "#svc_grid = RandomizedSearchCV(svc_pipe, param_distributions=svc_params)\n",
    "\n",
    "#Alternative Method 2: More paremters selected\n",
    "#svc_grid = RandomizedSearchCV(svc_pipe, param_distributions=svc_params, n_iter = 20, n_jobs = 4, cv = 3, scoring='roc_auc')\n",
    "#svc_grid.fit(X_train, y_train)"
   ]
  },
  {
   "cell_type": "markdown",
   "id": "07625848",
   "metadata": {},
   "source": [
    "##### SVC Grid Results"
   ]
  },
  {
   "cell_type": "code",
   "execution_count": 147,
   "id": "33c98d16",
   "metadata": {},
   "outputs": [],
   "source": [
    "#svc_train_acc_g = svc_grid.score(X_train, y_train)\n",
    "#svc_test_acc_g = svc_grid.score(X_test, y_test)\n",
    "#svc_best_params_g= svc_grid.best_params_\n",
    "#svc_predictions_g = svc_grid.predict(X_test)\n",
    "\n",
    "### Results\n",
    "#print(classification_report(lr_predictions_g, y_test))\n",
    "\n",
    "#print(f'Train Accuracy: {svc_train_acc_g: .2f}')\n",
    "#print(f'Test Accuracy    : {svc_test_acc_g: .8f}')\n",
    "#print(f'Train Time: {np.sum(svc_grid.cv_results_[\"mean_fit_time\"])}')\n",
    "#print(f'Best parameters: {svc_best_params_g}')"
   ]
  },
  {
   "cell_type": "markdown",
   "id": "f95c9c38",
   "metadata": {},
   "source": [
    "### Results Dataframe"
   ]
  },
  {
   "cell_type": "code",
   "execution_count": 151,
   "id": "8cc90b4d",
   "metadata": {},
   "outputs": [
    {
     "data": {
      "text/html": [
       "<div>\n",
       "<style scoped>\n",
       "    .dataframe tbody tr th:only-of-type {\n",
       "        vertical-align: middle;\n",
       "    }\n",
       "\n",
       "    .dataframe tbody tr th {\n",
       "        vertical-align: top;\n",
       "    }\n",
       "\n",
       "    .dataframe thead th {\n",
       "        text-align: right;\n",
       "    }\n",
       "</style>\n",
       "<table border=\"1\" class=\"dataframe\">\n",
       "  <thead>\n",
       "    <tr style=\"text-align: right;\">\n",
       "      <th></th>\n",
       "      <th>KNN</th>\n",
       "      <th>Decision Tree</th>\n",
       "      <th>Logistic Regression</th>\n",
       "    </tr>\n",
       "  </thead>\n",
       "  <tbody>\n",
       "    <tr>\n",
       "      <th>Train Accuracy</th>\n",
       "      <td>1.0</td>\n",
       "      <td>0.665681</td>\n",
       "      <td>0.653698</td>\n",
       "    </tr>\n",
       "    <tr>\n",
       "      <th>Test Accuracy</th>\n",
       "      <td>0.652816</td>\n",
       "      <td>0.665083</td>\n",
       "      <td>0.653978</td>\n",
       "    </tr>\n",
       "    <tr>\n",
       "      <th>Train Time</th>\n",
       "      <td>3.147925</td>\n",
       "      <td>12.215518</td>\n",
       "      <td>0.645656</td>\n",
       "    </tr>\n",
       "  </tbody>\n",
       "</table>\n",
       "</div>"
      ],
      "text/plain": [
       "                     KNN Decision Tree Logistic Regression\n",
       "Train Accuracy       1.0      0.665681            0.653698\n",
       "Test Accuracy   0.652816      0.665083            0.653978\n",
       "Train Time      3.147925     12.215518            0.645656"
      ]
     },
     "execution_count": 151,
     "metadata": {},
     "output_type": "execute_result"
    }
   ],
   "source": [
    "# Results Dataframe: - Can include SVM results in future with better performing systems\n",
    "\n",
    "results_df_g = pd.DataFrame({'KNN':pd.Series(knn_best_params_g),\n",
    "                         'Decision Tree':pd.Series(dt_best_params_g),\n",
    "                         'Logistic Regression':pd.Series(lr_best_params_g) #,\n",
    "                         #'Support Vector':pd.Series(svc_best_params_g)\n",
    "                        })\n",
    "\n",
    "results_df_g.loc['Train Accuracy', :] =  [knn_train_acc_g, dt_train_acc_g,lr_train_acc_g] #, svc_train_acc_g]\n",
    "results_df_g.loc['Test Accuracy', :] =  [knn_test_acc_g, dt_test_acc_g,lr_test_acc_g] #, svc_test_acc_g]\n",
    "results_df_g.loc['Train Time', :] = [np.sum(knn_grid.cv_results_['mean_fit_time']),\n",
    "                                      np.sum(dt_grid.cv_results_['mean_fit_time']),\n",
    "                                      np.sum(lr_grid.cv_results_['mean_fit_time']) #,\n",
    "                                      #np.sum(svc_grid.cv_results_['mean_fit_time'])]\n",
    "                                  ]\n",
    "\n",
    "results_df_g.dropna()"
   ]
  },
  {
   "cell_type": "code",
   "execution_count": 152,
   "id": "1f82a59c",
   "metadata": {},
   "outputs": [
    {
     "data": {
      "text/html": [
       "<div>\n",
       "<style scoped>\n",
       "    .dataframe tbody tr th:only-of-type {\n",
       "        vertical-align: middle;\n",
       "    }\n",
       "\n",
       "    .dataframe tbody tr th {\n",
       "        vertical-align: top;\n",
       "    }\n",
       "\n",
       "    .dataframe thead th {\n",
       "        text-align: right;\n",
       "    }\n",
       "</style>\n",
       "<table border=\"1\" class=\"dataframe\">\n",
       "  <thead>\n",
       "    <tr style=\"text-align: right;\">\n",
       "      <th></th>\n",
       "      <th>KNN</th>\n",
       "      <th>Decision Tree</th>\n",
       "      <th>Logistic Regression</th>\n",
       "    </tr>\n",
       "  </thead>\n",
       "  <tbody>\n",
       "    <tr>\n",
       "      <th>dt__criterion</th>\n",
       "      <td>NaN</td>\n",
       "      <td>gini</td>\n",
       "      <td>NaN</td>\n",
       "    </tr>\n",
       "    <tr>\n",
       "      <th>dt__max_depth</th>\n",
       "      <td>NaN</td>\n",
       "      <td>8</td>\n",
       "      <td>NaN</td>\n",
       "    </tr>\n",
       "    <tr>\n",
       "      <th>dt__min_samples_leaf</th>\n",
       "      <td>NaN</td>\n",
       "      <td>2</td>\n",
       "      <td>NaN</td>\n",
       "    </tr>\n",
       "    <tr>\n",
       "      <th>dt__min_samples_split</th>\n",
       "      <td>NaN</td>\n",
       "      <td>0.05</td>\n",
       "      <td>NaN</td>\n",
       "    </tr>\n",
       "    <tr>\n",
       "      <th>knn__n_neighbors</th>\n",
       "      <td>49</td>\n",
       "      <td>NaN</td>\n",
       "      <td>NaN</td>\n",
       "    </tr>\n",
       "    <tr>\n",
       "      <th>knn__weights</th>\n",
       "      <td>distance</td>\n",
       "      <td>NaN</td>\n",
       "      <td>NaN</td>\n",
       "    </tr>\n",
       "    <tr>\n",
       "      <th>lr__C</th>\n",
       "      <td>NaN</td>\n",
       "      <td>NaN</td>\n",
       "      <td>100.0</td>\n",
       "    </tr>\n",
       "    <tr>\n",
       "      <th>lr__penalty</th>\n",
       "      <td>NaN</td>\n",
       "      <td>NaN</td>\n",
       "      <td>l2</td>\n",
       "    </tr>\n",
       "    <tr>\n",
       "      <th>Train Accuracy</th>\n",
       "      <td>1.0</td>\n",
       "      <td>0.665681</td>\n",
       "      <td>0.653698</td>\n",
       "    </tr>\n",
       "    <tr>\n",
       "      <th>Test Accuracy</th>\n",
       "      <td>0.652816</td>\n",
       "      <td>0.665083</td>\n",
       "      <td>0.653978</td>\n",
       "    </tr>\n",
       "    <tr>\n",
       "      <th>Train Time</th>\n",
       "      <td>3.147925</td>\n",
       "      <td>12.215518</td>\n",
       "      <td>0.645656</td>\n",
       "    </tr>\n",
       "  </tbody>\n",
       "</table>\n",
       "</div>"
      ],
      "text/plain": [
       "                            KNN Decision Tree Logistic Regression\n",
       "dt__criterion               NaN          gini                 NaN\n",
       "dt__max_depth               NaN             8                 NaN\n",
       "dt__min_samples_leaf        NaN             2                 NaN\n",
       "dt__min_samples_split       NaN          0.05                 NaN\n",
       "knn__n_neighbors             49           NaN                 NaN\n",
       "knn__weights           distance           NaN                 NaN\n",
       "lr__C                       NaN           NaN               100.0\n",
       "lr__penalty                 NaN           NaN                  l2\n",
       "Train Accuracy              1.0      0.665681            0.653698\n",
       "Test Accuracy          0.652816      0.665083            0.653978\n",
       "Train Time             3.147925     12.215518            0.645656"
      ]
     },
     "execution_count": 152,
     "metadata": {},
     "output_type": "execute_result"
    }
   ],
   "source": [
    "results_df_g #Including best parameters for each model"
   ]
  },
  {
   "cell_type": "markdown",
   "id": "6f8aee53",
   "metadata": {},
   "source": [
    "## Compare best fit for each model"
   ]
  },
  {
   "cell_type": "markdown",
   "id": "a40883c2",
   "metadata": {},
   "source": [
    "### Fit best KNN classifier"
   ]
  },
  {
   "cell_type": "code",
   "execution_count": 156,
   "id": "5bacd3fc",
   "metadata": {},
   "outputs": [],
   "source": [
    "knn_pipe_best = Pipeline([('transform', StandardScaler()), ('knn', KNeighborsClassifier(n_neighbors=49, weights = 'distance'))])"
   ]
  },
  {
   "cell_type": "code",
   "execution_count": 157,
   "id": "4a3ab226",
   "metadata": {},
   "outputs": [
    {
     "data": {
      "text/html": [
       "<style>#sk-container-id-11 {color: black;background-color: white;}#sk-container-id-11 pre{padding: 0;}#sk-container-id-11 div.sk-toggleable {background-color: white;}#sk-container-id-11 label.sk-toggleable__label {cursor: pointer;display: block;width: 100%;margin-bottom: 0;padding: 0.3em;box-sizing: border-box;text-align: center;}#sk-container-id-11 label.sk-toggleable__label-arrow:before {content: \"▸\";float: left;margin-right: 0.25em;color: #696969;}#sk-container-id-11 label.sk-toggleable__label-arrow:hover:before {color: black;}#sk-container-id-11 div.sk-estimator:hover label.sk-toggleable__label-arrow:before {color: black;}#sk-container-id-11 div.sk-toggleable__content {max-height: 0;max-width: 0;overflow: hidden;text-align: left;background-color: #f0f8ff;}#sk-container-id-11 div.sk-toggleable__content pre {margin: 0.2em;color: black;border-radius: 0.25em;background-color: #f0f8ff;}#sk-container-id-11 input.sk-toggleable__control:checked~div.sk-toggleable__content {max-height: 200px;max-width: 100%;overflow: auto;}#sk-container-id-11 input.sk-toggleable__control:checked~label.sk-toggleable__label-arrow:before {content: \"▾\";}#sk-container-id-11 div.sk-estimator input.sk-toggleable__control:checked~label.sk-toggleable__label {background-color: #d4ebff;}#sk-container-id-11 div.sk-label input.sk-toggleable__control:checked~label.sk-toggleable__label {background-color: #d4ebff;}#sk-container-id-11 input.sk-hidden--visually {border: 0;clip: rect(1px 1px 1px 1px);clip: rect(1px, 1px, 1px, 1px);height: 1px;margin: -1px;overflow: hidden;padding: 0;position: absolute;width: 1px;}#sk-container-id-11 div.sk-estimator {font-family: monospace;background-color: #f0f8ff;border: 1px dotted black;border-radius: 0.25em;box-sizing: border-box;margin-bottom: 0.5em;}#sk-container-id-11 div.sk-estimator:hover {background-color: #d4ebff;}#sk-container-id-11 div.sk-parallel-item::after {content: \"\";width: 100%;border-bottom: 1px solid gray;flex-grow: 1;}#sk-container-id-11 div.sk-label:hover label.sk-toggleable__label {background-color: #d4ebff;}#sk-container-id-11 div.sk-serial::before {content: \"\";position: absolute;border-left: 1px solid gray;box-sizing: border-box;top: 0;bottom: 0;left: 50%;z-index: 0;}#sk-container-id-11 div.sk-serial {display: flex;flex-direction: column;align-items: center;background-color: white;padding-right: 0.2em;padding-left: 0.2em;position: relative;}#sk-container-id-11 div.sk-item {position: relative;z-index: 1;}#sk-container-id-11 div.sk-parallel {display: flex;align-items: stretch;justify-content: center;background-color: white;position: relative;}#sk-container-id-11 div.sk-item::before, #sk-container-id-11 div.sk-parallel-item::before {content: \"\";position: absolute;border-left: 1px solid gray;box-sizing: border-box;top: 0;bottom: 0;left: 50%;z-index: -1;}#sk-container-id-11 div.sk-parallel-item {display: flex;flex-direction: column;z-index: 1;position: relative;background-color: white;}#sk-container-id-11 div.sk-parallel-item:first-child::after {align-self: flex-end;width: 50%;}#sk-container-id-11 div.sk-parallel-item:last-child::after {align-self: flex-start;width: 50%;}#sk-container-id-11 div.sk-parallel-item:only-child::after {width: 0;}#sk-container-id-11 div.sk-dashed-wrapped {border: 1px dashed gray;margin: 0 0.4em 0.5em 0.4em;box-sizing: border-box;padding-bottom: 0.4em;background-color: white;}#sk-container-id-11 div.sk-label label {font-family: monospace;font-weight: bold;display: inline-block;line-height: 1.2em;}#sk-container-id-11 div.sk-label-container {text-align: center;}#sk-container-id-11 div.sk-container {/* jupyter's `normalize.less` sets `[hidden] { display: none; }` but bootstrap.min.css set `[hidden] { display: none !important; }` so we also need the `!important` here to be able to override the default hidden behavior on the sphinx rendered scikit-learn.org. See: https://github.com/scikit-learn/scikit-learn/issues/21755 */display: inline-block !important;position: relative;}#sk-container-id-11 div.sk-text-repr-fallback {display: none;}</style><div id=\"sk-container-id-11\" class=\"sk-top-container\"><div class=\"sk-text-repr-fallback\"><pre>Pipeline(steps=[(&#x27;transform&#x27;, StandardScaler()),\n",
       "                (&#x27;knn&#x27;,\n",
       "                 KNeighborsClassifier(n_neighbors=49, weights=&#x27;distance&#x27;))])</pre><b>In a Jupyter environment, please rerun this cell to show the HTML representation or trust the notebook. <br />On GitHub, the HTML representation is unable to render, please try loading this page with nbviewer.org.</b></div><div class=\"sk-container\" hidden><div class=\"sk-item sk-dashed-wrapped\"><div class=\"sk-label-container\"><div class=\"sk-label sk-toggleable\"><input class=\"sk-toggleable__control sk-hidden--visually\" id=\"sk-estimator-id-33\" type=\"checkbox\" ><label for=\"sk-estimator-id-33\" class=\"sk-toggleable__label sk-toggleable__label-arrow\">Pipeline</label><div class=\"sk-toggleable__content\"><pre>Pipeline(steps=[(&#x27;transform&#x27;, StandardScaler()),\n",
       "                (&#x27;knn&#x27;,\n",
       "                 KNeighborsClassifier(n_neighbors=49, weights=&#x27;distance&#x27;))])</pre></div></div></div><div class=\"sk-serial\"><div class=\"sk-item\"><div class=\"sk-estimator sk-toggleable\"><input class=\"sk-toggleable__control sk-hidden--visually\" id=\"sk-estimator-id-34\" type=\"checkbox\" ><label for=\"sk-estimator-id-34\" class=\"sk-toggleable__label sk-toggleable__label-arrow\">StandardScaler</label><div class=\"sk-toggleable__content\"><pre>StandardScaler()</pre></div></div></div><div class=\"sk-item\"><div class=\"sk-estimator sk-toggleable\"><input class=\"sk-toggleable__control sk-hidden--visually\" id=\"sk-estimator-id-35\" type=\"checkbox\" ><label for=\"sk-estimator-id-35\" class=\"sk-toggleable__label sk-toggleable__label-arrow\">KNeighborsClassifier</label><div class=\"sk-toggleable__content\"><pre>KNeighborsClassifier(n_neighbors=49, weights=&#x27;distance&#x27;)</pre></div></div></div></div></div></div></div>"
      ],
      "text/plain": [
       "Pipeline(steps=[('transform', StandardScaler()),\n",
       "                ('knn',\n",
       "                 KNeighborsClassifier(n_neighbors=49, weights='distance'))])"
      ]
     },
     "execution_count": 157,
     "metadata": {},
     "output_type": "execute_result"
    }
   ],
   "source": [
    "knn_pipe_best.fit(X_train, y_train)"
   ]
  },
  {
   "cell_type": "markdown",
   "id": "0ded90fb",
   "metadata": {},
   "source": [
    "### Fit best Decision Tree"
   ]
  },
  {
   "cell_type": "code",
   "execution_count": 158,
   "id": "f749b2b8",
   "metadata": {},
   "outputs": [],
   "source": [
    "dtree_pipe_best = Pipeline([('transform', StandardScaler()), ('knn', DecisionTreeClassifier(random_state=42, criterion = 'gini',\n",
    "                                                                                      max_depth = 8, min_samples_leaf =2,\n",
    "                                                                                      min_samples_split = 0.05))])"
   ]
  },
  {
   "cell_type": "code",
   "execution_count": 159,
   "id": "2142bb04",
   "metadata": {},
   "outputs": [
    {
     "data": {
      "text/html": [
       "<style>#sk-container-id-12 {color: black;background-color: white;}#sk-container-id-12 pre{padding: 0;}#sk-container-id-12 div.sk-toggleable {background-color: white;}#sk-container-id-12 label.sk-toggleable__label {cursor: pointer;display: block;width: 100%;margin-bottom: 0;padding: 0.3em;box-sizing: border-box;text-align: center;}#sk-container-id-12 label.sk-toggleable__label-arrow:before {content: \"▸\";float: left;margin-right: 0.25em;color: #696969;}#sk-container-id-12 label.sk-toggleable__label-arrow:hover:before {color: black;}#sk-container-id-12 div.sk-estimator:hover label.sk-toggleable__label-arrow:before {color: black;}#sk-container-id-12 div.sk-toggleable__content {max-height: 0;max-width: 0;overflow: hidden;text-align: left;background-color: #f0f8ff;}#sk-container-id-12 div.sk-toggleable__content pre {margin: 0.2em;color: black;border-radius: 0.25em;background-color: #f0f8ff;}#sk-container-id-12 input.sk-toggleable__control:checked~div.sk-toggleable__content {max-height: 200px;max-width: 100%;overflow: auto;}#sk-container-id-12 input.sk-toggleable__control:checked~label.sk-toggleable__label-arrow:before {content: \"▾\";}#sk-container-id-12 div.sk-estimator input.sk-toggleable__control:checked~label.sk-toggleable__label {background-color: #d4ebff;}#sk-container-id-12 div.sk-label input.sk-toggleable__control:checked~label.sk-toggleable__label {background-color: #d4ebff;}#sk-container-id-12 input.sk-hidden--visually {border: 0;clip: rect(1px 1px 1px 1px);clip: rect(1px, 1px, 1px, 1px);height: 1px;margin: -1px;overflow: hidden;padding: 0;position: absolute;width: 1px;}#sk-container-id-12 div.sk-estimator {font-family: monospace;background-color: #f0f8ff;border: 1px dotted black;border-radius: 0.25em;box-sizing: border-box;margin-bottom: 0.5em;}#sk-container-id-12 div.sk-estimator:hover {background-color: #d4ebff;}#sk-container-id-12 div.sk-parallel-item::after {content: \"\";width: 100%;border-bottom: 1px solid gray;flex-grow: 1;}#sk-container-id-12 div.sk-label:hover label.sk-toggleable__label {background-color: #d4ebff;}#sk-container-id-12 div.sk-serial::before {content: \"\";position: absolute;border-left: 1px solid gray;box-sizing: border-box;top: 0;bottom: 0;left: 50%;z-index: 0;}#sk-container-id-12 div.sk-serial {display: flex;flex-direction: column;align-items: center;background-color: white;padding-right: 0.2em;padding-left: 0.2em;position: relative;}#sk-container-id-12 div.sk-item {position: relative;z-index: 1;}#sk-container-id-12 div.sk-parallel {display: flex;align-items: stretch;justify-content: center;background-color: white;position: relative;}#sk-container-id-12 div.sk-item::before, #sk-container-id-12 div.sk-parallel-item::before {content: \"\";position: absolute;border-left: 1px solid gray;box-sizing: border-box;top: 0;bottom: 0;left: 50%;z-index: -1;}#sk-container-id-12 div.sk-parallel-item {display: flex;flex-direction: column;z-index: 1;position: relative;background-color: white;}#sk-container-id-12 div.sk-parallel-item:first-child::after {align-self: flex-end;width: 50%;}#sk-container-id-12 div.sk-parallel-item:last-child::after {align-self: flex-start;width: 50%;}#sk-container-id-12 div.sk-parallel-item:only-child::after {width: 0;}#sk-container-id-12 div.sk-dashed-wrapped {border: 1px dashed gray;margin: 0 0.4em 0.5em 0.4em;box-sizing: border-box;padding-bottom: 0.4em;background-color: white;}#sk-container-id-12 div.sk-label label {font-family: monospace;font-weight: bold;display: inline-block;line-height: 1.2em;}#sk-container-id-12 div.sk-label-container {text-align: center;}#sk-container-id-12 div.sk-container {/* jupyter's `normalize.less` sets `[hidden] { display: none; }` but bootstrap.min.css set `[hidden] { display: none !important; }` so we also need the `!important` here to be able to override the default hidden behavior on the sphinx rendered scikit-learn.org. See: https://github.com/scikit-learn/scikit-learn/issues/21755 */display: inline-block !important;position: relative;}#sk-container-id-12 div.sk-text-repr-fallback {display: none;}</style><div id=\"sk-container-id-12\" class=\"sk-top-container\"><div class=\"sk-text-repr-fallback\"><pre>Pipeline(steps=[(&#x27;transform&#x27;, StandardScaler()),\n",
       "                (&#x27;knn&#x27;,\n",
       "                 DecisionTreeClassifier(max_depth=8, min_samples_leaf=2,\n",
       "                                        min_samples_split=0.05,\n",
       "                                        random_state=42))])</pre><b>In a Jupyter environment, please rerun this cell to show the HTML representation or trust the notebook. <br />On GitHub, the HTML representation is unable to render, please try loading this page with nbviewer.org.</b></div><div class=\"sk-container\" hidden><div class=\"sk-item sk-dashed-wrapped\"><div class=\"sk-label-container\"><div class=\"sk-label sk-toggleable\"><input class=\"sk-toggleable__control sk-hidden--visually\" id=\"sk-estimator-id-36\" type=\"checkbox\" ><label for=\"sk-estimator-id-36\" class=\"sk-toggleable__label sk-toggleable__label-arrow\">Pipeline</label><div class=\"sk-toggleable__content\"><pre>Pipeline(steps=[(&#x27;transform&#x27;, StandardScaler()),\n",
       "                (&#x27;knn&#x27;,\n",
       "                 DecisionTreeClassifier(max_depth=8, min_samples_leaf=2,\n",
       "                                        min_samples_split=0.05,\n",
       "                                        random_state=42))])</pre></div></div></div><div class=\"sk-serial\"><div class=\"sk-item\"><div class=\"sk-estimator sk-toggleable\"><input class=\"sk-toggleable__control sk-hidden--visually\" id=\"sk-estimator-id-37\" type=\"checkbox\" ><label for=\"sk-estimator-id-37\" class=\"sk-toggleable__label sk-toggleable__label-arrow\">StandardScaler</label><div class=\"sk-toggleable__content\"><pre>StandardScaler()</pre></div></div></div><div class=\"sk-item\"><div class=\"sk-estimator sk-toggleable\"><input class=\"sk-toggleable__control sk-hidden--visually\" id=\"sk-estimator-id-38\" type=\"checkbox\" ><label for=\"sk-estimator-id-38\" class=\"sk-toggleable__label sk-toggleable__label-arrow\">DecisionTreeClassifier</label><div class=\"sk-toggleable__content\"><pre>DecisionTreeClassifier(max_depth=8, min_samples_leaf=2, min_samples_split=0.05,\n",
       "                       random_state=42)</pre></div></div></div></div></div></div></div>"
      ],
      "text/plain": [
       "Pipeline(steps=[('transform', StandardScaler()),\n",
       "                ('knn',\n",
       "                 DecisionTreeClassifier(max_depth=8, min_samples_leaf=2,\n",
       "                                        min_samples_split=0.05,\n",
       "                                        random_state=42))])"
      ]
     },
     "execution_count": 159,
     "metadata": {},
     "output_type": "execute_result"
    }
   ],
   "source": [
    "dtree_pipe_best.fit(X_train, y_train)"
   ]
  },
  {
   "cell_type": "markdown",
   "id": "cfbd89c2",
   "metadata": {},
   "source": [
    "### Fit best Logistic Regression"
   ]
  },
  {
   "cell_type": "code",
   "execution_count": 160,
   "id": "f1fb54cf",
   "metadata": {},
   "outputs": [],
   "source": [
    "lr_pipe_best = Pipeline([('transform', StandardScaler()), ('lr', LogisticRegression( C= 100, penalty = 'l2'))])"
   ]
  },
  {
   "cell_type": "code",
   "execution_count": 161,
   "id": "3d4121ad",
   "metadata": {},
   "outputs": [
    {
     "data": {
      "text/html": [
       "<style>#sk-container-id-13 {color: black;background-color: white;}#sk-container-id-13 pre{padding: 0;}#sk-container-id-13 div.sk-toggleable {background-color: white;}#sk-container-id-13 label.sk-toggleable__label {cursor: pointer;display: block;width: 100%;margin-bottom: 0;padding: 0.3em;box-sizing: border-box;text-align: center;}#sk-container-id-13 label.sk-toggleable__label-arrow:before {content: \"▸\";float: left;margin-right: 0.25em;color: #696969;}#sk-container-id-13 label.sk-toggleable__label-arrow:hover:before {color: black;}#sk-container-id-13 div.sk-estimator:hover label.sk-toggleable__label-arrow:before {color: black;}#sk-container-id-13 div.sk-toggleable__content {max-height: 0;max-width: 0;overflow: hidden;text-align: left;background-color: #f0f8ff;}#sk-container-id-13 div.sk-toggleable__content pre {margin: 0.2em;color: black;border-radius: 0.25em;background-color: #f0f8ff;}#sk-container-id-13 input.sk-toggleable__control:checked~div.sk-toggleable__content {max-height: 200px;max-width: 100%;overflow: auto;}#sk-container-id-13 input.sk-toggleable__control:checked~label.sk-toggleable__label-arrow:before {content: \"▾\";}#sk-container-id-13 div.sk-estimator input.sk-toggleable__control:checked~label.sk-toggleable__label {background-color: #d4ebff;}#sk-container-id-13 div.sk-label input.sk-toggleable__control:checked~label.sk-toggleable__label {background-color: #d4ebff;}#sk-container-id-13 input.sk-hidden--visually {border: 0;clip: rect(1px 1px 1px 1px);clip: rect(1px, 1px, 1px, 1px);height: 1px;margin: -1px;overflow: hidden;padding: 0;position: absolute;width: 1px;}#sk-container-id-13 div.sk-estimator {font-family: monospace;background-color: #f0f8ff;border: 1px dotted black;border-radius: 0.25em;box-sizing: border-box;margin-bottom: 0.5em;}#sk-container-id-13 div.sk-estimator:hover {background-color: #d4ebff;}#sk-container-id-13 div.sk-parallel-item::after {content: \"\";width: 100%;border-bottom: 1px solid gray;flex-grow: 1;}#sk-container-id-13 div.sk-label:hover label.sk-toggleable__label {background-color: #d4ebff;}#sk-container-id-13 div.sk-serial::before {content: \"\";position: absolute;border-left: 1px solid gray;box-sizing: border-box;top: 0;bottom: 0;left: 50%;z-index: 0;}#sk-container-id-13 div.sk-serial {display: flex;flex-direction: column;align-items: center;background-color: white;padding-right: 0.2em;padding-left: 0.2em;position: relative;}#sk-container-id-13 div.sk-item {position: relative;z-index: 1;}#sk-container-id-13 div.sk-parallel {display: flex;align-items: stretch;justify-content: center;background-color: white;position: relative;}#sk-container-id-13 div.sk-item::before, #sk-container-id-13 div.sk-parallel-item::before {content: \"\";position: absolute;border-left: 1px solid gray;box-sizing: border-box;top: 0;bottom: 0;left: 50%;z-index: -1;}#sk-container-id-13 div.sk-parallel-item {display: flex;flex-direction: column;z-index: 1;position: relative;background-color: white;}#sk-container-id-13 div.sk-parallel-item:first-child::after {align-self: flex-end;width: 50%;}#sk-container-id-13 div.sk-parallel-item:last-child::after {align-self: flex-start;width: 50%;}#sk-container-id-13 div.sk-parallel-item:only-child::after {width: 0;}#sk-container-id-13 div.sk-dashed-wrapped {border: 1px dashed gray;margin: 0 0.4em 0.5em 0.4em;box-sizing: border-box;padding-bottom: 0.4em;background-color: white;}#sk-container-id-13 div.sk-label label {font-family: monospace;font-weight: bold;display: inline-block;line-height: 1.2em;}#sk-container-id-13 div.sk-label-container {text-align: center;}#sk-container-id-13 div.sk-container {/* jupyter's `normalize.less` sets `[hidden] { display: none; }` but bootstrap.min.css set `[hidden] { display: none !important; }` so we also need the `!important` here to be able to override the default hidden behavior on the sphinx rendered scikit-learn.org. See: https://github.com/scikit-learn/scikit-learn/issues/21755 */display: inline-block !important;position: relative;}#sk-container-id-13 div.sk-text-repr-fallback {display: none;}</style><div id=\"sk-container-id-13\" class=\"sk-top-container\"><div class=\"sk-text-repr-fallback\"><pre>Pipeline(steps=[(&#x27;transform&#x27;, StandardScaler()),\n",
       "                (&#x27;lr&#x27;, LogisticRegression(C=100))])</pre><b>In a Jupyter environment, please rerun this cell to show the HTML representation or trust the notebook. <br />On GitHub, the HTML representation is unable to render, please try loading this page with nbviewer.org.</b></div><div class=\"sk-container\" hidden><div class=\"sk-item sk-dashed-wrapped\"><div class=\"sk-label-container\"><div class=\"sk-label sk-toggleable\"><input class=\"sk-toggleable__control sk-hidden--visually\" id=\"sk-estimator-id-39\" type=\"checkbox\" ><label for=\"sk-estimator-id-39\" class=\"sk-toggleable__label sk-toggleable__label-arrow\">Pipeline</label><div class=\"sk-toggleable__content\"><pre>Pipeline(steps=[(&#x27;transform&#x27;, StandardScaler()),\n",
       "                (&#x27;lr&#x27;, LogisticRegression(C=100))])</pre></div></div></div><div class=\"sk-serial\"><div class=\"sk-item\"><div class=\"sk-estimator sk-toggleable\"><input class=\"sk-toggleable__control sk-hidden--visually\" id=\"sk-estimator-id-40\" type=\"checkbox\" ><label for=\"sk-estimator-id-40\" class=\"sk-toggleable__label sk-toggleable__label-arrow\">StandardScaler</label><div class=\"sk-toggleable__content\"><pre>StandardScaler()</pre></div></div></div><div class=\"sk-item\"><div class=\"sk-estimator sk-toggleable\"><input class=\"sk-toggleable__control sk-hidden--visually\" id=\"sk-estimator-id-41\" type=\"checkbox\" ><label for=\"sk-estimator-id-41\" class=\"sk-toggleable__label sk-toggleable__label-arrow\">LogisticRegression</label><div class=\"sk-toggleable__content\"><pre>LogisticRegression(C=100)</pre></div></div></div></div></div></div></div>"
      ],
      "text/plain": [
       "Pipeline(steps=[('transform', StandardScaler()),\n",
       "                ('lr', LogisticRegression(C=100))])"
      ]
     },
     "execution_count": 161,
     "metadata": {},
     "output_type": "execute_result"
    }
   ],
   "source": [
    "lr_pipe_best.fit(X_train, y_train)"
   ]
  },
  {
   "cell_type": "markdown",
   "id": "44d411f6",
   "metadata": {},
   "source": [
    "### Fit best Support Vector (SVM)"
   ]
  },
  {
   "cell_type": "code",
   "execution_count": 153,
   "id": "9785bb9f",
   "metadata": {},
   "outputs": [],
   "source": [
    "#svc_pipe_best = Pipeline([('transform', StandardScaler()), ('svc', SVC(gamma=0.1, kernel='rbf'))])"
   ]
  },
  {
   "cell_type": "code",
   "execution_count": 154,
   "id": "a96e943d",
   "metadata": {},
   "outputs": [],
   "source": [
    "#svc_pipe_best.fit(X_train, y_train)"
   ]
  },
  {
   "cell_type": "markdown",
   "id": "29cfcac4",
   "metadata": {},
   "source": [
    "## Plot Precision-Recall Curves"
   ]
  },
  {
   "cell_type": "code",
   "execution_count": 162,
   "id": "1cf2688f",
   "metadata": {},
   "outputs": [
    {
     "data": {
      "image/png": "[encoded data removed]",
      "text/plain": [
       "<Figure size 720x576 with 1 Axes>"
      ]
     },
     "metadata": {},
     "output_type": "display_data"
    }
   ],
   "source": [
    "#Plot ROC Curves for all models\n",
    "fig, ax = plt.subplots(figsize=(10,8))\n",
    "PrecisionRecallDisplay.from_estimator(knn_pipe_best, X_test, y_test, pos_label = 1, ax = ax, label = 'KNN')\n",
    "PrecisionRecallDisplay.from_estimator(dtree_pipe_best, X_test, y_test, pos_label = 1, ax = ax, label = 'Decision Tree')\n",
    "PrecisionRecallDisplay.from_estimator(lr_pipe_best, X_test, y_test, pos_label = 1, ax = ax, label = 'Logistic Regression')\n",
    "#PrecisionRecallDisplay.from_estimator(svc_pipe_best, X_test, y_test, pos_label = 1, ax = ax, label = 'SVM')\n",
    "plt.plot(np.arange(0, 1.1, .1), np.arange(0, 1.1, .1), label = 'baseline')\n",
    "plt.title('Precision-Recall Curves')\n",
    "plt.legend()\n",
    "plt.grid(True)"
   ]
  },
  {
   "cell_type": "markdown",
   "id": "46e6d97d",
   "metadata": {},
   "source": [
    "## Plot ROC Curves"
   ]
  },
  {
   "cell_type": "code",
   "execution_count": 163,
   "id": "43acd5e2",
   "metadata": {},
   "outputs": [
    {
     "data": {
      "image/png": "[encoded data removed]",
      "text/plain": [
       "<Figure size 720x576 with 1 Axes>"
      ]
     },
     "metadata": {},
     "output_type": "display_data"
    }
   ],
   "source": [
    "#Plot ROC Curves for all models\n",
    "fig, ax = plt.subplots(figsize=(10,8))\n",
    "RocCurveDisplay.from_estimator(knn_pipe_best, X_test, y_test, pos_label = 1, ax = ax, label = 'KNN')\n",
    "RocCurveDisplay.from_estimator(dtree_pipe_best, X_test, y_test, pos_label = 1, ax = ax, label = 'Decision Tree')\n",
    "RocCurveDisplay.from_estimator(lr_pipe_best, X_test, y_test, pos_label = 1, ax = ax, label = 'Logistic Regression')\n",
    "#RocCurveDisplay.from_estimator(svc_pipe_best, X_test, y_test, pos_label = 1, ax = ax, label = 'SVM')\n",
    "plt.plot(np.arange(0, 1.1, .1), np.arange(0, 1.1, .1), label = 'baseline')\n",
    "plt.title('ROC Curves')\n",
    "plt.legend()\n",
    "plt.grid(True)"
   ]
  },
  {
   "cell_type": "markdown",
   "id": "965c589d",
   "metadata": {},
   "source": [
    "## Confusion Matrices"
   ]
  },
  {
   "cell_type": "code",
   "execution_count": 164,
   "id": "edf15ab8",
   "metadata": {},
   "outputs": [
    {
     "data": {
      "image/png": "[encoded data removed]",
      "text/plain": [
       "<Figure size 1440x288 with 7 Axes>"
      ]
     },
     "metadata": {},
     "output_type": "display_data"
    }
   ],
   "source": [
    "# plot confusion matrices\n",
    "fig, ax = plt.subplots(1, 4, figsize = (20, 4))\n",
    "ConfusionMatrixDisplay.from_estimator(knn_pipe_best, X_test, y_test, ax = ax[0])\n",
    "ConfusionMatrixDisplay.from_estimator(dtree_pipe_best, X_test, y_test, ax = ax[1])\n",
    "ConfusionMatrixDisplay.from_estimator(lr_pipe_best, X_test, y_test, ax = ax[2])\n",
    "#ConfusionMatrixDisplay.from_estimator(svc_pipe_best, X_test, y_test, ax = ax[3])\n",
    "ax[0].grid(False)\n",
    "ax[1].grid(False)\n",
    "ax[2].grid(False)\n",
    "ax[3].grid(False)\n",
    "ax[0].set_title('K Nearest Neighbors')\n",
    "ax[1].set_title('Decision Tree')\n",
    "ax[2].set_title('Logistic Regression')\n",
    "#ax[3].set_title('Support Vector')\n",
    "plt.show()"
   ]
  },
  {
   "cell_type": "markdown",
   "id": "f2de85c6",
   "metadata": {},
   "source": [
    "## Conclusion"
   ]
  },
  {
   "cell_type": "code",
   "execution_count": 165,
   "id": "3ffe308c",
   "metadata": {},
   "outputs": [
    {
     "data": {
      "text/html": [
       "<div>\n",
       "<style scoped>\n",
       "    .dataframe tbody tr th:only-of-type {\n",
       "        vertical-align: middle;\n",
       "    }\n",
       "\n",
       "    .dataframe tbody tr th {\n",
       "        vertical-align: top;\n",
       "    }\n",
       "\n",
       "    .dataframe thead th {\n",
       "        text-align: right;\n",
       "    }\n",
       "</style>\n",
       "<table border=\"1\" class=\"dataframe\">\n",
       "  <thead>\n",
       "    <tr style=\"text-align: right;\">\n",
       "      <th></th>\n",
       "      <th>Train Time</th>\n",
       "      <th>Train Accuracy</th>\n",
       "      <th>Test Accuracy</th>\n",
       "    </tr>\n",
       "    <tr>\n",
       "      <th>Model</th>\n",
       "      <th></th>\n",
       "      <th></th>\n",
       "      <th></th>\n",
       "    </tr>\n",
       "  </thead>\n",
       "  <tbody>\n",
       "    <tr>\n",
       "      <th>Decision Tree</th>\n",
       "      <td>0.468750</td>\n",
       "      <td>0.999789</td>\n",
       "      <td>0.561055</td>\n",
       "    </tr>\n",
       "    <tr>\n",
       "      <th>KNN</th>\n",
       "      <td>0.062500</td>\n",
       "      <td>0.727203</td>\n",
       "      <td>0.585031</td>\n",
       "    </tr>\n",
       "    <tr>\n",
       "      <th>Logistic Regression</th>\n",
       "      <td>0.359375</td>\n",
       "      <td>0.617146</td>\n",
       "      <td>0.619096</td>\n",
       "    </tr>\n",
       "    <tr>\n",
       "      <th>Support Vector</th>\n",
       "      <td>426.859375</td>\n",
       "      <td>0.650135</td>\n",
       "      <td>0.633213</td>\n",
       "    </tr>\n",
       "  </tbody>\n",
       "</table>\n",
       "</div>"
      ],
      "text/plain": [
       "                     Train Time  Train Accuracy  Test Accuracy\n",
       "Model                                                         \n",
       "Decision Tree          0.468750        0.999789       0.561055\n",
       "KNN                    0.062500        0.727203       0.585031\n",
       "Logistic Regression    0.359375        0.617146       0.619096\n",
       "Support Vector       426.859375        0.650135       0.633213"
      ]
     },
     "execution_count": 165,
     "metadata": {},
     "output_type": "execute_result"
    }
   ],
   "source": [
    "#Results with defaults\n",
    "results_df"
   ]
  },
  {
   "cell_type": "code",
   "execution_count": 166,
   "id": "811f4e45",
   "metadata": {},
   "outputs": [
    {
     "data": {
      "text/html": [
       "<div>\n",
       "<style scoped>\n",
       "    .dataframe tbody tr th:only-of-type {\n",
       "        vertical-align: middle;\n",
       "    }\n",
       "\n",
       "    .dataframe tbody tr th {\n",
       "        vertical-align: top;\n",
       "    }\n",
       "\n",
       "    .dataframe thead th {\n",
       "        text-align: right;\n",
       "    }\n",
       "</style>\n",
       "<table border=\"1\" class=\"dataframe\">\n",
       "  <thead>\n",
       "    <tr style=\"text-align: right;\">\n",
       "      <th></th>\n",
       "      <th>KNN</th>\n",
       "      <th>Decision Tree</th>\n",
       "      <th>Logistic Regression</th>\n",
       "    </tr>\n",
       "  </thead>\n",
       "  <tbody>\n",
       "    <tr>\n",
       "      <th>Train Accuracy</th>\n",
       "      <td>1.0</td>\n",
       "      <td>0.665681</td>\n",
       "      <td>0.653698</td>\n",
       "    </tr>\n",
       "    <tr>\n",
       "      <th>Test Accuracy</th>\n",
       "      <td>0.652816</td>\n",
       "      <td>0.665083</td>\n",
       "      <td>0.653978</td>\n",
       "    </tr>\n",
       "    <tr>\n",
       "      <th>Train Time</th>\n",
       "      <td>3.147925</td>\n",
       "      <td>12.215518</td>\n",
       "      <td>0.645656</td>\n",
       "    </tr>\n",
       "  </tbody>\n",
       "</table>\n",
       "</div>"
      ],
      "text/plain": [
       "                     KNN Decision Tree Logistic Regression\n",
       "Train Accuracy       1.0      0.665681            0.653698\n",
       "Test Accuracy   0.652816      0.665083            0.653978\n",
       "Train Time      3.147925     12.215518            0.645656"
      ]
     },
     "execution_count": 166,
     "metadata": {},
     "output_type": "execute_result"
    }
   ],
   "source": [
    "#Results after Grid Search\n",
    "results_df_g.dropna()"
   ]
  },
  {
   "cell_type": "markdown",
   "id": "13334cc8",
   "metadata": {},
   "source": [
    "As we can see from the results from the Grid Search, all 3 models test accuracies improved. The logistic regression has the fastest time and the decision tree has the highest test accuracy (0.665). In terms of test accuracy logistic regression and decision tree are not far behind. Support Vector had a very long run time and it wasn't cosnidered for Grid Search CV using the available machine. \n",
    "The overall best model I would recommend in terms of both test accuracy(0.6539) and time and it's simplicity is the logistic regression model with c=100 and ridge(L2) penalty."
   ]
  },
  {
   "cell_type": "markdown",
   "id": "b45d731b",
   "metadata": {},
   "source": [
    "## Further Recommendations"
   ]
  },
  {
   "cell_type": "markdown",
   "id": "138bb8c2",
   "metadata": {},
   "source": [
    "In the future, I would recommend also running Grid Search CV or Randomized Search CV for the SVM model on a more performance capable device/ server.Also, we limited the data to only include the first 7 factors while creating these models. In the future, we could try to examine models that consider all factors available. We can use factor importance to pick the most important factors from them."
   ]
  },
  {
   "cell_type": "markdown",
   "id": "d4ffe283",
   "metadata": {},
   "source": [
    "## Questions"
   ]
  },
  {
   "cell_type": "code",
   "execution_count": null,
   "id": "681da480",
   "metadata": {},
   "outputs": [],
   "source": []
  }
 ],
 "metadata": {
  "kernelspec": {
   "display_name": "Python 3 (ipykernel)",
   "language": "python",
   "name": "python3"
  },
  "language_info": {
   "codemirror_mode": {
    "name": "ipython",
    "version": 3
   },
   "file_extension": ".py",
   "mimetype": "text/x-python",
   "name": "python",
   "nbconvert_exporter": "python",
   "pygments_lexer": "ipython3",
   "version": "3.9.7"
  }
 },
 "nbformat": 4,
 "nbformat_minor": 5
}
